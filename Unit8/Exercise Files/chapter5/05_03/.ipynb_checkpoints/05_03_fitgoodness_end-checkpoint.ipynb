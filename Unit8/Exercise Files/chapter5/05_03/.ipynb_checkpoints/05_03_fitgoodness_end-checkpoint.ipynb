{
 "cells": [
  {
   "cell_type": "markdown",
   "metadata": {},
   "source": [
    "## Python statistics essential training - 05_03_fitgoodness"
   ]
  },
  {
   "cell_type": "markdown",
   "metadata": {},
   "source": [
    "Standard imports"
   ]
  },
  {
   "cell_type": "code",
   "execution_count": 2,
   "metadata": {},
   "outputs": [],
   "source": [
    "import math"
   ]
  },
  {
   "cell_type": "code",
   "execution_count": 3,
   "metadata": {},
   "outputs": [],
   "source": [
    "import numpy as np\n",
    "import pandas as pd"
   ]
  },
  {
   "cell_type": "code",
   "execution_count": 4,
   "metadata": {},
   "outputs": [],
   "source": [
    "import matplotlib\n",
    "import matplotlib.pyplot as pp"
   ]
  },
  {
   "cell_type": "code",
   "execution_count": 5,
   "metadata": {},
   "outputs": [],
   "source": [
    "%matplotlib inline"
   ]
  },
  {
   "cell_type": "code",
   "execution_count": 6,
   "metadata": {},
   "outputs": [],
   "source": [
    "import statsmodels\n",
    "import statsmodels.api as sm\n",
    "import statsmodels.formula.api as smf"
   ]
  },
  {
   "cell_type": "markdown",
   "metadata": {},
   "source": [
    "Loading gapminder data for year 1985 (Live Aid!) and setting up plot as in chapter 3"
   ]
  },
  {
   "cell_type": "code",
   "execution_count": 7,
   "metadata": {},
   "outputs": [],
   "source": [
    "gapminder = pd.read_csv('gapminder.csv')"
   ]
  },
  {
   "cell_type": "code",
   "execution_count": 8,
   "metadata": {},
   "outputs": [],
   "source": [
    "gdata = gapminder.query('year == 1985')"
   ]
  },
  {
   "cell_type": "code",
   "execution_count": 9,
   "metadata": {},
   "outputs": [
    {
     "data": {
      "text/html": [
       "<div>\n",
       "<style scoped>\n",
       "    .dataframe tbody tr th:only-of-type {\n",
       "        vertical-align: middle;\n",
       "    }\n",
       "\n",
       "    .dataframe tbody tr th {\n",
       "        vertical-align: top;\n",
       "    }\n",
       "\n",
       "    .dataframe thead th {\n",
       "        text-align: right;\n",
       "    }\n",
       "</style>\n",
       "<table border=\"1\" class=\"dataframe\">\n",
       "  <thead>\n",
       "    <tr style=\"text-align: right;\">\n",
       "      <th></th>\n",
       "      <th>country</th>\n",
       "      <th>year</th>\n",
       "      <th>region</th>\n",
       "      <th>population</th>\n",
       "      <th>life_expectancy</th>\n",
       "      <th>age5_surviving</th>\n",
       "      <th>babies_per_woman</th>\n",
       "      <th>gdp_per_capita</th>\n",
       "      <th>gdp_per_day</th>\n",
       "    </tr>\n",
       "  </thead>\n",
       "  <tbody>\n",
       "    <tr>\n",
       "      <td>50</td>\n",
       "      <td>Afghanistan</td>\n",
       "      <td>1985</td>\n",
       "      <td>Asia</td>\n",
       "      <td>11630498.0</td>\n",
       "      <td>45.21</td>\n",
       "      <td>78.400</td>\n",
       "      <td>7.68</td>\n",
       "      <td>1384.0</td>\n",
       "      <td>3.789185</td>\n",
       "    </tr>\n",
       "    <tr>\n",
       "      <td>131</td>\n",
       "      <td>Albania</td>\n",
       "      <td>1985</td>\n",
       "      <td>Europe</td>\n",
       "      <td>2966799.0</td>\n",
       "      <td>72.71</td>\n",
       "      <td>94.570</td>\n",
       "      <td>3.23</td>\n",
       "      <td>4267.0</td>\n",
       "      <td>11.682409</td>\n",
       "    </tr>\n",
       "    <tr>\n",
       "      <td>212</td>\n",
       "      <td>Algeria</td>\n",
       "      <td>1985</td>\n",
       "      <td>Africa</td>\n",
       "      <td>22565908.0</td>\n",
       "      <td>67.18</td>\n",
       "      <td>92.880</td>\n",
       "      <td>5.98</td>\n",
       "      <td>11030.0</td>\n",
       "      <td>30.198494</td>\n",
       "    </tr>\n",
       "    <tr>\n",
       "      <td>293</td>\n",
       "      <td>Angola</td>\n",
       "      <td>1985</td>\n",
       "      <td>Africa</td>\n",
       "      <td>9745209.0</td>\n",
       "      <td>47.50</td>\n",
       "      <td>77.170</td>\n",
       "      <td>7.21</td>\n",
       "      <td>4117.0</td>\n",
       "      <td>11.271732</td>\n",
       "    </tr>\n",
       "    <tr>\n",
       "      <td>374</td>\n",
       "      <td>Antigua and Barbuda</td>\n",
       "      <td>1985</td>\n",
       "      <td>America</td>\n",
       "      <td>65744.0</td>\n",
       "      <td>72.13</td>\n",
       "      <td>96.946</td>\n",
       "      <td>2.09</td>\n",
       "      <td>11383.0</td>\n",
       "      <td>31.164956</td>\n",
       "    </tr>\n",
       "    <tr>\n",
       "      <td>...</td>\n",
       "      <td>...</td>\n",
       "      <td>...</td>\n",
       "      <td>...</td>\n",
       "      <td>...</td>\n",
       "      <td>...</td>\n",
       "      <td>...</td>\n",
       "      <td>...</td>\n",
       "      <td>...</td>\n",
       "      <td>...</td>\n",
       "    </tr>\n",
       "    <tr>\n",
       "      <td>14385</td>\n",
       "      <td>Venezuela</td>\n",
       "      <td>1985</td>\n",
       "      <td>America</td>\n",
       "      <td>17508059.0</td>\n",
       "      <td>70.89</td>\n",
       "      <td>96.390</td>\n",
       "      <td>3.79</td>\n",
       "      <td>13874.0</td>\n",
       "      <td>37.984942</td>\n",
       "    </tr>\n",
       "    <tr>\n",
       "      <td>14466</td>\n",
       "      <td>Vietnam</td>\n",
       "      <td>1985</td>\n",
       "      <td>Asia</td>\n",
       "      <td>61049370.0</td>\n",
       "      <td>67.77</td>\n",
       "      <td>93.970</td>\n",
       "      <td>4.21</td>\n",
       "      <td>1345.0</td>\n",
       "      <td>3.682409</td>\n",
       "    </tr>\n",
       "    <tr>\n",
       "      <td>14547</td>\n",
       "      <td>Yemen</td>\n",
       "      <td>1985</td>\n",
       "      <td>Asia</td>\n",
       "      <td>9774242.0</td>\n",
       "      <td>55.69</td>\n",
       "      <td>84.730</td>\n",
       "      <td>9.19</td>\n",
       "      <td>3526.0</td>\n",
       "      <td>9.653662</td>\n",
       "    </tr>\n",
       "    <tr>\n",
       "      <td>14628</td>\n",
       "      <td>Zambia</td>\n",
       "      <td>1985</td>\n",
       "      <td>Africa</td>\n",
       "      <td>7017292.0</td>\n",
       "      <td>55.54</td>\n",
       "      <td>83.300</td>\n",
       "      <td>6.80</td>\n",
       "      <td>2602.0</td>\n",
       "      <td>7.123888</td>\n",
       "    </tr>\n",
       "    <tr>\n",
       "      <td>14709</td>\n",
       "      <td>Zimbabwe</td>\n",
       "      <td>1985</td>\n",
       "      <td>Africa</td>\n",
       "      <td>8862601.0</td>\n",
       "      <td>64.86</td>\n",
       "      <td>92.310</td>\n",
       "      <td>6.22</td>\n",
       "      <td>2395.0</td>\n",
       "      <td>6.557153</td>\n",
       "    </tr>\n",
       "  </tbody>\n",
       "</table>\n",
       "<p>182 rows × 9 columns</p>\n",
       "</div>"
      ],
      "text/plain": [
       "                   country  year   region  population  life_expectancy  \\\n",
       "50             Afghanistan  1985     Asia  11630498.0            45.21   \n",
       "131                Albania  1985   Europe   2966799.0            72.71   \n",
       "212                Algeria  1985   Africa  22565908.0            67.18   \n",
       "293                 Angola  1985   Africa   9745209.0            47.50   \n",
       "374    Antigua and Barbuda  1985  America     65744.0            72.13   \n",
       "...                    ...   ...      ...         ...              ...   \n",
       "14385            Venezuela  1985  America  17508059.0            70.89   \n",
       "14466              Vietnam  1985     Asia  61049370.0            67.77   \n",
       "14547                Yemen  1985     Asia   9774242.0            55.69   \n",
       "14628               Zambia  1985   Africa   7017292.0            55.54   \n",
       "14709             Zimbabwe  1985   Africa   8862601.0            64.86   \n",
       "\n",
       "       age5_surviving  babies_per_woman  gdp_per_capita  gdp_per_day  \n",
       "50             78.400              7.68          1384.0     3.789185  \n",
       "131            94.570              3.23          4267.0    11.682409  \n",
       "212            92.880              5.98         11030.0    30.198494  \n",
       "293            77.170              7.21          4117.0    11.271732  \n",
       "374            96.946              2.09         11383.0    31.164956  \n",
       "...               ...               ...             ...          ...  \n",
       "14385          96.390              3.79         13874.0    37.984942  \n",
       "14466          93.970              4.21          1345.0     3.682409  \n",
       "14547          84.730              9.19          3526.0     9.653662  \n",
       "14628          83.300              6.80          2602.0     7.123888  \n",
       "14709          92.310              6.22          2395.0     6.557153  \n",
       "\n",
       "[182 rows x 9 columns]"
      ]
     },
     "execution_count": 9,
     "metadata": {},
     "output_type": "execute_result"
    }
   ],
   "source": [
    "gdata"
   ]
  },
  {
   "cell_type": "code",
   "execution_count": 14,
   "metadata": {},
   "outputs": [],
   "source": [
    "size = 1e-6 * gdata.population\n",
    "\n",
    "colors = gdata.region.map({'Africa': 'skyblue', 'Europe': 'gold', 'America': 'palegreen', 'Asia': 'coral'})\n",
    "\n",
    "def plotdata():\n",
    "    gdata.plot.scatter('age5_surviving','babies_per_woman',\n",
    "                      c=colors,s=size,linewidths=0.5,edgecolor='k',alpha=0.5)"
   ]
  },
  {
   "cell_type": "markdown",
   "metadata": {},
   "source": [
    "Setting up model plot"
   ]
  },
  {
   "cell_type": "code",
   "execution_count": 15,
   "metadata": {},
   "outputs": [],
   "source": [
    "def plotfit(fit):\n",
    "    plotdata()\n",
    "    pp.scatter(gdata.age5_surviving,fit.predict(gdata),\n",
    "               c=colors,s=30,linewidths=0.5,edgecolor='k',marker='D')"
   ]
  },
  {
   "cell_type": "markdown",
   "metadata": {},
   "source": [
    "Three models from last video"
   ]
  },
  {
   "cell_type": "code",
   "execution_count": 24,
   "metadata": {},
   "outputs": [],
   "source": [
    "groupmeans = smf.ols(formula='babies_per_woman ~ -1 + region', data=gdata).fit()"
   ]
  },
  {
   "cell_type": "code",
   "execution_count": 25,
   "metadata": {},
   "outputs": [],
   "source": [
    "surviving = smf.ols(formula='babies_per_woman ~ -1 + region + age5_surviving', data=gdata).fit()"
   ]
  },
  {
   "cell_type": "code",
   "execution_count": 26,
   "metadata": {},
   "outputs": [],
   "source": [
    "surviving_byregion_population = smf.ols(\n",
    "    formula='babies_per_woman ~ -1 + region + age5_surviving'\n",
    "            '+ age5_surviving:region - age5_surviving + population',\n",
    "    data=gdata).fit()"
   ]
  },
  {
   "cell_type": "code",
   "execution_count": 27,
   "metadata": {},
   "outputs": [],
   "source": [
    "srv = smf.ols(formula = 'babies_per_woman ~ -1 + region + population + age5_surviving + age5_surviving:region - age5_surviving', data = gdata).fit()"
   ]
  },
  {
   "cell_type": "code",
   "execution_count": 23,
   "metadata": {},
   "outputs": [
    {
     "data": {
      "text/plain": [
       "region[Africa]                    1.513953e+01\n",
       "region[America]                   2.721512e+01\n",
       "region[Asia]                      2.060924e+01\n",
       "region[Europe]                    1.997501e+01\n",
       "population                       -2.367908e-09\n",
       "age5_surviving:region[Africa]    -1.044609e-01\n",
       "age5_surviving:region[America]   -2.484114e-01\n",
       "age5_surviving:region[Asia]      -1.702392e-01\n",
       "age5_surviving:region[Europe]    -1.835316e-01\n",
       "dtype: float64"
      ]
     },
     "execution_count": 23,
     "metadata": {},
     "output_type": "execute_result"
    }
   ],
   "source": [
    "srv.params"
   ]
  },
  {
   "cell_type": "code",
   "execution_count": 16,
   "metadata": {},
   "outputs": [
    {
     "data": {
      "image/png": "[encoded data removed]",
      "text/plain": [
       "<Figure size 432x288 with 1 Axes>"
      ]
     },
     "metadata": {
      "needs_background": "light"
     },
     "output_type": "display_data"
    }
   ],
   "source": [
    "plotfit(srv)"
   ]
  },
  {
   "cell_type": "code",
   "execution_count": 21,
   "metadata": {},
   "outputs": [
    {
     "data": {
      "text/plain": [
       "region[Africa]                    1.513953e+01\n",
       "region[America]                   2.721512e+01\n",
       "region[Asia]                      2.060924e+01\n",
       "region[Europe]                    1.997501e+01\n",
       "age5_surviving:region[Africa]    -1.044609e-01\n",
       "age5_surviving:region[America]   -2.484114e-01\n",
       "age5_surviving:region[Asia]      -1.702392e-01\n",
       "age5_surviving:region[Europe]    -1.835316e-01\n",
       "population                       -2.367914e-09\n",
       "dtype: float64"
      ]
     },
     "execution_count": 21,
     "metadata": {},
     "output_type": "execute_result"
    }
   ],
   "source": [
    "surviving_byregion_population.params"
   ]
  },
  {
   "cell_type": "code",
   "execution_count": 28,
   "metadata": {},
   "outputs": [
    {
     "data": {
      "image/png": "[encoded data removed]",
      "text/plain": [
       "<Figure size 432x288 with 1 Axes>"
      ]
     },
     "metadata": {
      "needs_background": "light"
     },
     "output_type": "display_data"
    }
   ],
   "source": [
    "plotfit(surviving_byregion_population)"
   ]
  },
  {
   "cell_type": "code",
   "execution_count": 30,
   "metadata": {},
   "outputs": [
    {
     "data": {
      "text/plain": [
       "<matplotlib.collections.PathCollection at 0x7f26de2a9550>"
      ]
     },
     "execution_count": 30,
     "metadata": {},
     "output_type": "execute_result"
    },
    {
     "data": {
      "image/png": "[encoded data removed]",
      "text/plain": [
       "<Figure size 432x288 with 1 Axes>"
      ]
     },
     "metadata": {
      "needs_background": "light"
     },
     "output_type": "display_data"
    }
   ],
   "source": [
    "pp.scatter(gdata.age5_surviving,groupmeans.resid, color='red')\n",
    "pp.scatter(gdata.age5_surviving,surviving.resid, color='green')\n",
    "pp.scatter(gdata.age5_surviving,surviving_byregion_population.resid, color='blue')"
   ]
  },
  {
   "cell_type": "code",
   "execution_count": 31,
   "metadata": {},
   "outputs": [
    {
     "name": "stdout",
     "output_type": "stream",
     "text": [
      "1.4979520263709156\n",
      "0.9423025333008324\n",
      "0.8480227300570317\n"
     ]
    }
   ],
   "source": [
    "for model in [groupmeans,surviving,surviving_byregion_population]:\n",
    "    print(model.mse_resid)"
   ]
  },
  {
   "cell_type": "code",
   "execution_count": 32,
   "metadata": {},
   "outputs": [
    {
     "name": "stdout",
     "output_type": "stream",
     "text": [
      "0.6364676965596588\n",
      "0.7726009080146058\n",
      "0.7999775707885218\n"
     ]
    }
   ],
   "source": [
    "for model in [groupmeans,surviving,surviving_byregion_population]:\n",
    "    print(model.rsquared)"
   ]
  },
  {
   "cell_type": "code",
   "execution_count": 19,
   "metadata": {},
   "outputs": [
    {
     "name": "stdout",
     "output_type": "stream",
     "text": [
      "103.88003937611684\n",
      "150.3418060343098\n",
      "86.48787556725166\n"
     ]
    }
   ],
   "source": [
    "for model in [groupmeans,surviving,surviving_byregion_population]:\n",
    "    print(model.fvalue)"
   ]
  },
  {
   "cell_type": "code",
   "execution_count": 33,
   "metadata": {},
   "outputs": [
    {
     "data": {
      "text/html": [
       "<table class=\"simpletable\">\n",
       "<caption>OLS Regression Results</caption>\n",
       "<tr>\n",
       "  <th>Dep. Variable:</th>    <td>babies_per_woman</td> <th>  R-squared:         </th> <td>   0.773</td>\n",
       "</tr>\n",
       "<tr>\n",
       "  <th>Model:</th>                   <td>OLS</td>       <th>  Adj. R-squared:    </th> <td>   0.767</td>\n",
       "</tr>\n",
       "<tr>\n",
       "  <th>Method:</th>             <td>Least Squares</td>  <th>  F-statistic:       </th> <td>   150.3</td>\n",
       "</tr>\n",
       "<tr>\n",
       "  <th>Date:</th>             <td>Sat, 18 Apr 2020</td> <th>  Prob (F-statistic):</th> <td>8.26e-56</td>\n",
       "</tr>\n",
       "<tr>\n",
       "  <th>Time:</th>                 <td>23:48:22</td>     <th>  Log-Likelihood:    </th> <td> -250.30</td>\n",
       "</tr>\n",
       "<tr>\n",
       "  <th>No. Observations:</th>      <td>   182</td>      <th>  AIC:               </th> <td>   510.6</td>\n",
       "</tr>\n",
       "<tr>\n",
       "  <th>Df Residuals:</th>          <td>   177</td>      <th>  BIC:               </th> <td>   526.6</td>\n",
       "</tr>\n",
       "<tr>\n",
       "  <th>Df Model:</th>              <td>     4</td>      <th>                     </th>     <td> </td>   \n",
       "</tr>\n",
       "<tr>\n",
       "  <th>Covariance Type:</th>      <td>nonrobust</td>    <th>                     </th>     <td> </td>   \n",
       "</tr>\n",
       "</table>\n",
       "<table class=\"simpletable\">\n",
       "<tr>\n",
       "         <td></td>            <th>coef</th>     <th>std err</th>      <th>t</th>      <th>P>|t|</th>  <th>[0.025</th>    <th>0.975]</th>  \n",
       "</tr>\n",
       "<tr>\n",
       "  <th>region[Africa]</th>  <td>   18.2658</td> <td>    1.168</td> <td>   15.639</td> <td> 0.000</td> <td>   15.961</td> <td>   20.571</td>\n",
       "</tr>\n",
       "<tr>\n",
       "  <th>region[America]</th> <td>   17.0859</td> <td>    1.315</td> <td>   12.990</td> <td> 0.000</td> <td>   14.490</td> <td>   19.682</td>\n",
       "</tr>\n",
       "<tr>\n",
       "  <th>region[Asia]</th>    <td>   17.8647</td> <td>    1.279</td> <td>   13.971</td> <td> 0.000</td> <td>   15.341</td> <td>   20.388</td>\n",
       "</tr>\n",
       "<tr>\n",
       "  <th>region[Europe]</th>  <td>   15.8722</td> <td>    1.352</td> <td>   11.739</td> <td> 0.000</td> <td>   13.204</td> <td>   18.541</td>\n",
       "</tr>\n",
       "<tr>\n",
       "  <th>age5_surviving</th>  <td>   -0.1419</td> <td>    0.014</td> <td>  -10.294</td> <td> 0.000</td> <td>   -0.169</td> <td>   -0.115</td>\n",
       "</tr>\n",
       "</table>\n",
       "<table class=\"simpletable\">\n",
       "<tr>\n",
       "  <th>Omnibus:</th>       <td>13.021</td> <th>  Durbin-Watson:     </th> <td>   1.947</td>\n",
       "</tr>\n",
       "<tr>\n",
       "  <th>Prob(Omnibus):</th> <td> 0.001</td> <th>  Jarque-Bera (JB):  </th> <td>  18.362</td>\n",
       "</tr>\n",
       "<tr>\n",
       "  <th>Skew:</th>          <td> 0.443</td> <th>  Prob(JB):          </th> <td>0.000103</td>\n",
       "</tr>\n",
       "<tr>\n",
       "  <th>Kurtosis:</th>      <td> 4.279</td> <th>  Cond. No.          </th> <td>3.25e+03</td>\n",
       "</tr>\n",
       "</table><br/><br/>Warnings:<br/>[1] Standard Errors assume that the covariance matrix of the errors is correctly specified.<br/>[2] The condition number is large, 3.25e+03. This might indicate that there are<br/>strong multicollinearity or other numerical problems."
      ],
      "text/plain": [
       "<class 'statsmodels.iolib.summary.Summary'>\n",
       "\"\"\"\n",
       "                            OLS Regression Results                            \n",
       "==============================================================================\n",
       "Dep. Variable:       babies_per_woman   R-squared:                       0.773\n",
       "Model:                            OLS   Adj. R-squared:                  0.767\n",
       "Method:                 Least Squares   F-statistic:                     150.3\n",
       "Date:                Sat, 18 Apr 2020   Prob (F-statistic):           8.26e-56\n",
       "Time:                        23:48:22   Log-Likelihood:                -250.30\n",
       "No. Observations:                 182   AIC:                             510.6\n",
       "Df Residuals:                     177   BIC:                             526.6\n",
       "Df Model:                           4                                         \n",
       "Covariance Type:            nonrobust                                         \n",
       "===================================================================================\n",
       "                      coef    std err          t      P>|t|      [0.025      0.975]\n",
       "-----------------------------------------------------------------------------------\n",
       "region[Africa]     18.2658      1.168     15.639      0.000      15.961      20.571\n",
       "region[America]    17.0859      1.315     12.990      0.000      14.490      19.682\n",
       "region[Asia]       17.8647      1.279     13.971      0.000      15.341      20.388\n",
       "region[Europe]     15.8722      1.352     11.739      0.000      13.204      18.541\n",
       "age5_surviving     -0.1419      0.014    -10.294      0.000      -0.169      -0.115\n",
       "==============================================================================\n",
       "Omnibus:                       13.021   Durbin-Watson:                   1.947\n",
       "Prob(Omnibus):                  0.001   Jarque-Bera (JB):               18.362\n",
       "Skew:                           0.443   Prob(JB):                     0.000103\n",
       "Kurtosis:                       4.279   Cond. No.                     3.25e+03\n",
       "==============================================================================\n",
       "\n",
       "Warnings:\n",
       "[1] Standard Errors assume that the covariance matrix of the errors is correctly specified.\n",
       "[2] The condition number is large, 3.25e+03. This might indicate that there are\n",
       "strong multicollinearity or other numerical problems.\n",
       "\"\"\""
      ]
     },
     "execution_count": 33,
     "metadata": {},
     "output_type": "execute_result"
    }
   ],
   "source": [
    "surviving.summary()"
   ]
  },
  {
   "cell_type": "code",
   "execution_count": 21,
   "metadata": {},
   "outputs": [
    {
     "name": "stderr",
     "output_type": "stream",
     "text": [
      "/anaconda3/lib/python3.6/site-packages/scipy/stats/_distn_infrastructure.py:879: RuntimeWarning: invalid value encountered in greater\n",
      "  return (self.a < x) & (x < self.b)\n",
      "/anaconda3/lib/python3.6/site-packages/scipy/stats/_distn_infrastructure.py:879: RuntimeWarning: invalid value encountered in less\n",
      "  return (self.a < x) & (x < self.b)\n",
      "/anaconda3/lib/python3.6/site-packages/scipy/stats/_distn_infrastructure.py:1821: RuntimeWarning: invalid value encountered in less_equal\n",
      "  cond2 = cond0 & (x <= self.a)\n"
     ]
    },
    {
     "data": {
      "text/html": [
       "<div>\n",
       "<style scoped>\n",
       "    .dataframe tbody tr th:only-of-type {\n",
       "        vertical-align: middle;\n",
       "    }\n",
       "\n",
       "    .dataframe tbody tr th {\n",
       "        vertical-align: top;\n",
       "    }\n",
       "\n",
       "    .dataframe thead th {\n",
       "        text-align: right;\n",
       "    }\n",
       "</style>\n",
       "<table border=\"1\" class=\"dataframe\">\n",
       "  <thead>\n",
       "    <tr style=\"text-align: right;\">\n",
       "      <th></th>\n",
       "      <th>df</th>\n",
       "      <th>sum_sq</th>\n",
       "      <th>mean_sq</th>\n",
       "      <th>F</th>\n",
       "      <th>PR(&gt;F)</th>\n",
       "    </tr>\n",
       "  </thead>\n",
       "  <tbody>\n",
       "    <tr>\n",
       "      <th>region</th>\n",
       "      <td>4.0</td>\n",
       "      <td>3927.702839</td>\n",
       "      <td>981.925710</td>\n",
       "      <td>655.512121</td>\n",
       "      <td>2.604302e-105</td>\n",
       "    </tr>\n",
       "    <tr>\n",
       "      <th>Residual</th>\n",
       "      <td>178.0</td>\n",
       "      <td>266.635461</td>\n",
       "      <td>1.497952</td>\n",
       "      <td>NaN</td>\n",
       "      <td>NaN</td>\n",
       "    </tr>\n",
       "  </tbody>\n",
       "</table>\n",
       "</div>"
      ],
      "text/plain": [
       "             df       sum_sq     mean_sq           F         PR(>F)\n",
       "region      4.0  3927.702839  981.925710  655.512121  2.604302e-105\n",
       "Residual  178.0   266.635461    1.497952         NaN            NaN"
      ]
     },
     "execution_count": 21,
     "metadata": {},
     "output_type": "execute_result"
    }
   ],
   "source": [
    "sm.stats.anova_lm(groupmeans)"
   ]
  },
  {
   "cell_type": "code",
   "execution_count": 22,
   "metadata": {},
   "outputs": [
    {
     "name": "stderr",
     "output_type": "stream",
     "text": [
      "/anaconda3/lib/python3.6/site-packages/scipy/stats/_distn_infrastructure.py:879: RuntimeWarning: invalid value encountered in greater\n",
      "  return (self.a < x) & (x < self.b)\n",
      "/anaconda3/lib/python3.6/site-packages/scipy/stats/_distn_infrastructure.py:879: RuntimeWarning: invalid value encountered in less\n",
      "  return (self.a < x) & (x < self.b)\n",
      "/anaconda3/lib/python3.6/site-packages/scipy/stats/_distn_infrastructure.py:1821: RuntimeWarning: invalid value encountered in less_equal\n",
      "  cond2 = cond0 & (x <= self.a)\n"
     ]
    },
    {
     "data": {
      "text/html": [
       "<div>\n",
       "<style scoped>\n",
       "    .dataframe tbody tr th:only-of-type {\n",
       "        vertical-align: middle;\n",
       "    }\n",
       "\n",
       "    .dataframe tbody tr th {\n",
       "        vertical-align: top;\n",
       "    }\n",
       "\n",
       "    .dataframe thead th {\n",
       "        text-align: right;\n",
       "    }\n",
       "</style>\n",
       "<table border=\"1\" class=\"dataframe\">\n",
       "  <thead>\n",
       "    <tr style=\"text-align: right;\">\n",
       "      <th></th>\n",
       "      <th>df</th>\n",
       "      <th>sum_sq</th>\n",
       "      <th>mean_sq</th>\n",
       "      <th>F</th>\n",
       "      <th>PR(&gt;F)</th>\n",
       "    </tr>\n",
       "  </thead>\n",
       "  <tbody>\n",
       "    <tr>\n",
       "      <th>region</th>\n",
       "      <td>4.0</td>\n",
       "      <td>3927.702839</td>\n",
       "      <td>981.925710</td>\n",
       "      <td>1042.049316</td>\n",
       "      <td>8.236854e-122</td>\n",
       "    </tr>\n",
       "    <tr>\n",
       "      <th>age5_surviving</th>\n",
       "      <td>1.0</td>\n",
       "      <td>99.847912</td>\n",
       "      <td>99.847912</td>\n",
       "      <td>105.961630</td>\n",
       "      <td>9.003514e-20</td>\n",
       "    </tr>\n",
       "    <tr>\n",
       "      <th>Residual</th>\n",
       "      <td>177.0</td>\n",
       "      <td>166.787548</td>\n",
       "      <td>0.942303</td>\n",
       "      <td>NaN</td>\n",
       "      <td>NaN</td>\n",
       "    </tr>\n",
       "  </tbody>\n",
       "</table>\n",
       "</div>"
      ],
      "text/plain": [
       "                   df       sum_sq     mean_sq            F         PR(>F)\n",
       "region            4.0  3927.702839  981.925710  1042.049316  8.236854e-122\n",
       "age5_surviving    1.0    99.847912   99.847912   105.961630   9.003514e-20\n",
       "Residual        177.0   166.787548    0.942303          NaN            NaN"
      ]
     },
     "execution_count": 22,
     "metadata": {},
     "output_type": "execute_result"
    }
   ],
   "source": [
    "sm.stats.anova_lm(surviving)"
   ]
  },
  {
   "cell_type": "code",
   "execution_count": 24,
   "metadata": {},
   "outputs": [
    {
     "name": "stderr",
     "output_type": "stream",
     "text": [
      "/anaconda3/lib/python3.6/site-packages/scipy/stats/_distn_infrastructure.py:879: RuntimeWarning: invalid value encountered in greater\n",
      "  return (self.a < x) & (x < self.b)\n",
      "/anaconda3/lib/python3.6/site-packages/scipy/stats/_distn_infrastructure.py:879: RuntimeWarning: invalid value encountered in less\n",
      "  return (self.a < x) & (x < self.b)\n",
      "/anaconda3/lib/python3.6/site-packages/scipy/stats/_distn_infrastructure.py:1821: RuntimeWarning: invalid value encountered in less_equal\n",
      "  cond2 = cond0 & (x <= self.a)\n"
     ]
    },
    {
     "data": {
      "text/html": [
       "<div>\n",
       "<style scoped>\n",
       "    .dataframe tbody tr th:only-of-type {\n",
       "        vertical-align: middle;\n",
       "    }\n",
       "\n",
       "    .dataframe tbody tr th {\n",
       "        vertical-align: top;\n",
       "    }\n",
       "\n",
       "    .dataframe thead th {\n",
       "        text-align: right;\n",
       "    }\n",
       "</style>\n",
       "<table border=\"1\" class=\"dataframe\">\n",
       "  <thead>\n",
       "    <tr style=\"text-align: right;\">\n",
       "      <th></th>\n",
       "      <th>df</th>\n",
       "      <th>sum_sq</th>\n",
       "      <th>mean_sq</th>\n",
       "      <th>F</th>\n",
       "      <th>PR(&gt;F)</th>\n",
       "    </tr>\n",
       "  </thead>\n",
       "  <tbody>\n",
       "    <tr>\n",
       "      <th>region</th>\n",
       "      <td>4.0</td>\n",
       "      <td>3927.702839</td>\n",
       "      <td>981.925710</td>\n",
       "      <td>1157.900225</td>\n",
       "      <td>1.132132e-123</td>\n",
       "    </tr>\n",
       "    <tr>\n",
       "      <th>age5_surviving:region</th>\n",
       "      <td>4.0</td>\n",
       "      <td>110.113541</td>\n",
       "      <td>27.528385</td>\n",
       "      <td>32.461848</td>\n",
       "      <td>3.514845e-20</td>\n",
       "    </tr>\n",
       "    <tr>\n",
       "      <th>population</th>\n",
       "      <td>1.0</td>\n",
       "      <td>9.813987</td>\n",
       "      <td>9.813987</td>\n",
       "      <td>11.572788</td>\n",
       "      <td>8.313090e-04</td>\n",
       "    </tr>\n",
       "    <tr>\n",
       "      <th>Residual</th>\n",
       "      <td>173.0</td>\n",
       "      <td>146.707932</td>\n",
       "      <td>0.848023</td>\n",
       "      <td>NaN</td>\n",
       "      <td>NaN</td>\n",
       "    </tr>\n",
       "  </tbody>\n",
       "</table>\n",
       "</div>"
      ],
      "text/plain": [
       "                          df       sum_sq     mean_sq            F  \\\n",
       "region                   4.0  3927.702839  981.925710  1157.900225   \n",
       "age5_surviving:region    4.0   110.113541   27.528385    32.461848   \n",
       "population               1.0     9.813987    9.813987    11.572788   \n",
       "Residual               173.0   146.707932    0.848023          NaN   \n",
       "\n",
       "                              PR(>F)  \n",
       "region                 1.132132e-123  \n",
       "age5_surviving:region   3.514845e-20  \n",
       "population              8.313090e-04  \n",
       "Residual                         NaN  "
      ]
     },
     "execution_count": 24,
     "metadata": {},
     "output_type": "execute_result"
    }
   ],
   "source": [
    "sm.stats.anova_lm(surviving_byregion_population)"
   ]
  },
  {
   "cell_type": "code",
   "execution_count": null,
   "metadata": {},
   "outputs": [],
   "source": []
  }
 ],
 "metadata": {
  "kernelspec": {
   "display_name": "Python 3",
   "language": "python",
   "name": "python3"
  },
  "language_info": {
   "codemirror_mode": {
    "name": "ipython",
    "version": 3
   },
   "file_extension": ".py",
   "mimetype": "text/x-python",
   "name": "python",
   "nbconvert_exporter": "python",
   "pygments_lexer": "ipython3",
   "version": "3.7.4"
  },
  "toc": {
   "base_numbering": 1,
   "nav_menu": {},
   "number_sections": true,
   "sideBar": true,
   "skip_h1_title": false,
   "title_cell": "Table of Contents",
   "title_sidebar": "Contents",
   "toc_cell": false,
   "toc_position": {},
   "toc_section_display": true,
   "toc_window_display": false
  }
 },
 "nbformat": 4,
 "nbformat_minor": 2
}
