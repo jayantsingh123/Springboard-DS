{
 "cells": [
  {
   "cell_type": "code",
   "execution_count": 48,
   "metadata": {},
   "outputs": [],
   "source": [
    "import pandas as pd\n",
    "import numpy as np\n",
    "import matplotlib.pyplot as plt\n",
    "import descartes\n",
    "import geopandas as gpd\n",
    "from shapely.geometry import Point, Polygon\n",
    "from shapely.ops import nearest_points\n",
    "\n",
    "%matplotlib inline"
   ]
  },
  {
   "cell_type": "markdown",
   "metadata": {},
   "source": [
    "### FIRE DATASET FROM KAGGLE"
   ]
  },
  {
   "cell_type": "code",
   "execution_count": 49,
   "metadata": {},
   "outputs": [],
   "source": [
    "df = pd.read_csv('Fires_CA.csv')"
   ]
  },
  {
   "cell_type": "code",
   "execution_count": 55,
   "metadata": {},
   "outputs": [
    {
     "data": {
      "text/html": [
       "<div>\n",
       "<style scoped>\n",
       "    .dataframe tbody tr th:only-of-type {\n",
       "        vertical-align: middle;\n",
       "    }\n",
       "\n",
       "    .dataframe tbody tr th {\n",
       "        vertical-align: top;\n",
       "    }\n",
       "\n",
       "    .dataframe thead th {\n",
       "        text-align: right;\n",
       "    }\n",
       "</style>\n",
       "<table border=\"1\" class=\"dataframe\">\n",
       "  <thead>\n",
       "    <tr style=\"text-align: right;\">\n",
       "      <th></th>\n",
       "      <th>Unnamed: 0</th>\n",
       "      <th>FIRE_YEAR</th>\n",
       "      <th>STAT_CAUSE_DESCR</th>\n",
       "      <th>LATITUDE</th>\n",
       "      <th>LONGITUDE</th>\n",
       "      <th>STATE</th>\n",
       "      <th>FIPS_CODE</th>\n",
       "      <th>FIPS_NAME</th>\n",
       "      <th>DISCOVERY_DATE</th>\n",
       "      <th>DISCOVERY_TIME</th>\n",
       "      <th>CONT_DATE</th>\n",
       "      <th>CONT_TIME</th>\n",
       "      <th>FIRE_SIZE</th>\n",
       "    </tr>\n",
       "  </thead>\n",
       "  <tbody>\n",
       "    <tr>\n",
       "      <td>0</td>\n",
       "      <td>1067487</td>\n",
       "      <td>2010</td>\n",
       "      <td>Equipment Use</td>\n",
       "      <td>36.766944</td>\n",
       "      <td>-121.303056</td>\n",
       "      <td>CA</td>\n",
       "      <td>NaN</td>\n",
       "      <td>NaN</td>\n",
       "      <td>2455335.5</td>\n",
       "      <td>NaN</td>\n",
       "      <td>NaN</td>\n",
       "      <td>NaN</td>\n",
       "      <td>70.0</td>\n",
       "    </tr>\n",
       "    <tr>\n",
       "      <td>1</td>\n",
       "      <td>1067488</td>\n",
       "      <td>2010</td>\n",
       "      <td>Miscellaneous</td>\n",
       "      <td>36.776944</td>\n",
       "      <td>-121.311111</td>\n",
       "      <td>CA</td>\n",
       "      <td>NaN</td>\n",
       "      <td>NaN</td>\n",
       "      <td>2455355.5</td>\n",
       "      <td>NaN</td>\n",
       "      <td>NaN</td>\n",
       "      <td>NaN</td>\n",
       "      <td>0.5</td>\n",
       "    </tr>\n",
       "    <tr>\n",
       "      <td>2</td>\n",
       "      <td>1067489</td>\n",
       "      <td>2010</td>\n",
       "      <td>Miscellaneous</td>\n",
       "      <td>36.856111</td>\n",
       "      <td>-121.381111</td>\n",
       "      <td>CA</td>\n",
       "      <td>NaN</td>\n",
       "      <td>NaN</td>\n",
       "      <td>2455359.5</td>\n",
       "      <td>NaN</td>\n",
       "      <td>NaN</td>\n",
       "      <td>NaN</td>\n",
       "      <td>0.1</td>\n",
       "    </tr>\n",
       "    <tr>\n",
       "      <td>3</td>\n",
       "      <td>1067490</td>\n",
       "      <td>2010</td>\n",
       "      <td>Miscellaneous</td>\n",
       "      <td>36.818056</td>\n",
       "      <td>-121.391111</td>\n",
       "      <td>CA</td>\n",
       "      <td>NaN</td>\n",
       "      <td>NaN</td>\n",
       "      <td>2455361.5</td>\n",
       "      <td>NaN</td>\n",
       "      <td>NaN</td>\n",
       "      <td>NaN</td>\n",
       "      <td>0.1</td>\n",
       "    </tr>\n",
       "    <tr>\n",
       "      <td>4</td>\n",
       "      <td>1067491</td>\n",
       "      <td>2010</td>\n",
       "      <td>Miscellaneous</td>\n",
       "      <td>36.883056</td>\n",
       "      <td>-121.561944</td>\n",
       "      <td>CA</td>\n",
       "      <td>NaN</td>\n",
       "      <td>NaN</td>\n",
       "      <td>2455388.5</td>\n",
       "      <td>NaN</td>\n",
       "      <td>NaN</td>\n",
       "      <td>NaN</td>\n",
       "      <td>1.0</td>\n",
       "    </tr>\n",
       "  </tbody>\n",
       "</table>\n",
       "</div>"
      ],
      "text/plain": [
       "   Unnamed: 0  FIRE_YEAR STAT_CAUSE_DESCR   LATITUDE   LONGITUDE STATE  \\\n",
       "0     1067487       2010    Equipment Use  36.766944 -121.303056    CA   \n",
       "1     1067488       2010    Miscellaneous  36.776944 -121.311111    CA   \n",
       "2     1067489       2010    Miscellaneous  36.856111 -121.381111    CA   \n",
       "3     1067490       2010    Miscellaneous  36.818056 -121.391111    CA   \n",
       "4     1067491       2010    Miscellaneous  36.883056 -121.561944    CA   \n",
       "\n",
       "   FIPS_CODE FIPS_NAME  DISCOVERY_DATE  DISCOVERY_TIME  CONT_DATE  CONT_TIME  \\\n",
       "0        NaN       NaN       2455335.5             NaN        NaN        NaN   \n",
       "1        NaN       NaN       2455355.5             NaN        NaN        NaN   \n",
       "2        NaN       NaN       2455359.5             NaN        NaN        NaN   \n",
       "3        NaN       NaN       2455361.5             NaN        NaN        NaN   \n",
       "4        NaN       NaN       2455388.5             NaN        NaN        NaN   \n",
       "\n",
       "   FIRE_SIZE  \n",
       "0       70.0  \n",
       "1        0.5  \n",
       "2        0.1  \n",
       "3        0.1  \n",
       "4        1.0  "
      ]
     },
     "execution_count": 55,
     "metadata": {},
     "output_type": "execute_result"
    }
   ],
   "source": [
    "df.head()"
   ]
  },
  {
   "cell_type": "code",
   "execution_count": 57,
   "metadata": {},
   "outputs": [],
   "source": [
    "df.dropna(inplace=True)"
   ]
  },
  {
   "cell_type": "code",
   "execution_count": 6,
   "metadata": {},
   "outputs": [
    {
     "data": {
      "text/html": [
       "<div>\n",
       "<style scoped>\n",
       "    .dataframe tbody tr th:only-of-type {\n",
       "        vertical-align: middle;\n",
       "    }\n",
       "\n",
       "    .dataframe tbody tr th {\n",
       "        vertical-align: top;\n",
       "    }\n",
       "\n",
       "    .dataframe thead th {\n",
       "        text-align: right;\n",
       "    }\n",
       "</style>\n",
       "<table border=\"1\" class=\"dataframe\">\n",
       "  <thead>\n",
       "    <tr style=\"text-align: right;\">\n",
       "      <th></th>\n",
       "      <th>Unnamed: 0</th>\n",
       "      <th>FIRE_YEAR</th>\n",
       "      <th>STAT_CAUSE_DESCR</th>\n",
       "      <th>LATITUDE</th>\n",
       "      <th>LONGITUDE</th>\n",
       "      <th>STATE</th>\n",
       "      <th>FIPS_CODE</th>\n",
       "      <th>FIPS_NAME</th>\n",
       "      <th>DISCOVERY_DATE</th>\n",
       "      <th>DISCOVERY_TIME</th>\n",
       "      <th>CONT_DATE</th>\n",
       "      <th>CONT_TIME</th>\n",
       "      <th>FIRE_SIZE</th>\n",
       "    </tr>\n",
       "  </thead>\n",
       "  <tbody>\n",
       "    <tr>\n",
       "      <td>1368</td>\n",
       "      <td>1147155</td>\n",
       "      <td>2010</td>\n",
       "      <td>Arson</td>\n",
       "      <td>34.439722</td>\n",
       "      <td>-118.276389</td>\n",
       "      <td>CA</td>\n",
       "      <td>37.0</td>\n",
       "      <td>Los Angeles</td>\n",
       "      <td>2455202.5</td>\n",
       "      <td>1510.0</td>\n",
       "      <td>2455202.5</td>\n",
       "      <td>1530.0</td>\n",
       "      <td>0.1</td>\n",
       "    </tr>\n",
       "    <tr>\n",
       "      <td>1369</td>\n",
       "      <td>1147161</td>\n",
       "      <td>2010</td>\n",
       "      <td>Campfire</td>\n",
       "      <td>34.640556</td>\n",
       "      <td>-118.504722</td>\n",
       "      <td>CA</td>\n",
       "      <td>37.0</td>\n",
       "      <td>Los Angeles</td>\n",
       "      <td>2455213.5</td>\n",
       "      <td>300.0</td>\n",
       "      <td>2455213.5</td>\n",
       "      <td>950.0</td>\n",
       "      <td>0.1</td>\n",
       "    </tr>\n",
       "    <tr>\n",
       "      <td>1370</td>\n",
       "      <td>1147162</td>\n",
       "      <td>2010</td>\n",
       "      <td>Miscellaneous</td>\n",
       "      <td>34.742222</td>\n",
       "      <td>-118.623333</td>\n",
       "      <td>CA</td>\n",
       "      <td>37.0</td>\n",
       "      <td>Los Angeles</td>\n",
       "      <td>2455212.5</td>\n",
       "      <td>1337.0</td>\n",
       "      <td>2455212.5</td>\n",
       "      <td>1430.0</td>\n",
       "      <td>0.2</td>\n",
       "    </tr>\n",
       "    <tr>\n",
       "      <td>1371</td>\n",
       "      <td>1147164</td>\n",
       "      <td>2010</td>\n",
       "      <td>Campfire</td>\n",
       "      <td>34.383056</td>\n",
       "      <td>-117.700833</td>\n",
       "      <td>CA</td>\n",
       "      <td>37.0</td>\n",
       "      <td>Los Angeles</td>\n",
       "      <td>2455213.5</td>\n",
       "      <td>1214.0</td>\n",
       "      <td>2455213.5</td>\n",
       "      <td>1226.0</td>\n",
       "      <td>0.1</td>\n",
       "    </tr>\n",
       "    <tr>\n",
       "      <td>1372</td>\n",
       "      <td>1147168</td>\n",
       "      <td>2010</td>\n",
       "      <td>Arson</td>\n",
       "      <td>38.535000</td>\n",
       "      <td>-120.517778</td>\n",
       "      <td>CA</td>\n",
       "      <td>17.0</td>\n",
       "      <td>El Dorado</td>\n",
       "      <td>2455213.5</td>\n",
       "      <td>1130.0</td>\n",
       "      <td>2455213.5</td>\n",
       "      <td>1230.0</td>\n",
       "      <td>0.4</td>\n",
       "    </tr>\n",
       "  </tbody>\n",
       "</table>\n",
       "</div>"
      ],
      "text/plain": [
       "      Unnamed: 0  FIRE_YEAR STAT_CAUSE_DESCR   LATITUDE   LONGITUDE STATE  \\\n",
       "1368     1147155       2010            Arson  34.439722 -118.276389    CA   \n",
       "1369     1147161       2010         Campfire  34.640556 -118.504722    CA   \n",
       "1370     1147162       2010    Miscellaneous  34.742222 -118.623333    CA   \n",
       "1371     1147164       2010         Campfire  34.383056 -117.700833    CA   \n",
       "1372     1147168       2010            Arson  38.535000 -120.517778    CA   \n",
       "\n",
       "      FIPS_CODE    FIPS_NAME  DISCOVERY_DATE  DISCOVERY_TIME  CONT_DATE  \\\n",
       "1368       37.0  Los Angeles       2455202.5          1510.0  2455202.5   \n",
       "1369       37.0  Los Angeles       2455213.5           300.0  2455213.5   \n",
       "1370       37.0  Los Angeles       2455212.5          1337.0  2455212.5   \n",
       "1371       37.0  Los Angeles       2455213.5          1214.0  2455213.5   \n",
       "1372       17.0    El Dorado       2455213.5          1130.0  2455213.5   \n",
       "\n",
       "      CONT_TIME  FIRE_SIZE  \n",
       "1368     1530.0        0.1  \n",
       "1369      950.0        0.1  \n",
       "1370     1430.0        0.2  \n",
       "1371     1226.0        0.1  \n",
       "1372     1230.0        0.4  "
      ]
     },
     "execution_count": 6,
     "metadata": {},
     "output_type": "execute_result"
    }
   ],
   "source": [
    "df.head()"
   ]
  },
  {
   "cell_type": "code",
   "execution_count": 7,
   "metadata": {},
   "outputs": [
    {
     "data": {
      "text/plain": [
       "array(['Los Angeles', 'El Dorado', 'Tuolumne', 'Madera', 'Kern', 'Modoc',\n",
       "       'Monterey', 'San Bernardino', 'Shasta', 'Plumas', 'Riverside',\n",
       "       'Sierra', 'Lake', 'Trinity', 'San Diego', 'Santa Barbara',\n",
       "       'Amador', 'Mono', 'Orange', 'Nevada', 'Siskiyou', 'Tulare', 'Inyo',\n",
       "       'Yuba', 'Lassen', 'Ventura', 'Butte', 'Tehama', 'San Luis Obispo',\n",
       "       'Alpine', 'Fresno', 'Placer', 'Calaveras', 'Humboldt', 'Del Norte',\n",
       "       'Colusa', 'Mariposa', 'Mendocino', 'Glenn', 'Imperial',\n",
       "       'San Benito', 'Sacramento', 'Solano', 'Kings', 'Napa',\n",
       "       'Stanislaus', 'Merced', 'Contra Costa', 'Sonoma', 'Santa Clara',\n",
       "       'Santa Cruz', 'San Mateo', 'Alameda', 'Yolo', 'San Joaquin',\n",
       "       'Sutter'], dtype=object)"
      ]
     },
     "execution_count": 7,
     "metadata": {},
     "output_type": "execute_result"
    }
   ],
   "source": [
    "df['FIPS_NAME'].unique()"
   ]
  },
  {
   "cell_type": "code",
   "execution_count": 8,
   "metadata": {},
   "outputs": [
    {
     "data": {
      "text/plain": [
       "(19703, 13)"
      ]
     },
     "execution_count": 8,
     "metadata": {},
     "output_type": "execute_result"
    }
   ],
   "source": [
    "df.shape"
   ]
  },
  {
   "cell_type": "code",
   "execution_count": null,
   "metadata": {},
   "outputs": [],
   "source": [
    "## Converting Julian Date to Datetime"
   ]
  },
  {
   "cell_type": "code",
   "execution_count": 25,
   "metadata": {},
   "outputs": [],
   "source": [
    "df['DATE'] = pd.to_datetime(df['DISCOVERY_DATE'] - pd.Timestamp(0).to_julian_date(), unit='D')"
   ]
  },
  {
   "cell_type": "code",
   "execution_count": 35,
   "metadata": {},
   "outputs": [
    {
     "data": {
      "text/plain": [
       "dtype('float64')"
      ]
     },
     "execution_count": 35,
     "metadata": {},
     "output_type": "execute_result"
    }
   ],
   "source": [
    "df['DISCOVERY_DATE'].dtype"
   ]
  },
  {
   "cell_type": "code",
   "execution_count": 45,
   "metadata": {
    "collapsed": true
   },
   "outputs": [
    {
     "ename": "ValueError",
     "evalue": "time data '1510' does not match format '%H%M%S.%f' (match)",
     "output_type": "error",
     "traceback": [
      "\u001b[0;31m---------------------------------------------------------------------------\u001b[0m",
      "\u001b[0;31mTypeError\u001b[0m                                 Traceback (most recent call last)",
      "\u001b[0;32m~/opt/anaconda3/lib/python3.7/site-packages/pandas/core/tools/datetimes.py\u001b[0m in \u001b[0;36m_convert_listlike_datetimes\u001b[0;34m(arg, box, format, name, tz, unit, errors, infer_datetime_format, dayfirst, yearfirst, exact)\u001b[0m\n\u001b[1;32m    447\u001b[0m             \u001b[0;32mtry\u001b[0m\u001b[0;34m:\u001b[0m\u001b[0;34m\u001b[0m\u001b[0;34m\u001b[0m\u001b[0m\n\u001b[0;32m--> 448\u001b[0;31m                 \u001b[0mvalues\u001b[0m\u001b[0;34m,\u001b[0m \u001b[0mtz\u001b[0m \u001b[0;34m=\u001b[0m \u001b[0mconversion\u001b[0m\u001b[0;34m.\u001b[0m\u001b[0mdatetime_to_datetime64\u001b[0m\u001b[0;34m(\u001b[0m\u001b[0marg\u001b[0m\u001b[0;34m)\u001b[0m\u001b[0;34m\u001b[0m\u001b[0;34m\u001b[0m\u001b[0m\n\u001b[0m\u001b[1;32m    449\u001b[0m                 \u001b[0;32mreturn\u001b[0m \u001b[0mDatetimeIndex\u001b[0m\u001b[0;34m.\u001b[0m\u001b[0m_simple_new\u001b[0m\u001b[0;34m(\u001b[0m\u001b[0mvalues\u001b[0m\u001b[0;34m,\u001b[0m \u001b[0mname\u001b[0m\u001b[0;34m=\u001b[0m\u001b[0mname\u001b[0m\u001b[0;34m,\u001b[0m \u001b[0mtz\u001b[0m\u001b[0;34m=\u001b[0m\u001b[0mtz\u001b[0m\u001b[0;34m)\u001b[0m\u001b[0;34m\u001b[0m\u001b[0;34m\u001b[0m\u001b[0m\n",
      "\u001b[0;32mpandas/_libs/tslibs/conversion.pyx\u001b[0m in \u001b[0;36mpandas._libs.tslibs.conversion.datetime_to_datetime64\u001b[0;34m()\u001b[0m\n",
      "\u001b[0;31mTypeError\u001b[0m: Unrecognized value type: <class 'int'>",
      "\nDuring handling of the above exception, another exception occurred:\n",
      "\u001b[0;31mValueError\u001b[0m                                Traceback (most recent call last)",
      "\u001b[0;32m<ipython-input-45-2b6efbf5d7a6>\u001b[0m in \u001b[0;36m<module>\u001b[0;34m\u001b[0m\n\u001b[0;32m----> 1\u001b[0;31m \u001b[0mdf\u001b[0m\u001b[0;34m[\u001b[0m\u001b[0;34m'TIME'\u001b[0m\u001b[0;34m]\u001b[0m \u001b[0;34m=\u001b[0m \u001b[0mpd\u001b[0m\u001b[0;34m.\u001b[0m\u001b[0mto_datetime\u001b[0m\u001b[0;34m(\u001b[0m\u001b[0mdf\u001b[0m\u001b[0;34m[\u001b[0m\u001b[0;34m'DISCOVERY_TIME'\u001b[0m\u001b[0;34m]\u001b[0m\u001b[0;34m,\u001b[0m \u001b[0mformat\u001b[0m\u001b[0;34m=\u001b[0m\u001b[0;34m'%H%M%S.%f'\u001b[0m\u001b[0;34m)\u001b[0m\u001b[0;34m\u001b[0m\u001b[0;34m\u001b[0m\u001b[0m\n\u001b[0m\u001b[1;32m      2\u001b[0m \u001b[0;31m#df['TIME'] =  pd.to_datetime(df['DISCOVERY_TIME'], format='%HH:%MM:%SS', errors='coerce')\u001b[0m\u001b[0;34m\u001b[0m\u001b[0;34m\u001b[0m\u001b[0;34m\u001b[0m\u001b[0m\n",
      "\u001b[0;32m~/opt/anaconda3/lib/python3.7/site-packages/pandas/util/_decorators.py\u001b[0m in \u001b[0;36mwrapper\u001b[0;34m(*args, **kwargs)\u001b[0m\n\u001b[1;32m    206\u001b[0m                 \u001b[0;32melse\u001b[0m\u001b[0;34m:\u001b[0m\u001b[0;34m\u001b[0m\u001b[0;34m\u001b[0m\u001b[0m\n\u001b[1;32m    207\u001b[0m                     \u001b[0mkwargs\u001b[0m\u001b[0;34m[\u001b[0m\u001b[0mnew_arg_name\u001b[0m\u001b[0;34m]\u001b[0m \u001b[0;34m=\u001b[0m \u001b[0mnew_arg_value\u001b[0m\u001b[0;34m\u001b[0m\u001b[0;34m\u001b[0m\u001b[0m\n\u001b[0;32m--> 208\u001b[0;31m             \u001b[0;32mreturn\u001b[0m \u001b[0mfunc\u001b[0m\u001b[0;34m(\u001b[0m\u001b[0;34m*\u001b[0m\u001b[0margs\u001b[0m\u001b[0;34m,\u001b[0m \u001b[0;34m**\u001b[0m\u001b[0mkwargs\u001b[0m\u001b[0;34m)\u001b[0m\u001b[0;34m\u001b[0m\u001b[0;34m\u001b[0m\u001b[0m\n\u001b[0m\u001b[1;32m    209\u001b[0m \u001b[0;34m\u001b[0m\u001b[0m\n\u001b[1;32m    210\u001b[0m         \u001b[0;32mreturn\u001b[0m \u001b[0mwrapper\u001b[0m\u001b[0;34m\u001b[0m\u001b[0;34m\u001b[0m\u001b[0m\n",
      "\u001b[0;32m~/opt/anaconda3/lib/python3.7/site-packages/pandas/core/tools/datetimes.py\u001b[0m in \u001b[0;36mto_datetime\u001b[0;34m(arg, errors, dayfirst, yearfirst, utc, box, format, exact, unit, infer_datetime_format, origin, cache)\u001b[0m\n\u001b[1;32m    772\u001b[0m                 \u001b[0mresult\u001b[0m \u001b[0;34m=\u001b[0m \u001b[0mresult\u001b[0m\u001b[0;34m.\u001b[0m\u001b[0mtz_localize\u001b[0m\u001b[0;34m(\u001b[0m\u001b[0mtz\u001b[0m\u001b[0;34m)\u001b[0m\u001b[0;34m\u001b[0m\u001b[0;34m\u001b[0m\u001b[0m\n\u001b[1;32m    773\u001b[0m     \u001b[0;32melif\u001b[0m \u001b[0misinstance\u001b[0m\u001b[0;34m(\u001b[0m\u001b[0marg\u001b[0m\u001b[0;34m,\u001b[0m \u001b[0mABCSeries\u001b[0m\u001b[0;34m)\u001b[0m\u001b[0;34m:\u001b[0m\u001b[0;34m\u001b[0m\u001b[0;34m\u001b[0m\u001b[0m\n\u001b[0;32m--> 774\u001b[0;31m         \u001b[0mcache_array\u001b[0m \u001b[0;34m=\u001b[0m \u001b[0m_maybe_cache\u001b[0m\u001b[0;34m(\u001b[0m\u001b[0marg\u001b[0m\u001b[0;34m,\u001b[0m \u001b[0mformat\u001b[0m\u001b[0;34m,\u001b[0m \u001b[0mcache\u001b[0m\u001b[0;34m,\u001b[0m \u001b[0mconvert_listlike\u001b[0m\u001b[0;34m)\u001b[0m\u001b[0;34m\u001b[0m\u001b[0;34m\u001b[0m\u001b[0m\n\u001b[0m\u001b[1;32m    775\u001b[0m         \u001b[0;32mif\u001b[0m \u001b[0;32mnot\u001b[0m \u001b[0mcache_array\u001b[0m\u001b[0;34m.\u001b[0m\u001b[0mempty\u001b[0m\u001b[0;34m:\u001b[0m\u001b[0;34m\u001b[0m\u001b[0;34m\u001b[0m\u001b[0m\n\u001b[1;32m    776\u001b[0m             \u001b[0mresult\u001b[0m \u001b[0;34m=\u001b[0m \u001b[0marg\u001b[0m\u001b[0;34m.\u001b[0m\u001b[0mmap\u001b[0m\u001b[0;34m(\u001b[0m\u001b[0mcache_array\u001b[0m\u001b[0;34m)\u001b[0m\u001b[0;34m\u001b[0m\u001b[0;34m\u001b[0m\u001b[0m\n",
      "\u001b[0;32m~/opt/anaconda3/lib/python3.7/site-packages/pandas/core/tools/datetimes.py\u001b[0m in \u001b[0;36m_maybe_cache\u001b[0;34m(arg, format, cache, convert_listlike)\u001b[0m\n\u001b[1;32m    154\u001b[0m         \u001b[0munique_dates\u001b[0m \u001b[0;34m=\u001b[0m \u001b[0munique\u001b[0m\u001b[0;34m(\u001b[0m\u001b[0marg\u001b[0m\u001b[0;34m)\u001b[0m\u001b[0;34m\u001b[0m\u001b[0;34m\u001b[0m\u001b[0m\n\u001b[1;32m    155\u001b[0m         \u001b[0;32mif\u001b[0m \u001b[0mlen\u001b[0m\u001b[0;34m(\u001b[0m\u001b[0munique_dates\u001b[0m\u001b[0;34m)\u001b[0m \u001b[0;34m<\u001b[0m \u001b[0mlen\u001b[0m\u001b[0;34m(\u001b[0m\u001b[0marg\u001b[0m\u001b[0;34m)\u001b[0m\u001b[0;34m:\u001b[0m\u001b[0;34m\u001b[0m\u001b[0;34m\u001b[0m\u001b[0m\n\u001b[0;32m--> 156\u001b[0;31m             \u001b[0mcache_dates\u001b[0m \u001b[0;34m=\u001b[0m \u001b[0mconvert_listlike\u001b[0m\u001b[0;34m(\u001b[0m\u001b[0munique_dates\u001b[0m\u001b[0;34m,\u001b[0m \u001b[0;32mTrue\u001b[0m\u001b[0;34m,\u001b[0m \u001b[0mformat\u001b[0m\u001b[0;34m)\u001b[0m\u001b[0;34m\u001b[0m\u001b[0;34m\u001b[0m\u001b[0m\n\u001b[0m\u001b[1;32m    157\u001b[0m             \u001b[0mcache_array\u001b[0m \u001b[0;34m=\u001b[0m \u001b[0mSeries\u001b[0m\u001b[0;34m(\u001b[0m\u001b[0mcache_dates\u001b[0m\u001b[0;34m,\u001b[0m \u001b[0mindex\u001b[0m\u001b[0;34m=\u001b[0m\u001b[0munique_dates\u001b[0m\u001b[0;34m)\u001b[0m\u001b[0;34m\u001b[0m\u001b[0;34m\u001b[0m\u001b[0m\n\u001b[1;32m    158\u001b[0m     \u001b[0;32mreturn\u001b[0m \u001b[0mcache_array\u001b[0m\u001b[0;34m\u001b[0m\u001b[0;34m\u001b[0m\u001b[0m\n",
      "\u001b[0;32m~/opt/anaconda3/lib/python3.7/site-packages/pandas/core/tools/datetimes.py\u001b[0m in \u001b[0;36m_convert_listlike_datetimes\u001b[0;34m(arg, box, format, name, tz, unit, errors, infer_datetime_format, dayfirst, yearfirst, exact)\u001b[0m\n\u001b[1;32m    449\u001b[0m                 \u001b[0;32mreturn\u001b[0m \u001b[0mDatetimeIndex\u001b[0m\u001b[0;34m.\u001b[0m\u001b[0m_simple_new\u001b[0m\u001b[0;34m(\u001b[0m\u001b[0mvalues\u001b[0m\u001b[0;34m,\u001b[0m \u001b[0mname\u001b[0m\u001b[0;34m=\u001b[0m\u001b[0mname\u001b[0m\u001b[0;34m,\u001b[0m \u001b[0mtz\u001b[0m\u001b[0;34m=\u001b[0m\u001b[0mtz\u001b[0m\u001b[0;34m)\u001b[0m\u001b[0;34m\u001b[0m\u001b[0;34m\u001b[0m\u001b[0m\n\u001b[1;32m    450\u001b[0m             \u001b[0;32mexcept\u001b[0m \u001b[0;34m(\u001b[0m\u001b[0mValueError\u001b[0m\u001b[0;34m,\u001b[0m \u001b[0mTypeError\u001b[0m\u001b[0;34m)\u001b[0m\u001b[0;34m:\u001b[0m\u001b[0;34m\u001b[0m\u001b[0;34m\u001b[0m\u001b[0m\n\u001b[0;32m--> 451\u001b[0;31m                 \u001b[0;32mraise\u001b[0m \u001b[0me\u001b[0m\u001b[0;34m\u001b[0m\u001b[0;34m\u001b[0m\u001b[0m\n\u001b[0m\u001b[1;32m    452\u001b[0m \u001b[0;34m\u001b[0m\u001b[0m\n\u001b[1;32m    453\u001b[0m     \u001b[0;32mif\u001b[0m \u001b[0mresult\u001b[0m \u001b[0;32mis\u001b[0m \u001b[0;32mNone\u001b[0m\u001b[0;34m:\u001b[0m\u001b[0;34m\u001b[0m\u001b[0;34m\u001b[0m\u001b[0m\n",
      "\u001b[0;32m~/opt/anaconda3/lib/python3.7/site-packages/pandas/core/tools/datetimes.py\u001b[0m in \u001b[0;36m_convert_listlike_datetimes\u001b[0;34m(arg, box, format, name, tz, unit, errors, infer_datetime_format, dayfirst, yearfirst, exact)\u001b[0m\n\u001b[1;32m    414\u001b[0m                 \u001b[0;32mtry\u001b[0m\u001b[0;34m:\u001b[0m\u001b[0;34m\u001b[0m\u001b[0;34m\u001b[0m\u001b[0m\n\u001b[1;32m    415\u001b[0m                     result, timezones = array_strptime(\n\u001b[0;32m--> 416\u001b[0;31m                         \u001b[0marg\u001b[0m\u001b[0;34m,\u001b[0m \u001b[0mformat\u001b[0m\u001b[0;34m,\u001b[0m \u001b[0mexact\u001b[0m\u001b[0;34m=\u001b[0m\u001b[0mexact\u001b[0m\u001b[0;34m,\u001b[0m \u001b[0merrors\u001b[0m\u001b[0;34m=\u001b[0m\u001b[0merrors\u001b[0m\u001b[0;34m\u001b[0m\u001b[0;34m\u001b[0m\u001b[0m\n\u001b[0m\u001b[1;32m    417\u001b[0m                     )\n\u001b[1;32m    418\u001b[0m                     \u001b[0;32mif\u001b[0m \u001b[0;34m\"%Z\"\u001b[0m \u001b[0;32min\u001b[0m \u001b[0mformat\u001b[0m \u001b[0;32mor\u001b[0m \u001b[0;34m\"%z\"\u001b[0m \u001b[0;32min\u001b[0m \u001b[0mformat\u001b[0m\u001b[0;34m:\u001b[0m\u001b[0;34m\u001b[0m\u001b[0;34m\u001b[0m\u001b[0m\n",
      "\u001b[0;32mpandas/_libs/tslibs/strptime.pyx\u001b[0m in \u001b[0;36mpandas._libs.tslibs.strptime.array_strptime\u001b[0;34m()\u001b[0m\n",
      "\u001b[0;31mValueError\u001b[0m: time data '1510' does not match format '%H%M%S.%f' (match)"
     ]
    }
   ],
   "source": [
    "df['TIME'] = pd.to_datetime(df['DISCOVERY_TIME'], format='%H%M%S.%f')\n"
   ]
  },
  {
   "cell_type": "markdown",
   "metadata": {},
   "source": [
    "### METEROLOGICAL DATASET"
   ]
  },
  {
   "cell_type": "code",
   "execution_count": 9,
   "metadata": {},
   "outputs": [],
   "source": [
    "df_met = pd.read_csv(\"MetStations_CA.csv\")"
   ]
  },
  {
   "cell_type": "code",
   "execution_count": 10,
   "metadata": {},
   "outputs": [
    {
     "data": {
      "text/html": [
       "<div>\n",
       "<style scoped>\n",
       "    .dataframe tbody tr th:only-of-type {\n",
       "        vertical-align: middle;\n",
       "    }\n",
       "\n",
       "    .dataframe tbody tr th {\n",
       "        vertical-align: top;\n",
       "    }\n",
       "\n",
       "    .dataframe thead th {\n",
       "        text-align: right;\n",
       "    }\n",
       "</style>\n",
       "<table border=\"1\" class=\"dataframe\">\n",
       "  <thead>\n",
       "    <tr style=\"text-align: right;\">\n",
       "      <th></th>\n",
       "      <th>STATION_ID</th>\n",
       "      <th>STATION</th>\n",
       "      <th>BEGIN_DATE</th>\n",
       "      <th>END_DATE</th>\n",
       "      <th>STATE</th>\n",
       "      <th>COUNTRY</th>\n",
       "      <th>LATITUDE</th>\n",
       "      <th>LONGITUDE</th>\n",
       "      <th>ELEVATION_(M)</th>\n",
       "    </tr>\n",
       "  </thead>\n",
       "  <tbody>\n",
       "    <tr>\n",
       "      <td>0</td>\n",
       "      <td>WBAN:23239</td>\n",
       "      <td>ALAMEDA NAS, CA US</td>\n",
       "      <td>1945-02-28</td>\n",
       "      <td>1997-01-31</td>\n",
       "      <td>California</td>\n",
       "      <td>United States</td>\n",
       "      <td>37.78333</td>\n",
       "      <td>-122.31667</td>\n",
       "      <td>9.1</td>\n",
       "    </tr>\n",
       "    <tr>\n",
       "      <td>1</td>\n",
       "      <td>WBAN:94299</td>\n",
       "      <td>ALTURAS MUNICIPAL AIRPORT, CA US</td>\n",
       "      <td>2004-12-31</td>\n",
       "      <td>2020-02-23</td>\n",
       "      <td>California</td>\n",
       "      <td>United States</td>\n",
       "      <td>41.49139</td>\n",
       "      <td>-120.56444</td>\n",
       "      <td>1333.5</td>\n",
       "    </tr>\n",
       "    <tr>\n",
       "      <td>2</td>\n",
       "      <td>WBAN:24283</td>\n",
       "      <td>ARCATA EUREKA AIRPORT, CA US</td>\n",
       "      <td>1949-11-30</td>\n",
       "      <td>2020-02-23</td>\n",
       "      <td>California</td>\n",
       "      <td>United States</td>\n",
       "      <td>40.97806</td>\n",
       "      <td>-124.10861</td>\n",
       "      <td>61.0</td>\n",
       "    </tr>\n",
       "    <tr>\n",
       "      <td>3</td>\n",
       "      <td>WBAN:23224</td>\n",
       "      <td>AUBURN MUNICIPAL AIRPORT, CA US</td>\n",
       "      <td>2004-12-31</td>\n",
       "      <td>2020-02-23</td>\n",
       "      <td>California</td>\n",
       "      <td>United States</td>\n",
       "      <td>38.95472</td>\n",
       "      <td>-121.08194</td>\n",
       "      <td>466.6</td>\n",
       "    </tr>\n",
       "    <tr>\n",
       "      <td>4</td>\n",
       "      <td>WBAN:23191</td>\n",
       "      <td>AVALON CATALINA AIRPORT, CA US</td>\n",
       "      <td>1943-06-11</td>\n",
       "      <td>2020-02-23</td>\n",
       "      <td>California</td>\n",
       "      <td>United States</td>\n",
       "      <td>33.40500</td>\n",
       "      <td>-118.41583</td>\n",
       "      <td>488.3</td>\n",
       "    </tr>\n",
       "  </tbody>\n",
       "</table>\n",
       "</div>"
      ],
      "text/plain": [
       "   STATION_ID                           STATION  BEGIN_DATE    END_DATE  \\\n",
       "0  WBAN:23239                ALAMEDA NAS, CA US  1945-02-28  1997-01-31   \n",
       "1  WBAN:94299  ALTURAS MUNICIPAL AIRPORT, CA US  2004-12-31  2020-02-23   \n",
       "2  WBAN:24283      ARCATA EUREKA AIRPORT, CA US  1949-11-30  2020-02-23   \n",
       "3  WBAN:23224   AUBURN MUNICIPAL AIRPORT, CA US  2004-12-31  2020-02-23   \n",
       "4  WBAN:23191    AVALON CATALINA AIRPORT, CA US  1943-06-11  2020-02-23   \n",
       "\n",
       "        STATE        COUNTRY  LATITUDE  LONGITUDE  ELEVATION_(M)  \n",
       "0  California  United States  37.78333 -122.31667            9.1  \n",
       "1  California  United States  41.49139 -120.56444         1333.5  \n",
       "2  California  United States  40.97806 -124.10861           61.0  \n",
       "3  California  United States  38.95472 -121.08194          466.6  \n",
       "4  California  United States  33.40500 -118.41583          488.3  "
      ]
     },
     "execution_count": 10,
     "metadata": {},
     "output_type": "execute_result"
    }
   ],
   "source": [
    "df_met.head()"
   ]
  },
  {
   "cell_type": "code",
   "execution_count": 29,
   "metadata": {},
   "outputs": [
    {
     "data": {
      "text/plain": [
       "(155, 10)"
      ]
     },
     "execution_count": 29,
     "metadata": {},
     "output_type": "execute_result"
    }
   ],
   "source": [
    "df_met.shape"
   ]
  },
  {
   "cell_type": "markdown",
   "metadata": {},
   "source": [
    "## Set the coordinate reference system for the met data and convert to a Geopandas dataframe"
   ]
  },
  {
   "cell_type": "code",
   "execution_count": 11,
   "metadata": {},
   "outputs": [],
   "source": [
    "crs = {'init': 'epsg:4326'}"
   ]
  },
  {
   "cell_type": "code",
   "execution_count": 12,
   "metadata": {},
   "outputs": [],
   "source": [
    "geometry_met = [Point(xy) for xy in zip(df_met['LONGITUDE'], df_met['LATITUDE'])]"
   ]
  },
  {
   "cell_type": "code",
   "execution_count": 14,
   "metadata": {},
   "outputs": [],
   "source": [
    "geo_df_met = gpd.GeoDataFrame(df_met, crs = crs, geometry = geometry_met)"
   ]
  },
  {
   "cell_type": "markdown",
   "metadata": {},
   "source": [
    "###### Here, I'm using the Nerest Points function from the Shapely library to locate the nearest meterological station to each of the fire locations. The dataframe 'df_met' contains a list of all meterological stations in California. Each station as a latitude and longitude associated with it. The nearest point function in the shapefile library looks for the nearest (x,y) point for each fire location from the (x,y) points from the met dataframe. \n"
   ]
  },
  {
   "cell_type": "markdown",
   "metadata": {},
   "source": [
    "##### Note that he unary_union function below returns a geometry containing the union of all geometries in the Geoseries. "
   ]
  },
  {
   "cell_type": "code",
   "execution_count": 46,
   "metadata": {},
   "outputs": [],
   "source": [
    "# Unary Union of the geo_df geometry\n",
    "\n",
    "pts = geo_df_met.geometry.unary_union\n",
    "def near(point, pts=pts):\n",
    "     # find the nearest point and return the corresponding Station name\n",
    "     nearest = geo_df_met.geometry == nearest_points(point, pts)[1]\n",
    "     return geo_df_met[nearest].STATION.to_numpy()[0]\n",
    "geo_df['Nearest_Station'] = geo_df.apply(lambda row: near(row.geometry), axis=1)"
   ]
  },
  {
   "cell_type": "code",
   "execution_count": 47,
   "metadata": {},
   "outputs": [
    {
     "data": {
      "text/html": [
       "<div>\n",
       "<style scoped>\n",
       "    .dataframe tbody tr th:only-of-type {\n",
       "        vertical-align: middle;\n",
       "    }\n",
       "\n",
       "    .dataframe tbody tr th {\n",
       "        vertical-align: top;\n",
       "    }\n",
       "\n",
       "    .dataframe thead th {\n",
       "        text-align: right;\n",
       "    }\n",
       "</style>\n",
       "<table border=\"1\" class=\"dataframe\">\n",
       "  <thead>\n",
       "    <tr style=\"text-align: right;\">\n",
       "      <th></th>\n",
       "      <th>Unnamed: 0</th>\n",
       "      <th>FIRE_YEAR</th>\n",
       "      <th>STAT_CAUSE_DESCR</th>\n",
       "      <th>LATITUDE</th>\n",
       "      <th>LONGITUDE</th>\n",
       "      <th>STATE</th>\n",
       "      <th>FIPS_CODE</th>\n",
       "      <th>FIPS_NAME</th>\n",
       "      <th>DISCOVERY_DATE</th>\n",
       "      <th>DISCOVERY_TIME</th>\n",
       "      <th>CONT_DATE</th>\n",
       "      <th>CONT_TIME</th>\n",
       "      <th>FIRE_SIZE</th>\n",
       "      <th>geometry</th>\n",
       "      <th>Nearest</th>\n",
       "      <th>Nearest_Station</th>\n",
       "    </tr>\n",
       "  </thead>\n",
       "  <tbody>\n",
       "    <tr>\n",
       "      <td>1368</td>\n",
       "      <td>1147155</td>\n",
       "      <td>2010</td>\n",
       "      <td>Arson</td>\n",
       "      <td>34.439722</td>\n",
       "      <td>-118.276389</td>\n",
       "      <td>CA</td>\n",
       "      <td>37.0</td>\n",
       "      <td>Los Angeles</td>\n",
       "      <td>2455202.5</td>\n",
       "      <td>1510.0</td>\n",
       "      <td>2455202.5</td>\n",
       "      <td>1530.0</td>\n",
       "      <td>0.1</td>\n",
       "      <td>POINT (-118.27639 34.43972)</td>\n",
       "      <td>LOS ANGELES WHITEMAN AIRPORT, CA US</td>\n",
       "      <td>LOS ANGELES WHITEMAN AIRPORT, CA US</td>\n",
       "    </tr>\n",
       "    <tr>\n",
       "      <td>1369</td>\n",
       "      <td>1147161</td>\n",
       "      <td>2010</td>\n",
       "      <td>Campfire</td>\n",
       "      <td>34.640556</td>\n",
       "      <td>-118.504722</td>\n",
       "      <td>CA</td>\n",
       "      <td>37.0</td>\n",
       "      <td>Los Angeles</td>\n",
       "      <td>2455213.5</td>\n",
       "      <td>300.0</td>\n",
       "      <td>2455213.5</td>\n",
       "      <td>950.0</td>\n",
       "      <td>0.1</td>\n",
       "      <td>POINT (-118.50472 34.64056)</td>\n",
       "      <td>SANDBERG, CA US</td>\n",
       "      <td>SANDBERG, CA US</td>\n",
       "    </tr>\n",
       "    <tr>\n",
       "      <td>1370</td>\n",
       "      <td>1147162</td>\n",
       "      <td>2010</td>\n",
       "      <td>Miscellaneous</td>\n",
       "      <td>34.742222</td>\n",
       "      <td>-118.623333</td>\n",
       "      <td>CA</td>\n",
       "      <td>37.0</td>\n",
       "      <td>Los Angeles</td>\n",
       "      <td>2455212.5</td>\n",
       "      <td>1337.0</td>\n",
       "      <td>2455212.5</td>\n",
       "      <td>1430.0</td>\n",
       "      <td>0.2</td>\n",
       "      <td>POINT (-118.62333 34.74222)</td>\n",
       "      <td>SANDBERG, CA US</td>\n",
       "      <td>SANDBERG, CA US</td>\n",
       "    </tr>\n",
       "    <tr>\n",
       "      <td>1371</td>\n",
       "      <td>1147164</td>\n",
       "      <td>2010</td>\n",
       "      <td>Campfire</td>\n",
       "      <td>34.383056</td>\n",
       "      <td>-117.700833</td>\n",
       "      <td>CA</td>\n",
       "      <td>37.0</td>\n",
       "      <td>Los Angeles</td>\n",
       "      <td>2455213.5</td>\n",
       "      <td>1214.0</td>\n",
       "      <td>2455213.5</td>\n",
       "      <td>1226.0</td>\n",
       "      <td>0.1</td>\n",
       "      <td>POINT (-117.70083 34.38306)</td>\n",
       "      <td>LA VERNE BRACKETT FIELD, CA US</td>\n",
       "      <td>LA VERNE BRACKETT FIELD, CA US</td>\n",
       "    </tr>\n",
       "    <tr>\n",
       "      <td>1372</td>\n",
       "      <td>1147168</td>\n",
       "      <td>2010</td>\n",
       "      <td>Arson</td>\n",
       "      <td>38.535000</td>\n",
       "      <td>-120.517778</td>\n",
       "      <td>CA</td>\n",
       "      <td>17.0</td>\n",
       "      <td>El Dorado</td>\n",
       "      <td>2455213.5</td>\n",
       "      <td>1130.0</td>\n",
       "      <td>2455213.5</td>\n",
       "      <td>1230.0</td>\n",
       "      <td>0.4</td>\n",
       "      <td>POINT (-120.51778 38.53500)</td>\n",
       "      <td>PLACERVILLE AIRPORT, CA US</td>\n",
       "      <td>PLACERVILLE AIRPORT, CA US</td>\n",
       "    </tr>\n",
       "  </tbody>\n",
       "</table>\n",
       "</div>"
      ],
      "text/plain": [
       "      Unnamed: 0  FIRE_YEAR STAT_CAUSE_DESCR   LATITUDE   LONGITUDE STATE  \\\n",
       "1368     1147155       2010            Arson  34.439722 -118.276389    CA   \n",
       "1369     1147161       2010         Campfire  34.640556 -118.504722    CA   \n",
       "1370     1147162       2010    Miscellaneous  34.742222 -118.623333    CA   \n",
       "1371     1147164       2010         Campfire  34.383056 -117.700833    CA   \n",
       "1372     1147168       2010            Arson  38.535000 -120.517778    CA   \n",
       "\n",
       "      FIPS_CODE    FIPS_NAME  DISCOVERY_DATE  DISCOVERY_TIME  CONT_DATE  \\\n",
       "1368       37.0  Los Angeles       2455202.5          1510.0  2455202.5   \n",
       "1369       37.0  Los Angeles       2455213.5           300.0  2455213.5   \n",
       "1370       37.0  Los Angeles       2455212.5          1337.0  2455212.5   \n",
       "1371       37.0  Los Angeles       2455213.5          1214.0  2455213.5   \n",
       "1372       17.0    El Dorado       2455213.5          1130.0  2455213.5   \n",
       "\n",
       "      CONT_TIME  FIRE_SIZE                     geometry  \\\n",
       "1368     1530.0        0.1  POINT (-118.27639 34.43972)   \n",
       "1369      950.0        0.1  POINT (-118.50472 34.64056)   \n",
       "1370     1430.0        0.2  POINT (-118.62333 34.74222)   \n",
       "1371     1226.0        0.1  POINT (-117.70083 34.38306)   \n",
       "1372     1230.0        0.4  POINT (-120.51778 38.53500)   \n",
       "\n",
       "                                  Nearest                      Nearest_Station  \n",
       "1368  LOS ANGELES WHITEMAN AIRPORT, CA US  LOS ANGELES WHITEMAN AIRPORT, CA US  \n",
       "1369                      SANDBERG, CA US                      SANDBERG, CA US  \n",
       "1370                      SANDBERG, CA US                      SANDBERG, CA US  \n",
       "1371       LA VERNE BRACKETT FIELD, CA US       LA VERNE BRACKETT FIELD, CA US  \n",
       "1372           PLACERVILLE AIRPORT, CA US           PLACERVILLE AIRPORT, CA US  "
      ]
     },
     "execution_count": 47,
     "metadata": {},
     "output_type": "execute_result"
    }
   ],
   "source": [
    "geo_df.head()"
   ]
  },
  {
   "cell_type": "markdown",
   "metadata": {},
   "source": [
    "#### Plotting Wildfire Data"
   ]
  },
  {
   "cell_type": "code",
   "execution_count": 37,
   "metadata": {},
   "outputs": [],
   "source": [
    "usa = gpd.read_file('../Idea1/states_21basic/states.shp')"
   ]
  },
  {
   "cell_type": "code",
   "execution_count": 38,
   "metadata": {},
   "outputs": [],
   "source": [
    "usa.drop(usa[usa['STATE_NAME'] =='Alaska'].index, inplace=True)\n",
    "usa.drop(usa[usa['STATE_NAME'] =='Hawaii'].index, inplace=True)"
   ]
  },
  {
   "cell_type": "code",
   "execution_count": 39,
   "metadata": {},
   "outputs": [],
   "source": [
    "CA = usa[usa.STATE_ABBR == 'CA']"
   ]
  },
  {
   "cell_type": "code",
   "execution_count": 40,
   "metadata": {},
   "outputs": [
    {
     "data": {
      "text/plain": [
       "<matplotlib.axes._subplots.AxesSubplot at 0x12659a150>"
      ]
     },
     "execution_count": 40,
     "metadata": {},
     "output_type": "execute_result"
    },
    {
     "data": {
      "image/png": "[encoded data removed]",
      "text/plain": [
       "<Figure size 144x144 with 1 Axes>"
      ]
     },
     "metadata": {
      "needs_background": "light"
     },
     "output_type": "display_data"
    }
   ],
   "source": [
    "fig, ax = plt.subplots(figsize = (2,2))\n",
    "CA.plot(ax = ax)"
   ]
  },
  {
   "cell_type": "code",
   "execution_count": 41,
   "metadata": {},
   "outputs": [],
   "source": [
    "geometry = [Point(xy) for xy in zip(df['LONGITUDE'], df['LATITUDE'])]"
   ]
  },
  {
   "cell_type": "code",
   "execution_count": 42,
   "metadata": {},
   "outputs": [
    {
     "data": {
      "text/plain": [
       "19703"
      ]
     },
     "execution_count": 42,
     "metadata": {},
     "output_type": "execute_result"
    }
   ],
   "source": [
    "len(geometry)"
   ]
  },
  {
   "cell_type": "code",
   "execution_count": 43,
   "metadata": {},
   "outputs": [],
   "source": [
    "geo_df = gpd.GeoDataFrame(df, crs = crs, geometry = geometry)"
   ]
  },
  {
   "cell_type": "code",
   "execution_count": 44,
   "metadata": {},
   "outputs": [
    {
     "data": {
      "text/plain": [
       "<matplotlib.axes._subplots.AxesSubplot at 0x125859d90>"
      ]
     },
     "execution_count": 44,
     "metadata": {},
     "output_type": "execute_result"
    },
    {
     "data": {
      "image/png": "[encoded data removed]",
      "text/plain": [
       "<Figure size 1080x1080 with 1 Axes>"
      ]
     },
     "metadata": {
      "needs_background": "light"
     },
     "output_type": "display_data"
    }
   ],
   "source": [
    "fig, ax = plt.subplots(figsize = (15,15))\n",
    "CA.plot(ax=ax, alpha = 0.1, color='grey')\n",
    "geo_df[geo_df['FIPS_NAME'] == 'Santa Clara'].plot(ax = ax, color='red')\n",
    "geo_df[geo_df['FIPS_NAME'] == 'Los Angeles'].plot(ax = ax, color='green')\n",
    "geo_df[geo_df['FIPS_NAME'] == 'Sacramento'].plot(ax = ax, color='black')"
   ]
  },
  {
   "cell_type": "markdown",
   "metadata": {},
   "source": [
    "##### NExt step is to download meterological data for each county, for each year. Download NDVI, elevation data etc. "
   ]
  },
  {
   "cell_type": "code",
   "execution_count": null,
   "metadata": {},
   "outputs": [],
   "source": []
  }
 ],
 "metadata": {
  "kernelspec": {
   "display_name": "Python 3",
   "language": "python",
   "name": "python3"
  },
  "language_info": {
   "codemirror_mode": {
    "name": "ipython",
    "version": 3
   },
   "file_extension": ".py",
   "mimetype": "text/x-python",
   "name": "python",
   "nbconvert_exporter": "python",
   "pygments_lexer": "ipython3",
   "version": "3.7.4"
  }
 },
 "nbformat": 4,
 "nbformat_minor": 2
}
