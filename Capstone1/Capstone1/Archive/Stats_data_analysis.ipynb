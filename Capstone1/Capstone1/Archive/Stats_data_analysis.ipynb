{
 "cells": [
  {
   "cell_type": "markdown",
   "metadata": {},
   "source": [
    "<b> <font size = 4> Lasso regularization for BC dataset </font> </b>"
   ]
  },
  {
   "cell_type": "code",
   "execution_count": null,
   "metadata": {},
   "outputs": [],
   "source": [
    "#Instantiate a Lasso Regularization model\n",
    "reg = LassoCV(cv=5, random_state=0, alpha = 1)\n",
    "\n",
    "#Fit the model to BC X and y\n",
    "reg.fit(X_BC, y_BC)\n",
    "\n",
    "# Lasso Scores\n",
    "print(\"Best alpha using LassoCV: %f\" % reg.alpha_)\n",
    "print(\"Best score using LassoCV: %f\" %reg.score(X_BC,y_BC))\n",
    "\n",
    "#Estimate model coefficients. Coefficient of zero indicates that feature can be dropped\n",
    "coef = pd.Series(reg.coef_, index = X_BC.columns)"
   ]
  },
  {
   "cell_type": "code",
   "execution_count": null,
   "metadata": {},
   "outputs": [],
   "source": [
    "print(\"Lasso picked \" + str(sum(coef != 0)) + \" variables and eliminated the other \" +  str(sum(coef == 0)) + \" variables\")"
   ]
  },
  {
   "cell_type": "code",
   "execution_count": null,
   "metadata": {},
   "outputs": [],
   "source": [
    "#Display feature importance using Lasso model\n",
    "\n",
    "#Sort the features\n",
    "imp_coef = coef.sort_values()\n",
    "\n",
    "# Plot feature importance in  bar graph\n",
    "plt.figure(figsize = (10,20))\n",
    "imp_coef.plot(kind = \"barh\", color='green')\n",
    "plt.title(\"Feature importance using Lasso Model for BC Dataset\")"
   ]
  },
  {
   "cell_type": "markdown",
   "metadata": {},
   "source": [
    "<b> <font size = 4> Lasso regularization for NO2 dataset </font> </b>"
   ]
  },
  {
   "cell_type": "code",
   "execution_count": null,
   "metadata": {},
   "outputs": [],
   "source": [
    "#Instantiate a Lasso Regularization model\n",
    "reg = LassoCV(cv=5, random_state=0)\n",
    "\n",
    "#Fit the model to NO2 X and y\n",
    "reg.fit(X_NO2, y_NO2)\n",
    "\n",
    "# Lasso Scores\n",
    "print(\"Best alpha using LassoCV: %f\" % reg.alpha_)\n",
    "print(\"Best score using LassoCV: %f\" %reg.score(X_NO2,y_NO2))\n",
    "\n",
    "#Estimate model coefficients. Coefficient of zero indicates that feature can be dropped\n",
    "coef = pd.Series(reg.coef_, index = X_NO2.columns)"
   ]
  },
  {
   "cell_type": "code",
   "execution_count": null,
   "metadata": {},
   "outputs": [],
   "source": [
    "print(\"Lasso picked \" + str(sum(coef != 0)) + \" variables and eliminated the other \" +  str(sum(coef == 0)) + \" variables\")"
   ]
  },
  {
   "cell_type": "code",
   "execution_count": null,
   "metadata": {},
   "outputs": [],
   "source": [
    "#Display feature importance using Lasso model\n",
    "\n",
    "#Sort the features\n",
    "imp_coef = coef.sort_values()\n",
    "\n",
    "# Plot feature importance in  bar graph\n",
    "plt.figure(figsize = (10,20))\n",
    "imp_coef.plot(kind = \"barh\", color='orange')\n",
    "plt.title(\"Feature importance using Lasso Model for NO2 Dataset\")"
   ]
  }
 ],
 "metadata": {
  "kernelspec": {
   "display_name": "Python 3",
   "language": "python",
   "name": "python3"
  },
  "language_info": {
   "codemirror_mode": {
    "name": "ipython",
    "version": 3
   },
   "file_extension": ".py",
   "mimetype": "text/x-python",
   "name": "python",
   "nbconvert_exporter": "python",
   "pygments_lexer": "ipython3",
   "version": "3.7.4"
  }
 },
 "nbformat": 4,
 "nbformat_minor": 2
}
