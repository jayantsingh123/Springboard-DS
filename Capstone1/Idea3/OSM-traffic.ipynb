{
 "cells": [
  {
   "cell_type": "markdown",
   "metadata": {},
   "source": [
    "#### This notebook uses the Overpass API from Open Street Maps to determine all the traffic signals within a given bounding box\n",
    "#### The overpy library is used to send the request to the API and this call returns the latitude and longitude of all traffic signals\n",
    "#### All the traffic intersections are then plotted on a map using Geopandas\n",
    "#### Next, a traffic score is calculated as the 'Number of traffic intersections within a 1,000 ft buffer' to each point in the monitoring data"
   ]
  },
  {
   "cell_type": "code",
   "execution_count": 2,
   "metadata": {},
   "outputs": [],
   "source": [
    "import overpy\n",
    "import pandas as pd\n",
    "import numpy as np\n",
    "import matplotlib.pyplot as plt\n",
    "import descartes\n",
    "import geopandas as gpd\n",
    "from shapely.geometry import Point, Polygon\n",
    "from shapely.ops import nearest_points\n",
    "\n",
    "import seaborn as sns\n",
    "\n",
    "from mpl_toolkits.axes_grid1 import make_axes_locatable\n",
    "\n",
    "import math\n",
    "\n",
    "import time\n",
    "\n",
    "\n",
    "from scipy.stats import boxcox\n",
    "\n",
    "\n",
    "from matplotlib import cm\n",
    "\n",
    "import matplotlib.lines as mlines\n",
    "\n",
    "sns.set(style = 'whitegrid')\n",
    "sns.set_palette('bright')\n",
    "%matplotlib inline"
   ]
  },
  {
   "cell_type": "markdown",
   "metadata": {},
   "source": [
    "####  Most of the code below is from <a href = \"https://python-overpy.readthedocs.io/en/latest/introduction.html\"> here </a>. Fetch all nodes using API Query. Here the node is specified as 'Highway - Traffic_signals'. \n",
    "\n",
    "       "
   ]
  },
  {
   "cell_type": "code",
   "execution_count": 3,
   "metadata": {},
   "outputs": [],
   "source": [
    "api = overpy.Overpass()\n",
    "result = api.query(\"\"\"\n",
    "    node(37.68,-122.36,37.8712,-122.03) [\"highway\"=\"traffic_signals\"];\n",
    "    (._;>;);\n",
    "    out body;\n",
    "    \"\"\")\n",
    "traffic_lat = []\n",
    "traffic_lon = []\n",
    "for node in result.nodes:\n",
    "    traffic_lat.append(node.lat)\n",
    "    traffic_lon.append(node.lon)\n"
   ]
  },
  {
   "cell_type": "code",
   "execution_count": 4,
   "metadata": {},
   "outputs": [],
   "source": [
    "traffic_df = pd.DataFrame(list(zip(traffic_lat, traffic_lon)), columns = ['Latitude', 'Longitude'])"
   ]
  },
  {
   "cell_type": "code",
   "execution_count": 5,
   "metadata": {},
   "outputs": [],
   "source": [
    "traffic_df.to_csv(\"Data/all_traffic_intersections.csv\")"
   ]
  },
  {
   "cell_type": "code",
   "execution_count": 6,
   "metadata": {},
   "outputs": [
    {
     "data": {
      "text/html": [
       "<div>\n",
       "<style scoped>\n",
       "    .dataframe tbody tr th:only-of-type {\n",
       "        vertical-align: middle;\n",
       "    }\n",
       "\n",
       "    .dataframe tbody tr th {\n",
       "        vertical-align: top;\n",
       "    }\n",
       "\n",
       "    .dataframe thead th {\n",
       "        text-align: right;\n",
       "    }\n",
       "</style>\n",
       "<table border=\"1\" class=\"dataframe\">\n",
       "  <thead>\n",
       "    <tr style=\"text-align: right;\">\n",
       "      <th></th>\n",
       "      <th>Latitude</th>\n",
       "      <th>Longitude</th>\n",
       "    </tr>\n",
       "  </thead>\n",
       "  <tbody>\n",
       "    <tr>\n",
       "      <td>0</td>\n",
       "      <td>37.8282475</td>\n",
       "      <td>-122.2804753</td>\n",
       "    </tr>\n",
       "    <tr>\n",
       "      <td>1</td>\n",
       "      <td>37.8382510</td>\n",
       "      <td>-122.2961775</td>\n",
       "    </tr>\n",
       "    <tr>\n",
       "      <td>2</td>\n",
       "      <td>37.8465714</td>\n",
       "      <td>-122.2993871</td>\n",
       "    </tr>\n",
       "    <tr>\n",
       "      <td>3</td>\n",
       "      <td>37.8400139</td>\n",
       "      <td>-122.2978938</td>\n",
       "    </tr>\n",
       "    <tr>\n",
       "      <td>4</td>\n",
       "      <td>37.8374211</td>\n",
       "      <td>-122.2998935</td>\n",
       "    </tr>\n",
       "  </tbody>\n",
       "</table>\n",
       "</div>"
      ],
      "text/plain": [
       "     Latitude     Longitude\n",
       "0  37.8282475  -122.2804753\n",
       "1  37.8382510  -122.2961775\n",
       "2  37.8465714  -122.2993871\n",
       "3  37.8400139  -122.2978938\n",
       "4  37.8374211  -122.2998935"
      ]
     },
     "execution_count": 6,
     "metadata": {},
     "output_type": "execute_result"
    }
   ],
   "source": [
    "traffic_df.head()"
   ]
  },
  {
   "cell_type": "markdown",
   "metadata": {},
   "source": [
    "### Load Air Pollution Monitoring Data"
   ]
  },
  {
   "cell_type": "code",
   "execution_count": 7,
   "metadata": {},
   "outputs": [
    {
     "data": {
      "text/html": [
       "<div>\n",
       "<style scoped>\n",
       "    .dataframe tbody tr th:only-of-type {\n",
       "        vertical-align: middle;\n",
       "    }\n",
       "\n",
       "    .dataframe tbody tr th {\n",
       "        vertical-align: top;\n",
       "    }\n",
       "\n",
       "    .dataframe thead th {\n",
       "        text-align: right;\n",
       "    }\n",
       "</style>\n",
       "<table border=\"1\" class=\"dataframe\">\n",
       "  <thead>\n",
       "    <tr style=\"text-align: right;\">\n",
       "      <th></th>\n",
       "      <th>Longitude</th>\n",
       "      <th>Latitude</th>\n",
       "      <th>NO Value</th>\n",
       "      <th>NO2 Value</th>\n",
       "      <th>BC Value</th>\n",
       "    </tr>\n",
       "  </thead>\n",
       "  <tbody>\n",
       "    <tr>\n",
       "      <td>21483</td>\n",
       "      <td>-122.034943</td>\n",
       "      <td>37.560076</td>\n",
       "      <td>129.999995</td>\n",
       "      <td>44.778220</td>\n",
       "      <td>3.923761</td>\n",
       "    </tr>\n",
       "    <tr>\n",
       "      <td>21484</td>\n",
       "      <td>-122.034724</td>\n",
       "      <td>37.560164</td>\n",
       "      <td>60.799998</td>\n",
       "      <td>39.027545</td>\n",
       "      <td>1.408693</td>\n",
       "    </tr>\n",
       "    <tr>\n",
       "      <td>21485</td>\n",
       "      <td>-122.034681</td>\n",
       "      <td>37.559830</td>\n",
       "      <td>34.622951</td>\n",
       "      <td>28.816797</td>\n",
       "      <td>2.659885</td>\n",
       "    </tr>\n",
       "    <tr>\n",
       "      <td>21486</td>\n",
       "      <td>-122.034504</td>\n",
       "      <td>37.559958</td>\n",
       "      <td>74.764705</td>\n",
       "      <td>35.735434</td>\n",
       "      <td>1.776353</td>\n",
       "    </tr>\n",
       "    <tr>\n",
       "      <td>21487</td>\n",
       "      <td>-122.034503</td>\n",
       "      <td>37.559957</td>\n",
       "      <td>78.754782</td>\n",
       "      <td>41.062757</td>\n",
       "      <td>2.014664</td>\n",
       "    </tr>\n",
       "  </tbody>\n",
       "</table>\n",
       "</div>"
      ],
      "text/plain": [
       "        Longitude   Latitude    NO Value  NO2 Value  BC Value\n",
       "21483 -122.034943  37.560076  129.999995  44.778220  3.923761\n",
       "21484 -122.034724  37.560164   60.799998  39.027545  1.408693\n",
       "21485 -122.034681  37.559830   34.622951  28.816797  2.659885\n",
       "21486 -122.034504  37.559958   74.764705  35.735434  1.776353\n",
       "21487 -122.034503  37.559957   78.754782  41.062757  2.014664"
      ]
     },
     "execution_count": 7,
     "metadata": {},
     "output_type": "execute_result"
    }
   ],
   "source": [
    "df = pd.read_csv('EDF_Data.csv', header = 1)\n",
    "df.tail()"
   ]
  },
  {
   "cell_type": "code",
   "execution_count": null,
   "metadata": {},
   "outputs": [],
   "source": []
  }
 ],
 "metadata": {
  "kernelspec": {
   "display_name": "Python 3",
   "language": "python",
   "name": "python3"
  },
  "language_info": {
   "codemirror_mode": {
    "name": "ipython",
    "version": 3
   },
   "file_extension": ".py",
   "mimetype": "text/x-python",
   "name": "python",
   "nbconvert_exporter": "python",
   "pygments_lexer": "ipython3",
   "version": "3.7.4"
  }
 },
 "nbformat": 4,
 "nbformat_minor": 2
}
