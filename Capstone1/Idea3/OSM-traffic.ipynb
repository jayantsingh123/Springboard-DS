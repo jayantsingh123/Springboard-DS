{
 "cells": [
  {
   "cell_type": "markdown",
   "metadata": {},
   "source": [
    "#### This notebook uses the Overpass API from Open Street Maps to determine all the traffic signals within a given bounding box\n",
    "#### The overpy library is used to send the request to the API and this call returns the latitude and longitude of all traffic signals\n",
    "#### Next, the distance between each traffic intersection and each point in the monitoring data is measured\n",
    "#### A traffic score is calculated as the 'Number of traffic intersections within a 1,000 ft buffer' to each point in the monitoring data"
   ]
  },
  {
   "cell_type": "code",
   "execution_count": 164,
   "metadata": {},
   "outputs": [],
   "source": [
    "import overpy\n",
    "import pandas as pd\n",
    "import numpy as np\n",
    "import matplotlib.pyplot as plt\n",
    "import descartes\n",
    "import geopandas as gpd\n",
    "from shapely.geometry import Point, Polygon\n",
    "from shapely.ops import nearest_points\n",
    "\n",
    "import seaborn as sns\n",
    "\n",
    "from mpl_toolkits.axes_grid1 import make_axes_locatable\n",
    "\n",
    "import math\n",
    "\n",
    "import time\n",
    "\n",
    "\n",
    "from scipy.stats import boxcox\n",
    "\n",
    "\n",
    "from matplotlib import cm\n",
    "\n",
    "import matplotlib.lines as mlines\n",
    "\n",
    "sns.set(style = 'whitegrid')\n",
    "sns.set_palette('bright')\n",
    "%matplotlib inline"
   ]
  },
  {
   "cell_type": "markdown",
   "metadata": {},
   "source": [
    "####  Most of the code below is from <a href = \"https://python-overpy.readthedocs.io/en/latest/introduction.html\"> here </a>. Fetch all nodes using API Query. Here the node is specified as 'Highway - Traffic_signals'. \n",
    "\n",
    "       "
   ]
  },
  {
   "cell_type": "code",
   "execution_count": null,
   "metadata": {},
   "outputs": [],
   "source": [
    "api = overpy.Overpass()\n",
    "result = api.query(\"\"\"\n",
    "    node(37.68,-122.36,37.8712,-122.03) [\"highway\"=\"traffic_signals\"];\n",
    "    (._;>;);\n",
    "    out body;\n",
    "    \"\"\")\n",
    "traffic_lat = []\n",
    "traffic_lon = []\n",
    "for node in result.nodes:\n",
    "    traffic_lat.append(node.lat)\n",
    "    traffic_lon.append(node.lon)\n"
   ]
  },
  {
   "cell_type": "code",
   "execution_count": null,
   "metadata": {},
   "outputs": [],
   "source": [
    "traffic_df = pd.DataFrame(list(zip(traffic_lat, traffic_lon)), columns = ['Latitude', 'Longitude'])"
   ]
  },
  {
   "cell_type": "code",
   "execution_count": null,
   "metadata": {},
   "outputs": [],
   "source": [
    "traffic_df.to_csv(\"Data/all_traffic_intersections.csv\")"
   ]
  },
  {
   "cell_type": "markdown",
   "metadata": {},
   "source": [
    "### Reading traffic intersection data"
   ]
  },
  {
   "cell_type": "code",
   "execution_count": 74,
   "metadata": {},
   "outputs": [],
   "source": [
    "traffic_df = pd.read_csv(\"Data/all_traffic_intersections.csv\")"
   ]
  },
  {
   "cell_type": "code",
   "execution_count": 75,
   "metadata": {},
   "outputs": [],
   "source": [
    "#Drop the first column\n",
    "traffic_df.drop(columns = ['Unnamed: 0'], inplace=True)"
   ]
  },
  {
   "cell_type": "code",
   "execution_count": 76,
   "metadata": {},
   "outputs": [],
   "source": [
    "## Rename index and intersection number\n",
    "traffic_df.rename(columns = {'index':'Intersection'}, inplace=True)"
   ]
  },
  {
   "cell_type": "code",
   "execution_count": 77,
   "metadata": {},
   "outputs": [
    {
     "data": {
      "text/plain": [
       "0       0.0\n",
       "1       0.0\n",
       "2       0.0\n",
       "3       0.0\n",
       "4       0.0\n",
       "       ... \n",
       "1631    0.0\n",
       "1632    0.0\n",
       "1633    0.0\n",
       "1634    0.0\n",
       "1635    0.0\n",
       "Name: dist, Length: 1636, dtype: float64"
      ]
     },
     "execution_count": 77,
     "metadata": {},
     "output_type": "execute_result"
    }
   ],
   "source": [
    "### Add an empty column for distance\n",
    "traffic_df['dist'] = 0\n",
    "traffic_df['dist'].astype(float)"
   ]
  },
  {
   "cell_type": "markdown",
   "metadata": {},
   "source": [
    "### Reading Air Pollution Monitoring Data"
   ]
  },
  {
   "cell_type": "code",
   "execution_count": 78,
   "metadata": {},
   "outputs": [
    {
     "data": {
      "text/html": [
       "<div>\n",
       "<style scoped>\n",
       "    .dataframe tbody tr th:only-of-type {\n",
       "        vertical-align: middle;\n",
       "    }\n",
       "\n",
       "    .dataframe tbody tr th {\n",
       "        vertical-align: top;\n",
       "    }\n",
       "\n",
       "    .dataframe thead th {\n",
       "        text-align: right;\n",
       "    }\n",
       "</style>\n",
       "<table border=\"1\" class=\"dataframe\">\n",
       "  <thead>\n",
       "    <tr style=\"text-align: right;\">\n",
       "      <th></th>\n",
       "      <th>Longitude</th>\n",
       "      <th>Latitude</th>\n",
       "      <th>NO Value</th>\n",
       "      <th>NO2 Value</th>\n",
       "      <th>BC Value</th>\n",
       "    </tr>\n",
       "  </thead>\n",
       "  <tbody>\n",
       "    <tr>\n",
       "      <td>21483</td>\n",
       "      <td>-122.034943</td>\n",
       "      <td>37.560076</td>\n",
       "      <td>129.999995</td>\n",
       "      <td>44.778220</td>\n",
       "      <td>3.923761</td>\n",
       "    </tr>\n",
       "    <tr>\n",
       "      <td>21484</td>\n",
       "      <td>-122.034724</td>\n",
       "      <td>37.560164</td>\n",
       "      <td>60.799998</td>\n",
       "      <td>39.027545</td>\n",
       "      <td>1.408693</td>\n",
       "    </tr>\n",
       "    <tr>\n",
       "      <td>21485</td>\n",
       "      <td>-122.034681</td>\n",
       "      <td>37.559830</td>\n",
       "      <td>34.622951</td>\n",
       "      <td>28.816797</td>\n",
       "      <td>2.659885</td>\n",
       "    </tr>\n",
       "    <tr>\n",
       "      <td>21486</td>\n",
       "      <td>-122.034504</td>\n",
       "      <td>37.559958</td>\n",
       "      <td>74.764705</td>\n",
       "      <td>35.735434</td>\n",
       "      <td>1.776353</td>\n",
       "    </tr>\n",
       "    <tr>\n",
       "      <td>21487</td>\n",
       "      <td>-122.034503</td>\n",
       "      <td>37.559957</td>\n",
       "      <td>78.754782</td>\n",
       "      <td>41.062757</td>\n",
       "      <td>2.014664</td>\n",
       "    </tr>\n",
       "  </tbody>\n",
       "</table>\n",
       "</div>"
      ],
      "text/plain": [
       "        Longitude   Latitude    NO Value  NO2 Value  BC Value\n",
       "21483 -122.034943  37.560076  129.999995  44.778220  3.923761\n",
       "21484 -122.034724  37.560164   60.799998  39.027545  1.408693\n",
       "21485 -122.034681  37.559830   34.622951  28.816797  2.659885\n",
       "21486 -122.034504  37.559958   74.764705  35.735434  1.776353\n",
       "21487 -122.034503  37.559957   78.754782  41.062757  2.014664"
      ]
     },
     "execution_count": 78,
     "metadata": {},
     "output_type": "execute_result"
    }
   ],
   "source": [
    "df = pd.read_csv('EDF_Data.csv', header = 1)\n",
    "df.tail()"
   ]
  },
  {
   "cell_type": "code",
   "execution_count": 91,
   "metadata": {},
   "outputs": [],
   "source": [
    "BC_df = df[['Longitude', 'Latitude', 'BC Value']]"
   ]
  },
  {
   "cell_type": "code",
   "execution_count": 92,
   "metadata": {},
   "outputs": [],
   "source": [
    "NO2_df = df[['Longitude', 'Latitude', 'NO2 Value']]"
   ]
  },
  {
   "cell_type": "markdown",
   "metadata": {},
   "source": [
    "### Convert traffic dataset into a column format to calculate distance"
   ]
  },
  {
   "cell_type": "code",
   "execution_count": 79,
   "metadata": {},
   "outputs": [],
   "source": [
    "# Create individual dataframes\n",
    "traffic_lat = traffic_df[['Intersection', 'Latitude']]\n",
    "traffic_long = traffic_df[['Intersection', 'Longitude']]\n",
    "traffic_dist = traffic_df[['Intersection', 'dist']]"
   ]
  },
  {
   "cell_type": "code",
   "execution_count": 80,
   "metadata": {},
   "outputs": [],
   "source": [
    "# Transpose all the dataframes\n",
    "traffic_lat = traffic_lat.T\n",
    "traffic_long = traffic_long.T\n",
    "traffic_dist  = traffic_dist.T"
   ]
  },
  {
   "cell_type": "code",
   "execution_count": 81,
   "metadata": {},
   "outputs": [],
   "source": [
    "## Make the header as the first row in each transposed dataframe\n",
    "traffic_lat = traffic_lat.rename(columns=traffic_lat.iloc[0].astype(int)).drop(traffic_lat.index[0])\n",
    "traffic_long = traffic_long.rename(columns=traffic_long.iloc[0].astype(int)).drop(traffic_long.index[0])\n",
    "traffic_dist = traffic_dist.rename(columns=traffic_dist.iloc[0].astype(int)).drop(traffic_dist.index[0])"
   ]
  },
  {
   "cell_type": "code",
   "execution_count": 82,
   "metadata": {},
   "outputs": [],
   "source": [
    "## Add suffix to column header based on the dataframe type\n",
    "traffic_lat.columns = [str(col) + '_latitude' for col in traffic_lat.columns]\n",
    "traffic_long.columns = [str(col) + '_longitude' for col in traffic_long.columns]\n",
    "traffic_dist.columns = [str(col) + '_distance' for col in traffic_dist.columns]"
   ]
  },
  {
   "cell_type": "code",
   "execution_count": 83,
   "metadata": {},
   "outputs": [],
   "source": [
    "## Remove index for each dataframe\n",
    "traffic_lat.reset_index(drop=True, inplace=True)\n",
    "traffic_long.reset_index(drop=True, inplace=True)\n",
    "traffic_dist.reset_index(drop=True, inplace=True)"
   ]
  },
  {
   "cell_type": "code",
   "execution_count": 84,
   "metadata": {},
   "outputs": [],
   "source": [
    "### Combine individual dataframes into one\n",
    "traffic_combined = traffic_lat.join(traffic_long).join(traffic_dist)"
   ]
  },
  {
   "cell_type": "code",
   "execution_count": 85,
   "metadata": {},
   "outputs": [],
   "source": [
    "### Sort based on column names\n",
    "traffic_combined = traffic_combined.reindex(columns=sorted(traffic_combined.columns))"
   ]
  },
  {
   "cell_type": "code",
   "execution_count": 86,
   "metadata": {},
   "outputs": [],
   "source": [
    "#Create a datafram where each row contains emissions of PM2.5 for each facility\n",
    "traffic_combined = traffic_combined.loc[traffic_combined.index.repeat(21488)].reset_index(drop=True)"
   ]
  },
  {
   "cell_type": "code",
   "execution_count": 93,
   "metadata": {},
   "outputs": [],
   "source": [
    "combined_BC_traffic = BC_df.join(traffic_combined)"
   ]
  },
  {
   "cell_type": "code",
   "execution_count": 94,
   "metadata": {},
   "outputs": [],
   "source": [
    "combined_NO2_traffic = NO2_df.join(traffic_combined)"
   ]
  },
  {
   "cell_type": "code",
   "execution_count": 98,
   "metadata": {},
   "outputs": [
    {
     "data": {
      "text/html": [
       "<div>\n",
       "<style scoped>\n",
       "    .dataframe tbody tr th:only-of-type {\n",
       "        vertical-align: middle;\n",
       "    }\n",
       "\n",
       "    .dataframe tbody tr th {\n",
       "        vertical-align: top;\n",
       "    }\n",
       "\n",
       "    .dataframe thead th {\n",
       "        text-align: right;\n",
       "    }\n",
       "</style>\n",
       "<table border=\"1\" class=\"dataframe\">\n",
       "  <thead>\n",
       "    <tr style=\"text-align: right;\">\n",
       "      <th></th>\n",
       "      <th>Longitude</th>\n",
       "      <th>Latitude</th>\n",
       "      <th>BC Value</th>\n",
       "      <th>0_distance</th>\n",
       "      <th>0_latitude</th>\n",
       "      <th>0_longitude</th>\n",
       "      <th>1000_distance</th>\n",
       "      <th>1000_latitude</th>\n",
       "      <th>1000_longitude</th>\n",
       "      <th>1001_distance</th>\n",
       "      <th>...</th>\n",
       "      <th>998_longitude</th>\n",
       "      <th>999_distance</th>\n",
       "      <th>999_latitude</th>\n",
       "      <th>999_longitude</th>\n",
       "      <th>99_distance</th>\n",
       "      <th>99_latitude</th>\n",
       "      <th>99_longitude</th>\n",
       "      <th>9_distance</th>\n",
       "      <th>9_latitude</th>\n",
       "      <th>9_longitude</th>\n",
       "    </tr>\n",
       "  </thead>\n",
       "  <tbody>\n",
       "    <tr>\n",
       "      <td>0</td>\n",
       "      <td>-122.322594</td>\n",
       "      <td>37.806781</td>\n",
       "      <td>0.818032</td>\n",
       "      <td>0.0</td>\n",
       "      <td>37.828247</td>\n",
       "      <td>-122.280475</td>\n",
       "      <td>0.0</td>\n",
       "      <td>37.820811</td>\n",
       "      <td>-122.205609</td>\n",
       "      <td>0.0</td>\n",
       "      <td>...</td>\n",
       "      <td>-122.23735</td>\n",
       "      <td>0.0</td>\n",
       "      <td>37.817592</td>\n",
       "      <td>-122.305863</td>\n",
       "      <td>0.0</td>\n",
       "      <td>37.808595</td>\n",
       "      <td>-122.267023</td>\n",
       "      <td>0.0</td>\n",
       "      <td>37.693106</td>\n",
       "      <td>-122.066624</td>\n",
       "    </tr>\n",
       "    <tr>\n",
       "      <td>1</td>\n",
       "      <td>-122.322310</td>\n",
       "      <td>37.806150</td>\n",
       "      <td>0.551475</td>\n",
       "      <td>0.0</td>\n",
       "      <td>37.828247</td>\n",
       "      <td>-122.280475</td>\n",
       "      <td>0.0</td>\n",
       "      <td>37.820811</td>\n",
       "      <td>-122.205609</td>\n",
       "      <td>0.0</td>\n",
       "      <td>...</td>\n",
       "      <td>-122.23735</td>\n",
       "      <td>0.0</td>\n",
       "      <td>37.817592</td>\n",
       "      <td>-122.305863</td>\n",
       "      <td>0.0</td>\n",
       "      <td>37.808595</td>\n",
       "      <td>-122.267023</td>\n",
       "      <td>0.0</td>\n",
       "      <td>37.693106</td>\n",
       "      <td>-122.066624</td>\n",
       "    </tr>\n",
       "    <tr>\n",
       "      <td>2</td>\n",
       "      <td>-122.322301</td>\n",
       "      <td>37.806420</td>\n",
       "      <td>0.593712</td>\n",
       "      <td>0.0</td>\n",
       "      <td>37.828247</td>\n",
       "      <td>-122.280475</td>\n",
       "      <td>0.0</td>\n",
       "      <td>37.820811</td>\n",
       "      <td>-122.205609</td>\n",
       "      <td>0.0</td>\n",
       "      <td>...</td>\n",
       "      <td>-122.23735</td>\n",
       "      <td>0.0</td>\n",
       "      <td>37.817592</td>\n",
       "      <td>-122.305863</td>\n",
       "      <td>0.0</td>\n",
       "      <td>37.808595</td>\n",
       "      <td>-122.267023</td>\n",
       "      <td>0.0</td>\n",
       "      <td>37.693106</td>\n",
       "      <td>-122.066624</td>\n",
       "    </tr>\n",
       "    <tr>\n",
       "      <td>3</td>\n",
       "      <td>-122.322299</td>\n",
       "      <td>37.805880</td>\n",
       "      <td>0.489898</td>\n",
       "      <td>0.0</td>\n",
       "      <td>37.828247</td>\n",
       "      <td>-122.280475</td>\n",
       "      <td>0.0</td>\n",
       "      <td>37.820811</td>\n",
       "      <td>-122.205609</td>\n",
       "      <td>0.0</td>\n",
       "      <td>...</td>\n",
       "      <td>-122.23735</td>\n",
       "      <td>0.0</td>\n",
       "      <td>37.817592</td>\n",
       "      <td>-122.305863</td>\n",
       "      <td>0.0</td>\n",
       "      <td>37.808595</td>\n",
       "      <td>-122.267023</td>\n",
       "      <td>0.0</td>\n",
       "      <td>37.693106</td>\n",
       "      <td>-122.066624</td>\n",
       "    </tr>\n",
       "    <tr>\n",
       "      <td>4</td>\n",
       "      <td>-122.322267</td>\n",
       "      <td>37.806689</td>\n",
       "      <td>0.739341</td>\n",
       "      <td>0.0</td>\n",
       "      <td>37.828247</td>\n",
       "      <td>-122.280475</td>\n",
       "      <td>0.0</td>\n",
       "      <td>37.820811</td>\n",
       "      <td>-122.205609</td>\n",
       "      <td>0.0</td>\n",
       "      <td>...</td>\n",
       "      <td>-122.23735</td>\n",
       "      <td>0.0</td>\n",
       "      <td>37.817592</td>\n",
       "      <td>-122.305863</td>\n",
       "      <td>0.0</td>\n",
       "      <td>37.808595</td>\n",
       "      <td>-122.267023</td>\n",
       "      <td>0.0</td>\n",
       "      <td>37.693106</td>\n",
       "      <td>-122.066624</td>\n",
       "    </tr>\n",
       "  </tbody>\n",
       "</table>\n",
       "<p>5 rows × 4911 columns</p>\n",
       "</div>"
      ],
      "text/plain": [
       "    Longitude   Latitude  BC Value  0_distance  0_latitude  0_longitude  \\\n",
       "0 -122.322594  37.806781  0.818032         0.0   37.828247  -122.280475   \n",
       "1 -122.322310  37.806150  0.551475         0.0   37.828247  -122.280475   \n",
       "2 -122.322301  37.806420  0.593712         0.0   37.828247  -122.280475   \n",
       "3 -122.322299  37.805880  0.489898         0.0   37.828247  -122.280475   \n",
       "4 -122.322267  37.806689  0.739341         0.0   37.828247  -122.280475   \n",
       "\n",
       "   1000_distance  1000_latitude  1000_longitude  1001_distance  ...  \\\n",
       "0            0.0      37.820811     -122.205609            0.0  ...   \n",
       "1            0.0      37.820811     -122.205609            0.0  ...   \n",
       "2            0.0      37.820811     -122.205609            0.0  ...   \n",
       "3            0.0      37.820811     -122.205609            0.0  ...   \n",
       "4            0.0      37.820811     -122.205609            0.0  ...   \n",
       "\n",
       "   998_longitude  999_distance  999_latitude  999_longitude  99_distance  \\\n",
       "0     -122.23735           0.0     37.817592    -122.305863          0.0   \n",
       "1     -122.23735           0.0     37.817592    -122.305863          0.0   \n",
       "2     -122.23735           0.0     37.817592    -122.305863          0.0   \n",
       "3     -122.23735           0.0     37.817592    -122.305863          0.0   \n",
       "4     -122.23735           0.0     37.817592    -122.305863          0.0   \n",
       "\n",
       "   99_latitude  99_longitude  9_distance  9_latitude  9_longitude  \n",
       "0    37.808595   -122.267023         0.0   37.693106  -122.066624  \n",
       "1    37.808595   -122.267023         0.0   37.693106  -122.066624  \n",
       "2    37.808595   -122.267023         0.0   37.693106  -122.066624  \n",
       "3    37.808595   -122.267023         0.0   37.693106  -122.066624  \n",
       "4    37.808595   -122.267023         0.0   37.693106  -122.066624  \n",
       "\n",
       "[5 rows x 4911 columns]"
      ]
     },
     "execution_count": 98,
     "metadata": {},
     "output_type": "execute_result"
    }
   ],
   "source": [
    "combined_BC_traffic.head()"
   ]
  },
  {
   "cell_type": "code",
   "execution_count": 95,
   "metadata": {},
   "outputs": [],
   "source": [
    "# Convert distance or emissions distance column to float type\n",
    "for idx, col in enumerate(combined_BC_traffic.columns):\n",
    "        if \"_dist\" in col:\n",
    "            combined_BC_traffic[col] = pd.to_numeric(combined_BC_traffic[col], downcast=\"float\")\n",
    "\n"
   ]
  },
  {
   "cell_type": "code",
   "execution_count": 88,
   "metadata": {},
   "outputs": [],
   "source": [
    "### Defining a function to calculate the distance between two GPS coordinates (latitude and longitude)\n",
    "def distance(origin, destination):\n",
    "    lat1, lon1 = origin\n",
    "    lat2, lon2 = destination\n",
    "    radius = 6371 # km\n",
    "\n",
    "    dlat = math.radians(lat2-lat1)\n",
    "    dlon = math.radians(lon2-lon1)\n",
    "    a = math.sin(dlat/2) * math.sin(dlat/2) + math.cos(math.radians(lat1)) \\\n",
    "        * math.cos(math.radians(lat2)) * math.sin(dlon/2) * math.sin(dlon/2)\n",
    "    c = 2 * math.atan2(math.sqrt(a), math.sqrt(1-a))\n",
    "    d = radius * c\n",
    "\n",
    "    return d\n"
   ]
  },
  {
   "cell_type": "code",
   "execution_count": 99,
   "metadata": {},
   "outputs": [
    {
     "name": "stdout",
     "output_type": "stream",
     "text": [
      "1296.3486068248749\n"
     ]
    }
   ],
   "source": [
    "time1 = time.time()\n",
    "for index, row in combined_BC_traffic.iterrows():\n",
    "    for idx, col in enumerate(combined_BC_traffic.columns):\n",
    "        if \"_dist\" in col:\n",
    "            combined_BC_traffic.at[index,col] = float(distance((row.iloc[1], row.iloc[0]), (row.iloc[idx+1], row.iloc[idx+2])))*3280.84\n",
    "            #BC_Facility.at[index,col] = float(row.iloc[idx])\n",
    "time2 = time.time()            \n",
    "    \n",
    "print(time2 - time1)"
   ]
  },
  {
   "cell_type": "code",
   "execution_count": 100,
   "metadata": {},
   "outputs": [
    {
     "data": {
      "text/html": [
       "<div>\n",
       "<style scoped>\n",
       "    .dataframe tbody tr th:only-of-type {\n",
       "        vertical-align: middle;\n",
       "    }\n",
       "\n",
       "    .dataframe tbody tr th {\n",
       "        vertical-align: top;\n",
       "    }\n",
       "\n",
       "    .dataframe thead th {\n",
       "        text-align: right;\n",
       "    }\n",
       "</style>\n",
       "<table border=\"1\" class=\"dataframe\">\n",
       "  <thead>\n",
       "    <tr style=\"text-align: right;\">\n",
       "      <th></th>\n",
       "      <th>Longitude</th>\n",
       "      <th>Latitude</th>\n",
       "      <th>BC Value</th>\n",
       "      <th>0_distance</th>\n",
       "      <th>0_latitude</th>\n",
       "      <th>0_longitude</th>\n",
       "      <th>1000_distance</th>\n",
       "      <th>1000_latitude</th>\n",
       "      <th>1000_longitude</th>\n",
       "      <th>1001_distance</th>\n",
       "      <th>...</th>\n",
       "      <th>998_longitude</th>\n",
       "      <th>999_distance</th>\n",
       "      <th>999_latitude</th>\n",
       "      <th>999_longitude</th>\n",
       "      <th>99_distance</th>\n",
       "      <th>99_latitude</th>\n",
       "      <th>99_longitude</th>\n",
       "      <th>9_distance</th>\n",
       "      <th>9_latitude</th>\n",
       "      <th>9_longitude</th>\n",
       "    </tr>\n",
       "  </thead>\n",
       "  <tbody>\n",
       "    <tr>\n",
       "      <td>0</td>\n",
       "      <td>-122.322594</td>\n",
       "      <td>37.806781</td>\n",
       "      <td>0.818032</td>\n",
       "      <td>14445.248047</td>\n",
       "      <td>37.828247</td>\n",
       "      <td>-122.280475</td>\n",
       "      <td>34101.859375</td>\n",
       "      <td>37.820811</td>\n",
       "      <td>-122.205609</td>\n",
       "      <td>34133.441406</td>\n",
       "      <td>...</td>\n",
       "      <td>-122.23735</td>\n",
       "      <td>6229.799805</td>\n",
       "      <td>37.817592</td>\n",
       "      <td>-122.305863</td>\n",
       "      <td>16030.678711</td>\n",
       "      <td>37.808595</td>\n",
       "      <td>-122.267023</td>\n",
       "      <td>84684.304688</td>\n",
       "      <td>37.693106</td>\n",
       "      <td>-122.066624</td>\n",
       "    </tr>\n",
       "    <tr>\n",
       "      <td>1</td>\n",
       "      <td>-122.322310</td>\n",
       "      <td>37.806150</td>\n",
       "      <td>0.551475</td>\n",
       "      <td>14503.258789</td>\n",
       "      <td>37.828247</td>\n",
       "      <td>-122.280475</td>\n",
       "      <td>34056.515625</td>\n",
       "      <td>37.820811</td>\n",
       "      <td>-122.205609</td>\n",
       "      <td>34088.199219</td>\n",
       "      <td>...</td>\n",
       "      <td>-122.23735</td>\n",
       "      <td>6316.371582</td>\n",
       "      <td>37.817592</td>\n",
       "      <td>-122.305863</td>\n",
       "      <td>15960.221680</td>\n",
       "      <td>37.808595</td>\n",
       "      <td>-122.267023</td>\n",
       "      <td>84500.679688</td>\n",
       "      <td>37.693106</td>\n",
       "      <td>-122.066624</td>\n",
       "    </tr>\n",
       "    <tr>\n",
       "      <td>2</td>\n",
       "      <td>-122.322301</td>\n",
       "      <td>37.806420</td>\n",
       "      <td>0.593712</td>\n",
       "      <td>14446.459961</td>\n",
       "      <td>37.828247</td>\n",
       "      <td>-122.280475</td>\n",
       "      <td>34038.492188</td>\n",
       "      <td>37.820811</td>\n",
       "      <td>-122.205609</td>\n",
       "      <td>34070.132812</td>\n",
       "      <td>...</td>\n",
       "      <td>-122.23735</td>\n",
       "      <td>6249.635254</td>\n",
       "      <td>37.817592</td>\n",
       "      <td>-122.305863</td>\n",
       "      <td>15952.337891</td>\n",
       "      <td>37.808595</td>\n",
       "      <td>-122.267023</td>\n",
       "      <td>84546.406250</td>\n",
       "      <td>37.693106</td>\n",
       "      <td>-122.066624</td>\n",
       "    </tr>\n",
       "    <tr>\n",
       "      <td>3</td>\n",
       "      <td>-122.322299</td>\n",
       "      <td>37.805880</td>\n",
       "      <td>0.489898</td>\n",
       "      <td>14555.602539</td>\n",
       "      <td>37.828247</td>\n",
       "      <td>-122.280475</td>\n",
       "      <td>34069.003906</td>\n",
       "      <td>37.820811</td>\n",
       "      <td>-122.205609</td>\n",
       "      <td>34100.730469</td>\n",
       "      <td>...</td>\n",
       "      <td>-122.23735</td>\n",
       "      <td>6379.527832</td>\n",
       "      <td>37.817592</td>\n",
       "      <td>-122.305863</td>\n",
       "      <td>15962.838867</td>\n",
       "      <td>37.808595</td>\n",
       "      <td>-122.267023</td>\n",
       "      <td>84449.929688</td>\n",
       "      <td>37.693106</td>\n",
       "      <td>-122.066624</td>\n",
       "    </tr>\n",
       "    <tr>\n",
       "      <td>4</td>\n",
       "      <td>-122.322267</td>\n",
       "      <td>37.806689</td>\n",
       "      <td>0.739341</td>\n",
       "      <td>14384.481445</td>\n",
       "      <td>37.828247</td>\n",
       "      <td>-122.280475</td>\n",
       "      <td>34013.839844</td>\n",
       "      <td>37.820811</td>\n",
       "      <td>-122.205609</td>\n",
       "      <td>34045.441406</td>\n",
       "      <td>...</td>\n",
       "      <td>-122.23735</td>\n",
       "      <td>6178.677734</td>\n",
       "      <td>37.817592</td>\n",
       "      <td>-122.305863</td>\n",
       "      <td>15938.028320</td>\n",
       "      <td>37.808595</td>\n",
       "      <td>-122.267023</td>\n",
       "      <td>84585.812500</td>\n",
       "      <td>37.693106</td>\n",
       "      <td>-122.066624</td>\n",
       "    </tr>\n",
       "  </tbody>\n",
       "</table>\n",
       "<p>5 rows × 4911 columns</p>\n",
       "</div>"
      ],
      "text/plain": [
       "    Longitude   Latitude  BC Value    0_distance  0_latitude  0_longitude  \\\n",
       "0 -122.322594  37.806781  0.818032  14445.248047   37.828247  -122.280475   \n",
       "1 -122.322310  37.806150  0.551475  14503.258789   37.828247  -122.280475   \n",
       "2 -122.322301  37.806420  0.593712  14446.459961   37.828247  -122.280475   \n",
       "3 -122.322299  37.805880  0.489898  14555.602539   37.828247  -122.280475   \n",
       "4 -122.322267  37.806689  0.739341  14384.481445   37.828247  -122.280475   \n",
       "\n",
       "   1000_distance  1000_latitude  1000_longitude  1001_distance  ...  \\\n",
       "0   34101.859375      37.820811     -122.205609   34133.441406  ...   \n",
       "1   34056.515625      37.820811     -122.205609   34088.199219  ...   \n",
       "2   34038.492188      37.820811     -122.205609   34070.132812  ...   \n",
       "3   34069.003906      37.820811     -122.205609   34100.730469  ...   \n",
       "4   34013.839844      37.820811     -122.205609   34045.441406  ...   \n",
       "\n",
       "   998_longitude  999_distance  999_latitude  999_longitude   99_distance  \\\n",
       "0     -122.23735   6229.799805     37.817592    -122.305863  16030.678711   \n",
       "1     -122.23735   6316.371582     37.817592    -122.305863  15960.221680   \n",
       "2     -122.23735   6249.635254     37.817592    -122.305863  15952.337891   \n",
       "3     -122.23735   6379.527832     37.817592    -122.305863  15962.838867   \n",
       "4     -122.23735   6178.677734     37.817592    -122.305863  15938.028320   \n",
       "\n",
       "   99_latitude  99_longitude    9_distance  9_latitude  9_longitude  \n",
       "0    37.808595   -122.267023  84684.304688   37.693106  -122.066624  \n",
       "1    37.808595   -122.267023  84500.679688   37.693106  -122.066624  \n",
       "2    37.808595   -122.267023  84546.406250   37.693106  -122.066624  \n",
       "3    37.808595   -122.267023  84449.929688   37.693106  -122.066624  \n",
       "4    37.808595   -122.267023  84585.812500   37.693106  -122.066624  \n",
       "\n",
       "[5 rows x 4911 columns]"
      ]
     },
     "execution_count": 100,
     "metadata": {},
     "output_type": "execute_result"
    }
   ],
   "source": [
    "combined_BC_traffic.head()"
   ]
  },
  {
   "cell_type": "code",
   "execution_count": 102,
   "metadata": {},
   "outputs": [],
   "source": [
    "## Write the entire dataset to a csv file\n",
    "combined_BC_traffic.to_csv(\"Data/Unused-data/BC_traffic_full.csv\")"
   ]
  },
  {
   "cell_type": "markdown",
   "metadata": {},
   "source": [
    "### Read Traffic Distance Data"
   ]
  },
  {
   "cell_type": "code",
   "execution_count": 108,
   "metadata": {},
   "outputs": [],
   "source": [
    "combined_BC_traffic = pd.read_csv(\"Data/Unused-data/BC_traffic_full.csv\")"
   ]
  },
  {
   "cell_type": "code",
   "execution_count": 109,
   "metadata": {},
   "outputs": [],
   "source": [
    "combined_BC_traffic = combined_BC_traffic[combined_BC_traffic.columns.drop(list(combined_BC_traffic.filter(regex='_latitude')))]"
   ]
  },
  {
   "cell_type": "code",
   "execution_count": 110,
   "metadata": {},
   "outputs": [],
   "source": [
    "combined_BC_traffic = combined_BC_traffic[combined_BC_traffic.columns.drop(list(combined_BC_traffic.filter(regex='_longitude')))]"
   ]
  },
  {
   "cell_type": "code",
   "execution_count": 111,
   "metadata": {},
   "outputs": [],
   "source": [
    "combined_BC_traffic = combined_BC_traffic[combined_BC_traffic.columns.drop(list(combined_BC_traffic.filter(regex='BC Value')))]"
   ]
  },
  {
   "cell_type": "code",
   "execution_count": 113,
   "metadata": {},
   "outputs": [],
   "source": [
    "combined_BC_traffic.drop(columns = ['Unnamed: 0'], inplace=True)"
   ]
  },
  {
   "cell_type": "code",
   "execution_count": 115,
   "metadata": {},
   "outputs": [],
   "source": [
    "combined_BC_traffic.to_csv(\"Data/Unused-data/BC_traffic_distance.csv\")"
   ]
  },
  {
   "cell_type": "markdown",
   "metadata": {},
   "source": [
    "### For each row, count the number of intersections with distance <1,000 feet"
   ]
  },
  {
   "cell_type": "code",
   "execution_count": 166,
   "metadata": {},
   "outputs": [],
   "source": [
    "combined_BC_traffic = pd.read_csv(\"Data/Unused-data/BC_traffic_distance.csv\")"
   ]
  },
  {
   "cell_type": "code",
   "execution_count": 167,
   "metadata": {},
   "outputs": [],
   "source": [
    "combined_BC_traffic['number_intersections'] = 0"
   ]
  },
  {
   "cell_type": "markdown",
   "metadata": {},
   "source": [
    "### Define a function using range that returns True or False is a value is between 0 - 1,000 feet. "
   ]
  },
  {
   "cell_type": "code",
   "execution_count": 168,
   "metadata": {},
   "outputs": [],
   "source": [
    "def count_values_in_range(series, range_min, range_max):\n",
    "\n",
    "    # \"between\" returns a boolean Series equivalent to left <= series <= right.\n",
    "    # NA values will be treated as False.\n",
    "    return series.between(left=range_min, right=range_max).sum()\n",
    "\n",
    "range_min, range_max = 0, 2000\n",
    "\n",
    "\n",
    "combined_BC_traffic['number_intersections'] = combined_BC_traffic.apply(\n",
    "    func=lambda row: count_values_in_range(row, range_min, range_max), axis=1)\n"
   ]
  },
  {
   "cell_type": "code",
   "execution_count": 169,
   "metadata": {},
   "outputs": [],
   "source": [
    "BC_traffic_score = combined_BC_traffic[['Latitude','Longitude','number_intersections']]"
   ]
  },
  {
   "cell_type": "code",
   "execution_count": 170,
   "metadata": {},
   "outputs": [],
   "source": [
    "BC_traffic_score.to_csv(\"Data/Traffic_score_2000.csv\")"
   ]
  },
  {
   "cell_type": "code",
   "execution_count": null,
   "metadata": {},
   "outputs": [],
   "source": []
  }
 ],
 "metadata": {
  "kernelspec": {
   "display_name": "Python 3",
   "language": "python",
   "name": "python3"
  },
  "language_info": {
   "codemirror_mode": {
    "name": "ipython",
    "version": 3
   },
   "file_extension": ".py",
   "mimetype": "text/x-python",
   "name": "python",
   "nbconvert_exporter": "python",
   "pygments_lexer": "ipython3",
   "version": "3.7.4"
  }
 },
 "nbformat": 4,
 "nbformat_minor": 2
}
