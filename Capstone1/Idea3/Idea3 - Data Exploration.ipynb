{
 "cells": [
  {
   "cell_type": "code",
   "execution_count": 14,
   "metadata": {},
   "outputs": [],
   "source": [
    "import pandas as pd\n",
    "import numpy as np\n",
    "import matplotlib.pyplot as plt\n",
    "import descartes\n",
    "import geopandas as gpd\n",
    "from shapely.geometry import Point, Polygon\n",
    "from shapely.ops import nearest_points\n",
    "\n",
    "%matplotlib inline"
   ]
  },
  {
   "cell_type": "markdown",
   "metadata": {},
   "source": [
    "### Air Pollution Monitoring Data From EDF"
   ]
  },
  {
   "cell_type": "code",
   "execution_count": 15,
   "metadata": {},
   "outputs": [],
   "source": [
    "df = pd.read_csv('EDF_Data.csv', header = 1)"
   ]
  },
  {
   "cell_type": "code",
   "execution_count": 16,
   "metadata": {},
   "outputs": [],
   "source": [
    "df['TimePeriod'] = 'Jun2015-May2016'"
   ]
  },
  {
   "cell_type": "code",
   "execution_count": 17,
   "metadata": {},
   "outputs": [
    {
     "data": {
      "text/html": [
       "<div>\n",
       "<style scoped>\n",
       "    .dataframe tbody tr th:only-of-type {\n",
       "        vertical-align: middle;\n",
       "    }\n",
       "\n",
       "    .dataframe tbody tr th {\n",
       "        vertical-align: top;\n",
       "    }\n",
       "\n",
       "    .dataframe thead th {\n",
       "        text-align: right;\n",
       "    }\n",
       "</style>\n",
       "<table border=\"1\" class=\"dataframe\">\n",
       "  <thead>\n",
       "    <tr style=\"text-align: right;\">\n",
       "      <th></th>\n",
       "      <th>Longitude</th>\n",
       "      <th>Latitude</th>\n",
       "      <th>NO Value</th>\n",
       "      <th>NO2 Value</th>\n",
       "      <th>BC Value</th>\n",
       "      <th>TimePeriod</th>\n",
       "    </tr>\n",
       "  </thead>\n",
       "  <tbody>\n",
       "    <tr>\n",
       "      <td>0</td>\n",
       "      <td>-122.322594</td>\n",
       "      <td>37.806781</td>\n",
       "      <td>23.390071</td>\n",
       "      <td>17.539762</td>\n",
       "      <td>0.818032</td>\n",
       "      <td>Jun2015-May2016</td>\n",
       "    </tr>\n",
       "    <tr>\n",
       "      <td>1</td>\n",
       "      <td>-122.322310</td>\n",
       "      <td>37.806150</td>\n",
       "      <td>19.700000</td>\n",
       "      <td>19.956750</td>\n",
       "      <td>0.551475</td>\n",
       "      <td>Jun2015-May2016</td>\n",
       "    </tr>\n",
       "    <tr>\n",
       "      <td>2</td>\n",
       "      <td>-122.322301</td>\n",
       "      <td>37.806420</td>\n",
       "      <td>23.611111</td>\n",
       "      <td>23.967768</td>\n",
       "      <td>0.593712</td>\n",
       "      <td>Jun2015-May2016</td>\n",
       "    </tr>\n",
       "    <tr>\n",
       "      <td>3</td>\n",
       "      <td>-122.322299</td>\n",
       "      <td>37.805880</td>\n",
       "      <td>15.714285</td>\n",
       "      <td>18.435184</td>\n",
       "      <td>0.489898</td>\n",
       "      <td>Jun2015-May2016</td>\n",
       "    </tr>\n",
       "    <tr>\n",
       "      <td>4</td>\n",
       "      <td>-122.322267</td>\n",
       "      <td>37.806689</td>\n",
       "      <td>27.108695</td>\n",
       "      <td>25.797037</td>\n",
       "      <td>0.739341</td>\n",
       "      <td>Jun2015-May2016</td>\n",
       "    </tr>\n",
       "    <tr>\n",
       "      <td>...</td>\n",
       "      <td>...</td>\n",
       "      <td>...</td>\n",
       "      <td>...</td>\n",
       "      <td>...</td>\n",
       "      <td>...</td>\n",
       "      <td>...</td>\n",
       "    </tr>\n",
       "    <tr>\n",
       "      <td>495</td>\n",
       "      <td>-122.300796</td>\n",
       "      <td>37.806843</td>\n",
       "      <td>10.486667</td>\n",
       "      <td>15.518741</td>\n",
       "      <td>0.658491</td>\n",
       "      <td>Jun2015-May2016</td>\n",
       "    </tr>\n",
       "    <tr>\n",
       "      <td>496</td>\n",
       "      <td>-122.300793</td>\n",
       "      <td>37.806668</td>\n",
       "      <td>13.308667</td>\n",
       "      <td>19.304477</td>\n",
       "      <td>0.633097</td>\n",
       "      <td>Jun2015-May2016</td>\n",
       "    </tr>\n",
       "    <tr>\n",
       "      <td>497</td>\n",
       "      <td>-122.300784</td>\n",
       "      <td>37.806559</td>\n",
       "      <td>14.545454</td>\n",
       "      <td>21.887397</td>\n",
       "      <td>0.960911</td>\n",
       "      <td>Jun2015-May2016</td>\n",
       "    </tr>\n",
       "    <tr>\n",
       "      <td>498</td>\n",
       "      <td>-122.300765</td>\n",
       "      <td>37.822436</td>\n",
       "      <td>14.789343</td>\n",
       "      <td>14.903882</td>\n",
       "      <td>0.695703</td>\n",
       "      <td>Jun2015-May2016</td>\n",
       "    </tr>\n",
       "    <tr>\n",
       "      <td>499</td>\n",
       "      <td>-122.300760</td>\n",
       "      <td>37.806946</td>\n",
       "      <td>9.100000</td>\n",
       "      <td>17.615975</td>\n",
       "      <td>0.744073</td>\n",
       "      <td>Jun2015-May2016</td>\n",
       "    </tr>\n",
       "  </tbody>\n",
       "</table>\n",
       "<p>500 rows × 6 columns</p>\n",
       "</div>"
      ],
      "text/plain": [
       "      Longitude   Latitude   NO Value  NO2 Value  BC Value       TimePeriod\n",
       "0   -122.322594  37.806781  23.390071  17.539762  0.818032  Jun2015-May2016\n",
       "1   -122.322310  37.806150  19.700000  19.956750  0.551475  Jun2015-May2016\n",
       "2   -122.322301  37.806420  23.611111  23.967768  0.593712  Jun2015-May2016\n",
       "3   -122.322299  37.805880  15.714285  18.435184  0.489898  Jun2015-May2016\n",
       "4   -122.322267  37.806689  27.108695  25.797037  0.739341  Jun2015-May2016\n",
       "..          ...        ...        ...        ...       ...              ...\n",
       "495 -122.300796  37.806843  10.486667  15.518741  0.658491  Jun2015-May2016\n",
       "496 -122.300793  37.806668  13.308667  19.304477  0.633097  Jun2015-May2016\n",
       "497 -122.300784  37.806559  14.545454  21.887397  0.960911  Jun2015-May2016\n",
       "498 -122.300765  37.822436  14.789343  14.903882  0.695703  Jun2015-May2016\n",
       "499 -122.300760  37.806946   9.100000  17.615975  0.744073  Jun2015-May2016\n",
       "\n",
       "[500 rows x 6 columns]"
      ]
     },
     "execution_count": 17,
     "metadata": {},
     "output_type": "execute_result"
    }
   ],
   "source": [
    "df.head(500)"
   ]
  },
  {
   "cell_type": "code",
   "execution_count": 18,
   "metadata": {},
   "outputs": [
    {
     "data": {
      "text/plain": [
       "(21488, 6)"
      ]
     },
     "execution_count": 18,
     "metadata": {},
     "output_type": "execute_result"
    }
   ],
   "source": [
    "df.shape"
   ]
  },
  {
   "cell_type": "code",
   "execution_count": 19,
   "metadata": {},
   "outputs": [],
   "source": [
    "geometry = [Point(xy) for xy in zip(df['Longitude'], df['Latitude'])]"
   ]
  },
  {
   "cell_type": "markdown",
   "metadata": {},
   "source": [
    "### METEROLOGICAL DATASET"
   ]
  },
  {
   "cell_type": "code",
   "execution_count": 20,
   "metadata": {},
   "outputs": [],
   "source": [
    "df_met = pd.read_csv(\"MetStations_CA.csv\")"
   ]
  },
  {
   "cell_type": "code",
   "execution_count": 21,
   "metadata": {},
   "outputs": [
    {
     "data": {
      "text/html": [
       "<div>\n",
       "<style scoped>\n",
       "    .dataframe tbody tr th:only-of-type {\n",
       "        vertical-align: middle;\n",
       "    }\n",
       "\n",
       "    .dataframe tbody tr th {\n",
       "        vertical-align: top;\n",
       "    }\n",
       "\n",
       "    .dataframe thead th {\n",
       "        text-align: right;\n",
       "    }\n",
       "</style>\n",
       "<table border=\"1\" class=\"dataframe\">\n",
       "  <thead>\n",
       "    <tr style=\"text-align: right;\">\n",
       "      <th></th>\n",
       "      <th>STATION_ID</th>\n",
       "      <th>STATION</th>\n",
       "      <th>BEGIN_DATE</th>\n",
       "      <th>END_DATE</th>\n",
       "      <th>STATE</th>\n",
       "      <th>COUNTRY</th>\n",
       "      <th>LATITUDE</th>\n",
       "      <th>LONGITUDE</th>\n",
       "      <th>ELEVATION_(M)</th>\n",
       "    </tr>\n",
       "  </thead>\n",
       "  <tbody>\n",
       "    <tr>\n",
       "      <td>0</td>\n",
       "      <td>WBAN:23239</td>\n",
       "      <td>ALAMEDA NAS, CA US</td>\n",
       "      <td>1945-02-28</td>\n",
       "      <td>1997-01-31</td>\n",
       "      <td>California</td>\n",
       "      <td>United States</td>\n",
       "      <td>37.78333</td>\n",
       "      <td>-122.31667</td>\n",
       "      <td>9.1</td>\n",
       "    </tr>\n",
       "    <tr>\n",
       "      <td>1</td>\n",
       "      <td>WBAN:94299</td>\n",
       "      <td>ALTURAS MUNICIPAL AIRPORT, CA US</td>\n",
       "      <td>2004-12-31</td>\n",
       "      <td>2020-02-23</td>\n",
       "      <td>California</td>\n",
       "      <td>United States</td>\n",
       "      <td>41.49139</td>\n",
       "      <td>-120.56444</td>\n",
       "      <td>1333.5</td>\n",
       "    </tr>\n",
       "    <tr>\n",
       "      <td>2</td>\n",
       "      <td>WBAN:24283</td>\n",
       "      <td>ARCATA EUREKA AIRPORT, CA US</td>\n",
       "      <td>1949-11-30</td>\n",
       "      <td>2020-02-23</td>\n",
       "      <td>California</td>\n",
       "      <td>United States</td>\n",
       "      <td>40.97806</td>\n",
       "      <td>-124.10861</td>\n",
       "      <td>61.0</td>\n",
       "    </tr>\n",
       "    <tr>\n",
       "      <td>3</td>\n",
       "      <td>WBAN:23224</td>\n",
       "      <td>AUBURN MUNICIPAL AIRPORT, CA US</td>\n",
       "      <td>2004-12-31</td>\n",
       "      <td>2020-02-23</td>\n",
       "      <td>California</td>\n",
       "      <td>United States</td>\n",
       "      <td>38.95472</td>\n",
       "      <td>-121.08194</td>\n",
       "      <td>466.6</td>\n",
       "    </tr>\n",
       "    <tr>\n",
       "      <td>4</td>\n",
       "      <td>WBAN:23191</td>\n",
       "      <td>AVALON CATALINA AIRPORT, CA US</td>\n",
       "      <td>1943-06-11</td>\n",
       "      <td>2020-02-23</td>\n",
       "      <td>California</td>\n",
       "      <td>United States</td>\n",
       "      <td>33.40500</td>\n",
       "      <td>-118.41583</td>\n",
       "      <td>488.3</td>\n",
       "    </tr>\n",
       "  </tbody>\n",
       "</table>\n",
       "</div>"
      ],
      "text/plain": [
       "   STATION_ID                           STATION  BEGIN_DATE    END_DATE  \\\n",
       "0  WBAN:23239                ALAMEDA NAS, CA US  1945-02-28  1997-01-31   \n",
       "1  WBAN:94299  ALTURAS MUNICIPAL AIRPORT, CA US  2004-12-31  2020-02-23   \n",
       "2  WBAN:24283      ARCATA EUREKA AIRPORT, CA US  1949-11-30  2020-02-23   \n",
       "3  WBAN:23224   AUBURN MUNICIPAL AIRPORT, CA US  2004-12-31  2020-02-23   \n",
       "4  WBAN:23191    AVALON CATALINA AIRPORT, CA US  1943-06-11  2020-02-23   \n",
       "\n",
       "        STATE        COUNTRY  LATITUDE  LONGITUDE  ELEVATION_(M)  \n",
       "0  California  United States  37.78333 -122.31667            9.1  \n",
       "1  California  United States  41.49139 -120.56444         1333.5  \n",
       "2  California  United States  40.97806 -124.10861           61.0  \n",
       "3  California  United States  38.95472 -121.08194          466.6  \n",
       "4  California  United States  33.40500 -118.41583          488.3  "
      ]
     },
     "execution_count": 21,
     "metadata": {},
     "output_type": "execute_result"
    }
   ],
   "source": [
    "df_met.head()"
   ]
  },
  {
   "cell_type": "code",
   "execution_count": 22,
   "metadata": {},
   "outputs": [],
   "source": [
    "crs = {'init': 'epsg:4326'}"
   ]
  },
  {
   "cell_type": "code",
   "execution_count": 23,
   "metadata": {},
   "outputs": [],
   "source": [
    "geometry_met = [Point(xy) for xy in zip(df_met['LONGITUDE'], df_met['LATITUDE'])]"
   ]
  },
  {
   "cell_type": "code",
   "execution_count": 24,
   "metadata": {},
   "outputs": [],
   "source": [
    "geo_df = gpd.GeoDataFrame(df, crs = crs, geometry = geometry)\n",
    "geo_df_met = gpd.GeoDataFrame(df_met, crs = crs, geometry = geometry_met)"
   ]
  },
  {
   "cell_type": "markdown",
   "metadata": {},
   "source": [
    "### Finding Closest Met Station to get average wind speed, temperature and elevation data"
   ]
  },
  {
   "cell_type": "code",
   "execution_count": 25,
   "metadata": {},
   "outputs": [],
   "source": [
    "# Unary Union of the geo_df geometry\n",
    "\n",
    "pts = geo_df_met.geometry.unary_union\n",
    "def near(point, pts=pts):\n",
    "     # find the nearest point and return the corresponding Station name\n",
    "     nearest = geo_df_met.geometry == nearest_points(point, pts)[1]\n",
    "     return geo_df_met[nearest].STATION.to_numpy()[0]\n",
    "geo_df['Nearest_Station'] = geo_df.apply(lambda row: near(row.geometry), axis=1)"
   ]
  },
  {
   "cell_type": "code",
   "execution_count": 26,
   "metadata": {},
   "outputs": [
    {
     "data": {
      "text/plain": [
       "array(['ALAMEDA NAS, CA US', 'OAKLAND METROPOLITAN, CA US',\n",
       "       'HAYWARD AIR TERMINAL, CA US'], dtype=object)"
      ]
     },
     "execution_count": 26,
     "metadata": {},
     "output_type": "execute_result"
    }
   ],
   "source": [
    "geo_df['Nearest_Station'].unique()"
   ]
  },
  {
   "cell_type": "markdown",
   "metadata": {},
   "source": [
    "### Plotting Data"
   ]
  },
  {
   "cell_type": "code",
   "execution_count": 25,
   "metadata": {},
   "outputs": [],
   "source": [
    "usa = gpd.read_file('../Idea1/states_21basic/states.shp')\n",
    "usa.drop(usa[usa['STATE_NAME'] =='Alaska'].index, inplace=True)\n",
    "usa.drop(usa[usa['STATE_NAME'] =='Hawaii'].index, inplace=True)"
   ]
  },
  {
   "cell_type": "code",
   "execution_count": 28,
   "metadata": {},
   "outputs": [
    {
     "data": {
      "text/plain": [
       "<matplotlib.axes._subplots.AxesSubplot at 0x1276f8d50>"
      ]
     },
     "execution_count": 28,
     "metadata": {},
     "output_type": "execute_result"
    },
    {
     "data": {
      "image/png": "[encoded data removed]",
      "text/plain": [
       "<Figure size 864x864 with 1 Axes>"
      ]
     },
     "metadata": {
      "needs_background": "light"
     },
     "output_type": "display_data"
    }
   ],
   "source": [
    "CA = usa[usa.STATE_ABBR == 'CA']\n",
    "fig, ax = plt.subplots(figsize = (12,12))\n",
    "CA.plot(ax = ax)"
   ]
  },
  {
   "cell_type": "code",
   "execution_count": 30,
   "metadata": {},
   "outputs": [
    {
     "data": {
      "text/plain": [
       "<matplotlib.axes._subplots.AxesSubplot at 0x127652e50>"
      ]
     },
     "execution_count": 30,
     "metadata": {},
     "output_type": "execute_result"
    },
    {
     "data": {
      "image/png": "[encoded data removed]",
      "text/plain": [
       "<Figure size 1080x1080 with 1 Axes>"
      ]
     },
     "metadata": {
      "needs_background": "light"
     },
     "output_type": "display_data"
    }
   ],
   "source": [
    "fig, ax = plt.subplots(figsize = (15,15))\n",
    "CA.plot(ax=ax, alpha = 0.1, color='grey')\n",
    "geo_df.plot(ax = ax, color='red')"
   ]
  },
  {
   "cell_type": "code",
   "execution_count": null,
   "metadata": {},
   "outputs": [],
   "source": []
  }
 ],
 "metadata": {
  "kernelspec": {
   "display_name": "Python 3",
   "language": "python",
   "name": "python3"
  },
  "language_info": {
   "codemirror_mode": {
    "name": "ipython",
    "version": 3
   },
   "file_extension": ".py",
   "mimetype": "text/x-python",
   "name": "python",
   "nbconvert_exporter": "python",
   "pygments_lexer": "ipython3",
   "version": "3.7.4"
  }
 },
 "nbformat": 4,
 "nbformat_minor": 2
}
