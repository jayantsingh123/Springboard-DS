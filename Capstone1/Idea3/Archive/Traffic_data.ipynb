{
 "cells": [
  {
   "cell_type": "code",
   "execution_count": 1,
   "metadata": {},
   "outputs": [
    {
     "ename": "ImportError",
     "evalue": "cannot import name 'CRS' from 'pyproj' (/home/shridhar/anaconda3/lib/python3.7/site-packages/pyproj/__init__.py)",
     "output_type": "error",
     "traceback": [
      "\u001b[0;31m---------------------------------------------------------------------------\u001b[0m",
      "\u001b[0;31mImportError\u001b[0m                               Traceback (most recent call last)",
      "\u001b[0;32m<ipython-input-1-ae5a15af3bac>\u001b[0m in \u001b[0;36m<module>\u001b[0;34m\u001b[0m\n\u001b[1;32m     17\u001b[0m \u001b[0;32mfrom\u001b[0m \u001b[0mgeopy\u001b[0m\u001b[0;34m.\u001b[0m\u001b[0mgeocoders\u001b[0m \u001b[0;32mimport\u001b[0m \u001b[0mNominatim\u001b[0m\u001b[0;34m\u001b[0m\u001b[0;34m\u001b[0m\u001b[0m\n\u001b[1;32m     18\u001b[0m \u001b[0;34m\u001b[0m\u001b[0m\n\u001b[0;32m---> 19\u001b[0;31m \u001b[0;32mimport\u001b[0m \u001b[0mosmnx\u001b[0m \u001b[0;32mas\u001b[0m \u001b[0mox\u001b[0m\u001b[0;34m\u001b[0m\u001b[0;34m\u001b[0m\u001b[0m\n\u001b[0m\u001b[1;32m     20\u001b[0m \u001b[0;34m\u001b[0m\u001b[0m\n\u001b[1;32m     21\u001b[0m \u001b[0mget_ipython\u001b[0m\u001b[0;34m(\u001b[0m\u001b[0;34m)\u001b[0m\u001b[0;34m.\u001b[0m\u001b[0mrun_line_magic\u001b[0m\u001b[0;34m(\u001b[0m\u001b[0;34m'matplotlib'\u001b[0m\u001b[0;34m,\u001b[0m \u001b[0;34m'inline'\u001b[0m\u001b[0;34m)\u001b[0m\u001b[0;34m\u001b[0m\u001b[0;34m\u001b[0m\u001b[0m\n",
      "\u001b[0;32m~/anaconda3/lib/python3.7/site-packages/osmnx/__init__.py\u001b[0m in \u001b[0;36m<module>\u001b[0;34m\u001b[0m\n\u001b[1;32m      7\u001b[0m \u001b[0;31m################################################################################\u001b[0m\u001b[0;34m\u001b[0m\u001b[0;34m\u001b[0m\u001b[0;34m\u001b[0m\u001b[0m\n\u001b[1;32m      8\u001b[0m \u001b[0;34m\u001b[0m\u001b[0m\n\u001b[0;32m----> 9\u001b[0;31m \u001b[0;32mfrom\u001b[0m \u001b[0;34m.\u001b[0m\u001b[0mcore\u001b[0m \u001b[0;32mimport\u001b[0m \u001b[0;34m*\u001b[0m\u001b[0;34m\u001b[0m\u001b[0;34m\u001b[0m\u001b[0m\n\u001b[0m\u001b[1;32m     10\u001b[0m \u001b[0;32mfrom\u001b[0m \u001b[0;34m.\u001b[0m\u001b[0mdownloader\u001b[0m \u001b[0;32mimport\u001b[0m \u001b[0;34m*\u001b[0m\u001b[0;34m\u001b[0m\u001b[0;34m\u001b[0m\u001b[0m\n\u001b[1;32m     11\u001b[0m \u001b[0;32mfrom\u001b[0m \u001b[0;34m.\u001b[0m\u001b[0melevation\u001b[0m \u001b[0;32mimport\u001b[0m \u001b[0;34m*\u001b[0m\u001b[0;34m\u001b[0m\u001b[0;34m\u001b[0m\u001b[0m\n",
      "\u001b[0;32m~/anaconda3/lib/python3.7/site-packages/osmnx/core.py\u001b[0m in \u001b[0;36m<module>\u001b[0;34m\u001b[0m\n\u001b[1;32m     23\u001b[0m \u001b[0;34m\u001b[0m\u001b[0m\n\u001b[1;32m     24\u001b[0m \u001b[0;32mfrom\u001b[0m \u001b[0;34m.\u001b[0m \u001b[0;32mimport\u001b[0m \u001b[0msettings\u001b[0m\u001b[0;34m\u001b[0m\u001b[0;34m\u001b[0m\u001b[0m\n\u001b[0;32m---> 25\u001b[0;31m \u001b[0;32mfrom\u001b[0m \u001b[0;34m.\u001b[0m\u001b[0mprojection\u001b[0m \u001b[0;32mimport\u001b[0m \u001b[0mproject_geometry\u001b[0m\u001b[0;34m\u001b[0m\u001b[0;34m\u001b[0m\u001b[0m\n\u001b[0m\u001b[1;32m     26\u001b[0m \u001b[0;32mfrom\u001b[0m \u001b[0;34m.\u001b[0m\u001b[0mprojection\u001b[0m \u001b[0;32mimport\u001b[0m \u001b[0mproject_gdf\u001b[0m\u001b[0;34m\u001b[0m\u001b[0;34m\u001b[0m\u001b[0m\n\u001b[1;32m     27\u001b[0m \u001b[0;32mfrom\u001b[0m \u001b[0;34m.\u001b[0m\u001b[0msimplify\u001b[0m \u001b[0;32mimport\u001b[0m \u001b[0msimplify_graph\u001b[0m\u001b[0;34m\u001b[0m\u001b[0;34m\u001b[0m\u001b[0m\n",
      "\u001b[0;32m~/anaconda3/lib/python3.7/site-packages/osmnx/projection.py\u001b[0m in \u001b[0;36m<module>\u001b[0;34m\u001b[0m\n\u001b[1;32m     10\u001b[0m \u001b[0;32mimport\u001b[0m \u001b[0mgeopandas\u001b[0m \u001b[0;32mas\u001b[0m \u001b[0mgpd\u001b[0m\u001b[0;34m\u001b[0m\u001b[0;34m\u001b[0m\u001b[0m\n\u001b[1;32m     11\u001b[0m \u001b[0;32mimport\u001b[0m \u001b[0mnetworkx\u001b[0m \u001b[0;32mas\u001b[0m \u001b[0mnx\u001b[0m\u001b[0;34m\u001b[0m\u001b[0;34m\u001b[0m\u001b[0m\n\u001b[0;32m---> 12\u001b[0;31m \u001b[0;32mfrom\u001b[0m \u001b[0mpyproj\u001b[0m \u001b[0;32mimport\u001b[0m \u001b[0mCRS\u001b[0m\u001b[0;34m\u001b[0m\u001b[0;34m\u001b[0m\u001b[0m\n\u001b[0m\u001b[1;32m     13\u001b[0m \u001b[0;32mfrom\u001b[0m \u001b[0mshapely\u001b[0m\u001b[0;34m.\u001b[0m\u001b[0mgeometry\u001b[0m \u001b[0;32mimport\u001b[0m \u001b[0mPoint\u001b[0m\u001b[0;34m\u001b[0m\u001b[0;34m\u001b[0m\u001b[0m\n\u001b[1;32m     14\u001b[0m \u001b[0;34m\u001b[0m\u001b[0m\n",
      "\u001b[0;31mImportError\u001b[0m: cannot import name 'CRS' from 'pyproj' (/home/shridhar/anaconda3/lib/python3.7/site-packages/pyproj/__init__.py)"
     ]
    }
   ],
   "source": [
    "import pandas as pd\n",
    "import numpy as np\n",
    "import matplotlib.pyplot as plt\n",
    "import descartes\n",
    "import geopandas as gpd\n",
    "from shapely.geometry import Point, Polygon\n",
    "from shapely.ops import nearest_points\n",
    "\n",
    "from collections import defaultdict\n",
    "\n",
    "from mpl_toolkits.axes_grid1 import make_axes_locatable\n",
    "\n",
    "from matplotlib import cm\n",
    "\n",
    "import matplotlib.lines as mlines\n",
    "\n",
    "from geopy.geocoders import Nominatim\n",
    "\n",
    "import osmnx as ox\n",
    "\n",
    "%matplotlib inline"
   ]
  },
  {
   "cell_type": "code",
   "execution_count": 3,
   "metadata": {},
   "outputs": [],
   "source": [
    "### Load Annual Average Daily Traffic (AADT) file from Caltrans\n",
    "traffic = pd.read_csv('Data/Traffic_Oakland_AADT.csv', header = 0)"
   ]
  },
  {
   "cell_type": "code",
   "execution_count": 4,
   "metadata": {},
   "outputs": [
    {
     "data": {
      "text/html": [
       "<div>\n",
       "<style scoped>\n",
       "    .dataframe tbody tr th:only-of-type {\n",
       "        vertical-align: middle;\n",
       "    }\n",
       "\n",
       "    .dataframe tbody tr th {\n",
       "        vertical-align: top;\n",
       "    }\n",
       "\n",
       "    .dataframe thead th {\n",
       "        text-align: right;\n",
       "    }\n",
       "</style>\n",
       "<table border=\"1\" class=\"dataframe\">\n",
       "  <thead>\n",
       "    <tr style=\"text-align: right;\">\n",
       "      <th></th>\n",
       "      <th>OBJECTID</th>\n",
       "      <th>District</th>\n",
       "      <th>Route</th>\n",
       "      <th>County</th>\n",
       "      <th>Postmile</th>\n",
       "      <th>Descriptn</th>\n",
       "      <th>Back_pk_h</th>\n",
       "      <th>Back_pk_m</th>\n",
       "      <th>Back_AADT</th>\n",
       "      <th>Ahead_pk_h</th>\n",
       "      <th>Ahead_pk_m</th>\n",
       "      <th>Ahead_AADT</th>\n",
       "      <th>Lat_S_or_W</th>\n",
       "      <th>Lon_S_or_W</th>\n",
       "      <th>Lat_N_or_E</th>\n",
       "      <th>Lon_N_or_E</th>\n",
       "    </tr>\n",
       "  </thead>\n",
       "  <tbody>\n",
       "    <tr>\n",
       "      <td>0</td>\n",
       "      <td>2706</td>\n",
       "      <td>4</td>\n",
       "      <td>61</td>\n",
       "      <td>ALA</td>\n",
       "      <td>19.84</td>\n",
       "      <td>ALAMEDA, BROADWAY/ ENCINAL AVENUE</td>\n",
       "      <td>1200</td>\n",
       "      <td>12600</td>\n",
       "      <td>12300</td>\n",
       "      <td>900</td>\n",
       "      <td>9000</td>\n",
       "      <td>8700</td>\n",
       "      <td>37.760570</td>\n",
       "      <td>-122.240825</td>\n",
       "      <td>37.760576</td>\n",
       "      <td>-122.240708</td>\n",
       "    </tr>\n",
       "    <tr>\n",
       "      <td>1</td>\n",
       "      <td>2707</td>\n",
       "      <td>4</td>\n",
       "      <td>61</td>\n",
       "      <td>ALA</td>\n",
       "      <td>21.27</td>\n",
       "      <td>ALAMEDA, CENTRAL AVENUE/ SHERMAN STREET</td>\n",
       "      <td>600</td>\n",
       "      <td>6400</td>\n",
       "      <td>6200</td>\n",
       "      <td>900</td>\n",
       "      <td>9800</td>\n",
       "      <td>9500</td>\n",
       "      <td>37.770910</td>\n",
       "      <td>-122.263477</td>\n",
       "      <td>37.770910</td>\n",
       "      <td>-122.263477</td>\n",
       "    </tr>\n",
       "    <tr>\n",
       "      <td>2</td>\n",
       "      <td>2708</td>\n",
       "      <td>4</td>\n",
       "      <td>61</td>\n",
       "      <td>ALA</td>\n",
       "      <td>21.967</td>\n",
       "      <td>JCT. RTE. 260 NORTH</td>\n",
       "      <td>1600</td>\n",
       "      <td>17400</td>\n",
       "      <td>17000</td>\n",
       "      <td>0</td>\n",
       "      <td>0</td>\n",
       "      <td>0</td>\n",
       "      <td>37.771459</td>\n",
       "      <td>-122.276894</td>\n",
       "      <td>37.771459</td>\n",
       "      <td>-122.276894</td>\n",
       "    </tr>\n",
       "    <tr>\n",
       "      <td>3</td>\n",
       "      <td>3045</td>\n",
       "      <td>4</td>\n",
       "      <td>77</td>\n",
       "      <td>ALA</td>\n",
       "      <td>0.098</td>\n",
       "      <td>OAKLAND, JCT. RTE. 880</td>\n",
       "      <td>0</td>\n",
       "      <td>0</td>\n",
       "      <td>0</td>\n",
       "      <td>1700</td>\n",
       "      <td>23400</td>\n",
       "      <td>22900</td>\n",
       "      <td>37.769482</td>\n",
       "      <td>-122.221232</td>\n",
       "      <td>37.769397</td>\n",
       "      <td>-122.221166</td>\n",
       "    </tr>\n",
       "    <tr>\n",
       "      <td>4</td>\n",
       "      <td>3046</td>\n",
       "      <td>4</td>\n",
       "      <td>77</td>\n",
       "      <td>ALA</td>\n",
       "      <td>0.365</td>\n",
       "      <td>OAKLAND, EAST 12TH STREET</td>\n",
       "      <td>1700</td>\n",
       "      <td>23400</td>\n",
       "      <td>22900</td>\n",
       "      <td>1200</td>\n",
       "      <td>16800</td>\n",
       "      <td>16400</td>\n",
       "      <td>37.772128</td>\n",
       "      <td>-122.217493</td>\n",
       "      <td>37.772068</td>\n",
       "      <td>-122.217378</td>\n",
       "    </tr>\n",
       "  </tbody>\n",
       "</table>\n",
       "</div>"
      ],
      "text/plain": [
       "   OBJECTID  District Route County Postmile  \\\n",
       "0      2706         4    61    ALA    19.84   \n",
       "1      2707         4    61    ALA    21.27   \n",
       "2      2708         4    61    ALA   21.967   \n",
       "3      3045         4    77    ALA    0.098   \n",
       "4      3046         4    77    ALA    0.365   \n",
       "\n",
       "                                 Descriptn  Back_pk_h  Back_pk_m  Back_AADT  \\\n",
       "0        ALAMEDA, BROADWAY/ ENCINAL AVENUE       1200      12600      12300   \n",
       "1  ALAMEDA, CENTRAL AVENUE/ SHERMAN STREET        600       6400       6200   \n",
       "2                      JCT. RTE. 260 NORTH       1600      17400      17000   \n",
       "3                   OAKLAND, JCT. RTE. 880          0          0          0   \n",
       "4                OAKLAND, EAST 12TH STREET       1700      23400      22900   \n",
       "\n",
       "   Ahead_pk_h  Ahead_pk_m  Ahead_AADT  Lat_S_or_W  Lon_S_or_W  Lat_N_or_E  \\\n",
       "0         900        9000        8700   37.760570 -122.240825   37.760576   \n",
       "1         900        9800        9500   37.770910 -122.263477   37.770910   \n",
       "2           0           0           0   37.771459 -122.276894   37.771459   \n",
       "3        1700       23400       22900   37.769482 -122.221232   37.769397   \n",
       "4        1200       16800       16400   37.772128 -122.217493   37.772068   \n",
       "\n",
       "   Lon_N_or_E  \n",
       "0 -122.240708  \n",
       "1 -122.263477  \n",
       "2 -122.276894  \n",
       "3 -122.221166  \n",
       "4 -122.217378  "
      ]
     },
     "execution_count": 4,
     "metadata": {},
     "output_type": "execute_result"
    }
   ],
   "source": [
    "traffic.head()"
   ]
  },
  {
   "cell_type": "code",
   "execution_count": 5,
   "metadata": {},
   "outputs": [],
   "source": [
    "# Drop columns that are unneccessary\n",
    "traffic.drop(columns = ['OBJECTID','District','Route','County', 'Postmile', \n",
    "                        'Back_pk_h', 'Back_pk_m', 'Ahead_pk_h', 'Ahead_pk_m'], inplace=True)"
   ]
  },
  {
   "cell_type": "code",
   "execution_count": 6,
   "metadata": {},
   "outputs": [
    {
     "data": {
      "text/html": [
       "<div>\n",
       "<style scoped>\n",
       "    .dataframe tbody tr th:only-of-type {\n",
       "        vertical-align: middle;\n",
       "    }\n",
       "\n",
       "    .dataframe tbody tr th {\n",
       "        vertical-align: top;\n",
       "    }\n",
       "\n",
       "    .dataframe thead th {\n",
       "        text-align: right;\n",
       "    }\n",
       "</style>\n",
       "<table border=\"1\" class=\"dataframe\">\n",
       "  <thead>\n",
       "    <tr style=\"text-align: right;\">\n",
       "      <th></th>\n",
       "      <th>Descriptn</th>\n",
       "      <th>Back_AADT</th>\n",
       "      <th>Ahead_AADT</th>\n",
       "      <th>Lat_S_or_W</th>\n",
       "      <th>Lon_S_or_W</th>\n",
       "      <th>Lat_N_or_E</th>\n",
       "      <th>Lon_N_or_E</th>\n",
       "    </tr>\n",
       "  </thead>\n",
       "  <tbody>\n",
       "    <tr>\n",
       "      <td>0</td>\n",
       "      <td>ALAMEDA, BROADWAY/ ENCINAL AVENUE</td>\n",
       "      <td>12300</td>\n",
       "      <td>8700</td>\n",
       "      <td>37.760570</td>\n",
       "      <td>-122.240825</td>\n",
       "      <td>37.760576</td>\n",
       "      <td>-122.240708</td>\n",
       "    </tr>\n",
       "    <tr>\n",
       "      <td>1</td>\n",
       "      <td>ALAMEDA, CENTRAL AVENUE/ SHERMAN STREET</td>\n",
       "      <td>6200</td>\n",
       "      <td>9500</td>\n",
       "      <td>37.770910</td>\n",
       "      <td>-122.263477</td>\n",
       "      <td>37.770910</td>\n",
       "      <td>-122.263477</td>\n",
       "    </tr>\n",
       "    <tr>\n",
       "      <td>2</td>\n",
       "      <td>JCT. RTE. 260 NORTH</td>\n",
       "      <td>17000</td>\n",
       "      <td>0</td>\n",
       "      <td>37.771459</td>\n",
       "      <td>-122.276894</td>\n",
       "      <td>37.771459</td>\n",
       "      <td>-122.276894</td>\n",
       "    </tr>\n",
       "    <tr>\n",
       "      <td>3</td>\n",
       "      <td>OAKLAND, JCT. RTE. 880</td>\n",
       "      <td>0</td>\n",
       "      <td>22900</td>\n",
       "      <td>37.769482</td>\n",
       "      <td>-122.221232</td>\n",
       "      <td>37.769397</td>\n",
       "      <td>-122.221166</td>\n",
       "    </tr>\n",
       "    <tr>\n",
       "      <td>4</td>\n",
       "      <td>OAKLAND, EAST 12TH STREET</td>\n",
       "      <td>22900</td>\n",
       "      <td>16400</td>\n",
       "      <td>37.772128</td>\n",
       "      <td>-122.217493</td>\n",
       "      <td>37.772068</td>\n",
       "      <td>-122.217378</td>\n",
       "    </tr>\n",
       "  </tbody>\n",
       "</table>\n",
       "</div>"
      ],
      "text/plain": [
       "                                 Descriptn  Back_AADT  Ahead_AADT  Lat_S_or_W  \\\n",
       "0        ALAMEDA, BROADWAY/ ENCINAL AVENUE      12300        8700   37.760570   \n",
       "1  ALAMEDA, CENTRAL AVENUE/ SHERMAN STREET       6200        9500   37.770910   \n",
       "2                      JCT. RTE. 260 NORTH      17000           0   37.771459   \n",
       "3                   OAKLAND, JCT. RTE. 880          0       22900   37.769482   \n",
       "4                OAKLAND, EAST 12TH STREET      22900       16400   37.772128   \n",
       "\n",
       "   Lon_S_or_W  Lat_N_or_E  Lon_N_or_E  \n",
       "0 -122.240825   37.760576 -122.240708  \n",
       "1 -122.263477   37.770910 -122.263477  \n",
       "2 -122.276894   37.771459 -122.276894  \n",
       "3 -122.221232   37.769397 -122.221166  \n",
       "4 -122.217493   37.772068 -122.217378  "
      ]
     },
     "execution_count": 6,
     "metadata": {},
     "output_type": "execute_result"
    }
   ],
   "source": [
    "traffic.head()"
   ]
  },
  {
   "cell_type": "code",
   "execution_count": 177,
   "metadata": {},
   "outputs": [
    {
     "data": {
      "text/plain": [
       "(95, 7)"
      ]
     },
     "execution_count": 177,
     "metadata": {},
     "output_type": "execute_result"
    }
   ],
   "source": [
    "traffic.shape"
   ]
  },
  {
   "cell_type": "markdown",
   "metadata": {},
   "source": [
    "## Use address to get the latitude and longitude of each junction using Open Street Maps\n",
    "#### OSM is a reverse geocoding tool that to search OSM data by name and address to generate synthetic addresses of OSM points (rough latitude and longitude)"
   ]
  },
  {
   "cell_type": "code",
   "execution_count": 131,
   "metadata": {},
   "outputs": [],
   "source": [
    "geolocator = Nominatim(user_agent=\"specify_your_app_name_here\")"
   ]
  },
  {
   "cell_type": "code",
   "execution_count": 133,
   "metadata": {},
   "outputs": [],
   "source": [
    "traffic_lat_long = []\n",
    "for i in range(len(traffic)):\n",
    "    location = geolocator.geocode(traffic.iloc[i,2])\n",
    "#    back_aadt = traffic.loc[i,3]\n",
    "#    front_aadt = traffic.loc[i,4]\n",
    "#    print(back_aadt)\n",
    "#    print(front_aadt)\n",
    "    if location is not None:\n",
    "        traffic_lat_long.append([location.latitude, location.longitude, location.address])\n",
    "    "
   ]
  },
  {
   "cell_type": "code",
   "execution_count": 166,
   "metadata": {},
   "outputs": [],
   "source": [
    "traffic_lat_long = []\n",
    "for i in range(len(traffic)):\n",
    "    location = geolocator.geocode(traffic.iloc[i,2])\n",
    "    if location is not None:\n",
    "        try:\n",
    "            traffic_lat_long.append([location.latitude, location.longitude, location.address, traffic.iloc[i,3], traffic.iloc[i,4]])\n",
    "        except:\n",
    "            print(i)"
   ]
  },
  {
   "cell_type": "code",
   "execution_count": 160,
   "metadata": {},
   "outputs": [],
   "source": [
    "location = geolocator.geocode(\"FREMONT,PASEO PADRE PARKWAY\")\n"
   ]
  },
  {
   "cell_type": "code",
   "execution_count": 161,
   "metadata": {},
   "outputs": [
    {
     "data": {
      "text/plain": [
       "'Paseo Padre Parkway, Snoboy, Warm Springs District, Fremont, Alameda County, California, 94539, United States of America'"
      ]
     },
     "execution_count": 161,
     "metadata": {},
     "output_type": "execute_result"
    }
   ],
   "source": [
    "location.address"
   ]
  },
  {
   "cell_type": "code",
   "execution_count": 162,
   "metadata": {},
   "outputs": [
    {
     "name": "stdout",
     "output_type": "stream",
     "text": [
      "(37.5058891, -121.9279452)\n"
     ]
    }
   ],
   "source": [
    "print((location.latitude, location.longitude))"
   ]
  },
  {
   "cell_type": "code",
   "execution_count": null,
   "metadata": {},
   "outputs": [],
   "source": [
    "print(location.raw)"
   ]
  },
  {
   "cell_type": "code",
   "execution_count": null,
   "metadata": {},
   "outputs": [],
   "source": [
    "##"
   ]
  }
 ],
 "metadata": {
  "kernelspec": {
   "display_name": "Python 3",
   "language": "python",
   "name": "python3"
  },
  "language_info": {
   "codemirror_mode": {
    "name": "ipython",
    "version": 3
   },
   "file_extension": ".py",
   "mimetype": "text/x-python",
   "name": "python",
   "nbconvert_exporter": "python",
   "pygments_lexer": "ipython3",
   "version": "3.7.4"
  }
 },
 "nbformat": 4,
 "nbformat_minor": 2
}
