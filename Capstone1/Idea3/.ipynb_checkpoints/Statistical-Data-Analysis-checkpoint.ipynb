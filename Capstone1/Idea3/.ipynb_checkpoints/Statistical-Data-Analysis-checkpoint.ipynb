{
 "cells": [
  {
   "cell_type": "markdown",
   "metadata": {},
   "source": [
    "Possible questions to check?\n",
    "\n",
    "Since we have a lot of features due to different types of facilities located very close to each other, the first test we want to do is to determine if there are strong correlations between pairs of independent variables or between an independent and the dependent variable. \n",
    "\n",
    "To perform this test, we calculate the Variation Inflation Factor (VIF). The VIF is a measure of colinearity among predictor variables within a multiple regression. It is calculated by taking the the ratio of the variance of all a given model's betas divide by the variane of a single beta if it were fit alone.\n",
    "\n",
    "\n",
    "We then remove the features that are colinear by taking the average of distances between different facilities that are colinear. \n",
    "\n",
    "Next, we plot a heat map between the different predictor variables, and the target variable. \n",
    "\n",
    "\n",
    "Followng that, we identify the variables that are particularly significant by doing a significance test on the correlation coefficient. \n",
    "\n",
    "\n",
    "\n",
    "4) What are the most appropriate tests to use to analyze these relationships?\n",
    "\n"
   ]
  },
  {
   "cell_type": "code",
   "execution_count": 20,
   "metadata": {},
   "outputs": [],
   "source": [
    "import pandas as pd\n",
    "import numpy as np\n",
    "import matplotlib.pyplot as plt\n",
    "import descartes\n",
    "import geopandas as gpd\n",
    "from shapely.geometry import Point, Polygon\n",
    "from shapely.ops import nearest_points\n",
    "\n",
    "import seaborn as sns\n",
    "\n",
    "from mpl_toolkits.axes_grid1 import make_axes_locatable\n",
    "\n",
    "import math\n",
    "\n",
    "from scipy.stats import pearsonr\n",
    "\n",
    "import time\n",
    "\n",
    "\n",
    "from scipy.stats import boxcox\n",
    "\n",
    "\n",
    "\n",
    "from patsy import dmatrices\n",
    "import statsmodels.api as sm\n",
    "from statsmodels.stats.outliers_influence import variance_inflation_factor\n",
    "\n",
    "\n",
    "from matplotlib import cm\n",
    "\n",
    "import matplotlib.lines as mlines\n",
    "\n",
    "sns.set(style = 'whitegrid')\n",
    "sns.set_palette('bright')\n",
    "%matplotlib inline"
   ]
  },
  {
   "cell_type": "markdown",
   "metadata": {},
   "source": [
    "<b> <font size =5> Variation Inflation Factor Scores </b> </font>"
   ]
  },
  {
   "cell_type": "code",
   "execution_count": 104,
   "metadata": {},
   "outputs": [],
   "source": [
    "## Reading input data\n",
    "BC = pd.read_csv(\"Data/BC_input.csv\")\n",
    "NO2 = pd.read_csv(\"Data/NO2_input.csv\")"
   ]
  },
  {
   "cell_type": "code",
   "execution_count": 105,
   "metadata": {},
   "outputs": [],
   "source": [
    "#Convert columns to non-numeric \n",
    "BC = BC._get_numeric_data() #drop non-numeric cols\n",
    "NO2 = NO2._get_numeric_data() #drop non-numeric cols"
   ]
  },
  {
   "cell_type": "code",
   "execution_count": 106,
   "metadata": {},
   "outputs": [],
   "source": [
    "# Drop first column\n",
    "BC.drop(BC.columns[0], axis=1, inplace=True)\n",
    "NO2.drop(NO2.columns[0], axis=1, inplace=True)"
   ]
  },
  {
   "cell_type": "code",
   "execution_count": 110,
   "metadata": {},
   "outputs": [],
   "source": [
    "BC.rename(columns = {'BC Value': 'BC_Value'}, inplace = True)"
   ]
  },
  {
   "cell_type": "markdown",
   "metadata": {},
   "source": [
    "<b> <font size = 4> Step 1: Set up a multiple regression model </b> </font>"
   ]
  },
  {
   "cell_type": "code",
   "execution_count": 112,
   "metadata": {},
   "outputs": [],
   "source": [
    "features = []\n",
    "for i in range(1, 95):\n",
    "    features.append(\"Q\" + \"(\" + \"'\" + (str(BC.columns[i])) + \"'\" + \")\")\n",
    "\n",
    "features = ' + '.join(features)\n",
    "    \n",
    "# get y and X dataframes based on this regression:\n",
    "y, X = dmatrices('BC_Value ~' + features, BC, return_type='dataframe')    \n"
   ]
  },
  {
   "cell_type": "markdown",
   "metadata": {},
   "source": [
    "<b> <font size = 4> Step 2: Calculate VIFs  </b> </font>"
   ]
  },
  {
   "cell_type": "code",
   "execution_count": 116,
   "metadata": {},
   "outputs": [],
   "source": [
    "# For each X, calculate VIF and save in dataframe\n",
    "vif = pd.DataFrame()\n",
    "vif[\"VIF Factor\"] = [variance_inflation_factor(X.values, i) for i in range(X.shape[1])]\n",
    "vif[\"features\"] = X.columns"
   ]
  },
  {
   "cell_type": "markdown",
   "metadata": {},
   "source": [
    "<b> <font size = 4> Step 3: Inspect VIFs  </b> </font>"
   ]
  },
  {
   "cell_type": "code",
   "execution_count": 120,
   "metadata": {},
   "outputs": [],
   "source": [
    "vif_df = vif.round(1)"
   ]
  },
  {
   "cell_type": "code",
   "execution_count": 124,
   "metadata": {},
   "outputs": [
    {
     "data": {
      "text/html": [
       "<div>\n",
       "<style scoped>\n",
       "    .dataframe tbody tr th:only-of-type {\n",
       "        vertical-align: middle;\n",
       "    }\n",
       "\n",
       "    .dataframe tbody tr th {\n",
       "        vertical-align: top;\n",
       "    }\n",
       "\n",
       "    .dataframe thead th {\n",
       "        text-align: right;\n",
       "    }\n",
       "</style>\n",
       "<table border=\"1\" class=\"dataframe\">\n",
       "  <thead>\n",
       "    <tr style=\"text-align: right;\">\n",
       "      <th></th>\n",
       "      <th>VIF Factor</th>\n",
       "      <th>features</th>\n",
       "    </tr>\n",
       "  </thead>\n",
       "  <tbody>\n",
       "    <tr>\n",
       "      <td>45</td>\n",
       "      <td>1.433351e+06</td>\n",
       "      <td>Q('17244511-Retail-Res-high_dist')</td>\n",
       "    </tr>\n",
       "    <tr>\n",
       "      <td>46</td>\n",
       "      <td>5.487402e+05</td>\n",
       "      <td>Q('17250611-Retail-Res-high_dist')</td>\n",
       "    </tr>\n",
       "    <tr>\n",
       "      <td>47</td>\n",
       "      <td>8.034968e+12</td>\n",
       "      <td>Q('18128911-Retail-Res-high_dist')</td>\n",
       "    </tr>\n",
       "    <tr>\n",
       "      <td>48</td>\n",
       "      <td>3.160421e+13</td>\n",
       "      <td>Q('18134411-Misc-high_dist')</td>\n",
       "    </tr>\n",
       "    <tr>\n",
       "      <td>49</td>\n",
       "      <td>4.748697e+05</td>\n",
       "      <td>Q('18135311-Transportation-high_dist')</td>\n",
       "    </tr>\n",
       "    <tr>\n",
       "      <td>50</td>\n",
       "      <td>7.078805e+09</td>\n",
       "      <td>Q('18135811-Retail-Res-high_dist')</td>\n",
       "    </tr>\n",
       "    <tr>\n",
       "      <td>51</td>\n",
       "      <td>8.341390e+04</td>\n",
       "      <td>Q('18492711-Retail-Res-high_dist')</td>\n",
       "    </tr>\n",
       "    <tr>\n",
       "      <td>52</td>\n",
       "      <td>3.280971e+05</td>\n",
       "      <td>Q('18697111-Retail-Res-high_dist')</td>\n",
       "    </tr>\n",
       "    <tr>\n",
       "      <td>53</td>\n",
       "      <td>8.620839e+09</td>\n",
       "      <td>Q('18776211-Manufacturing-high_dist')</td>\n",
       "    </tr>\n",
       "    <tr>\n",
       "      <td>54</td>\n",
       "      <td>1.371284e+09</td>\n",
       "      <td>Q('18778911-Retail-Res-high_dist')</td>\n",
       "    </tr>\n",
       "    <tr>\n",
       "      <td>55</td>\n",
       "      <td>3.427631e+06</td>\n",
       "      <td>Q('18782611-Waste-high_dist')</td>\n",
       "    </tr>\n",
       "    <tr>\n",
       "      <td>56</td>\n",
       "      <td>1.538314e+06</td>\n",
       "      <td>Q('18787011-Manufacturing-high_dist')</td>\n",
       "    </tr>\n",
       "    <tr>\n",
       "      <td>57</td>\n",
       "      <td>1.569190e+07</td>\n",
       "      <td>Q('193511-ConcretePlant-high_dist')</td>\n",
       "    </tr>\n",
       "    <tr>\n",
       "      <td>58</td>\n",
       "      <td>3.695300e+05</td>\n",
       "      <td>Q('200611-Retail-Res-high_dist')</td>\n",
       "    </tr>\n",
       "    <tr>\n",
       "      <td>59</td>\n",
       "      <td>1.732154e+14</td>\n",
       "      <td>Q('203711-Retail-Res-high_dist')</td>\n",
       "    </tr>\n",
       "    <tr>\n",
       "      <td>60</td>\n",
       "      <td>2.087610e+04</td>\n",
       "      <td>Q('310211-Retail-Res-high_dist')</td>\n",
       "    </tr>\n",
       "    <tr>\n",
       "      <td>61</td>\n",
       "      <td>3.583846e+06</td>\n",
       "      <td>Q('310411-Retail-Res-high_dist')</td>\n",
       "    </tr>\n",
       "    <tr>\n",
       "      <td>62</td>\n",
       "      <td>2.327739e+09</td>\n",
       "      <td>Q('338911-Retail-Res-high_dist')</td>\n",
       "    </tr>\n",
       "    <tr>\n",
       "      <td>63</td>\n",
       "      <td>2.352785e+06</td>\n",
       "      <td>Q('340611-FoodPlant-high_dist')</td>\n",
       "    </tr>\n",
       "    <tr>\n",
       "      <td>64</td>\n",
       "      <td>2.443617e+05</td>\n",
       "      <td>Q('343011-FoodPlant-high_dist')</td>\n",
       "    </tr>\n",
       "    <tr>\n",
       "      <td>65</td>\n",
       "      <td>5.492195e+13</td>\n",
       "      <td>Q('375111-Eateries-high_dist')</td>\n",
       "    </tr>\n",
       "    <tr>\n",
       "      <td>66</td>\n",
       "      <td>1.196918e+06</td>\n",
       "      <td>Q('379511-WWTP-high_dist')</td>\n",
       "    </tr>\n",
       "    <tr>\n",
       "      <td>67</td>\n",
       "      <td>9.354368e+06</td>\n",
       "      <td>Q('380611-Manufacturing-high_dist')</td>\n",
       "    </tr>\n",
       "    <tr>\n",
       "      <td>68</td>\n",
       "      <td>5.176930e+04</td>\n",
       "      <td>Q('382111-Foundaries-high_dist')</td>\n",
       "    </tr>\n",
       "    <tr>\n",
       "      <td>69</td>\n",
       "      <td>4.066200e+03</td>\n",
       "      <td>Q('382911-Misc-high_dist')</td>\n",
       "    </tr>\n",
       "    <tr>\n",
       "      <td>70</td>\n",
       "      <td>1.526644e+14</td>\n",
       "      <td>Q('3963311-Foundaries-high_dist')</td>\n",
       "    </tr>\n",
       "    <tr>\n",
       "      <td>71</td>\n",
       "      <td>5.632853e+06</td>\n",
       "      <td>Q('3963411-Manufacturing-high_dist')</td>\n",
       "    </tr>\n",
       "    <tr>\n",
       "      <td>72</td>\n",
       "      <td>1.009314e+06</td>\n",
       "      <td>Q('400211-Retail-Res-high_dist')</td>\n",
       "    </tr>\n",
       "    <tr>\n",
       "      <td>73</td>\n",
       "      <td>6.526597e+05</td>\n",
       "      <td>Q('400311-Retail-Res-high_dist')</td>\n",
       "    </tr>\n",
       "    <tr>\n",
       "      <td>74</td>\n",
       "      <td>1.429714e+14</td>\n",
       "      <td>Q('405311-Foundaries-high_dist')</td>\n",
       "    </tr>\n",
       "    <tr>\n",
       "      <td>75</td>\n",
       "      <td>9.601803e+05</td>\n",
       "      <td>Q('444911-Transportation-high_dist')</td>\n",
       "    </tr>\n",
       "    <tr>\n",
       "      <td>76</td>\n",
       "      <td>3.602393e+08</td>\n",
       "      <td>Q('445511-Manufacturing-high_dist')</td>\n",
       "    </tr>\n",
       "    <tr>\n",
       "      <td>77</td>\n",
       "      <td>1.238968e+10</td>\n",
       "      <td>Q('448011-Retail-Res-high_dist')</td>\n",
       "    </tr>\n",
       "    <tr>\n",
       "      <td>78</td>\n",
       "      <td>1.518021e+05</td>\n",
       "      <td>Q('450311-Retail-Res-high_dist')</td>\n",
       "    </tr>\n",
       "    <tr>\n",
       "      <td>79</td>\n",
       "      <td>7.633220e+13</td>\n",
       "      <td>Q('477811-ConcretePlant-high_dist')</td>\n",
       "    </tr>\n",
       "    <tr>\n",
       "      <td>80</td>\n",
       "      <td>1.004522e+06</td>\n",
       "      <td>Q('512911-FoodPlant-high_dist')</td>\n",
       "    </tr>\n",
       "    <tr>\n",
       "      <td>81</td>\n",
       "      <td>2.243912e+07</td>\n",
       "      <td>Q('515411-Manufacturing-high_dist')</td>\n",
       "    </tr>\n",
       "    <tr>\n",
       "      <td>82</td>\n",
       "      <td>7.246812e+05</td>\n",
       "      <td>Q('771711-Eateries-high_dist')</td>\n",
       "    </tr>\n",
       "    <tr>\n",
       "      <td>83</td>\n",
       "      <td>6.819136e+05</td>\n",
       "      <td>Q('772011-EGen-high_dist')</td>\n",
       "    </tr>\n",
       "    <tr>\n",
       "      <td>84</td>\n",
       "      <td>1.915484e+07</td>\n",
       "      <td>Q('773811-Manufacturing-high_dist')</td>\n",
       "    </tr>\n",
       "    <tr>\n",
       "      <td>85</td>\n",
       "      <td>1.637673e+14</td>\n",
       "      <td>Q('7845611-Retail-Res-high_dist')</td>\n",
       "    </tr>\n",
       "    <tr>\n",
       "      <td>86</td>\n",
       "      <td>1.476590e+14</td>\n",
       "      <td>Q('808611-AsphaltPlant-high_dist')</td>\n",
       "    </tr>\n",
       "    <tr>\n",
       "      <td>87</td>\n",
       "      <td>1.155724e+05</td>\n",
       "      <td>Q('808811-FoodPlant-high_dist')</td>\n",
       "    </tr>\n",
       "    <tr>\n",
       "      <td>88</td>\n",
       "      <td>4.500000e+00</td>\n",
       "      <td>Q('Precip')</td>\n",
       "    </tr>\n",
       "    <tr>\n",
       "      <td>89</td>\n",
       "      <td>9.300000e+00</td>\n",
       "      <td>Q('Radiation')</td>\n",
       "    </tr>\n",
       "    <tr>\n",
       "      <td>90</td>\n",
       "      <td>4.000000e+00</td>\n",
       "      <td>Q('Maxtemp')</td>\n",
       "    </tr>\n",
       "    <tr>\n",
       "      <td>91</td>\n",
       "      <td>1.490000e+01</td>\n",
       "      <td>Q('Mintemp')</td>\n",
       "    </tr>\n",
       "    <tr>\n",
       "      <td>92</td>\n",
       "      <td>1.080000e+01</td>\n",
       "      <td>Q('Pressure')</td>\n",
       "    </tr>\n",
       "    <tr>\n",
       "      <td>93</td>\n",
       "      <td>3.700000e+00</td>\n",
       "      <td>Q('Dist')</td>\n",
       "    </tr>\n",
       "    <tr>\n",
       "      <td>94</td>\n",
       "      <td>5.100000e+00</td>\n",
       "      <td>Q('number_intersections')</td>\n",
       "    </tr>\n",
       "  </tbody>\n",
       "</table>\n",
       "</div>"
      ],
      "text/plain": [
       "      VIF Factor                                features\n",
       "45  1.433351e+06      Q('17244511-Retail-Res-high_dist')\n",
       "46  5.487402e+05      Q('17250611-Retail-Res-high_dist')\n",
       "47  8.034968e+12      Q('18128911-Retail-Res-high_dist')\n",
       "48  3.160421e+13            Q('18134411-Misc-high_dist')\n",
       "49  4.748697e+05  Q('18135311-Transportation-high_dist')\n",
       "50  7.078805e+09      Q('18135811-Retail-Res-high_dist')\n",
       "51  8.341390e+04      Q('18492711-Retail-Res-high_dist')\n",
       "52  3.280971e+05      Q('18697111-Retail-Res-high_dist')\n",
       "53  8.620839e+09   Q('18776211-Manufacturing-high_dist')\n",
       "54  1.371284e+09      Q('18778911-Retail-Res-high_dist')\n",
       "55  3.427631e+06           Q('18782611-Waste-high_dist')\n",
       "56  1.538314e+06   Q('18787011-Manufacturing-high_dist')\n",
       "57  1.569190e+07     Q('193511-ConcretePlant-high_dist')\n",
       "58  3.695300e+05        Q('200611-Retail-Res-high_dist')\n",
       "59  1.732154e+14        Q('203711-Retail-Res-high_dist')\n",
       "60  2.087610e+04        Q('310211-Retail-Res-high_dist')\n",
       "61  3.583846e+06        Q('310411-Retail-Res-high_dist')\n",
       "62  2.327739e+09        Q('338911-Retail-Res-high_dist')\n",
       "63  2.352785e+06         Q('340611-FoodPlant-high_dist')\n",
       "64  2.443617e+05         Q('343011-FoodPlant-high_dist')\n",
       "65  5.492195e+13          Q('375111-Eateries-high_dist')\n",
       "66  1.196918e+06              Q('379511-WWTP-high_dist')\n",
       "67  9.354368e+06     Q('380611-Manufacturing-high_dist')\n",
       "68  5.176930e+04        Q('382111-Foundaries-high_dist')\n",
       "69  4.066200e+03              Q('382911-Misc-high_dist')\n",
       "70  1.526644e+14       Q('3963311-Foundaries-high_dist')\n",
       "71  5.632853e+06    Q('3963411-Manufacturing-high_dist')\n",
       "72  1.009314e+06        Q('400211-Retail-Res-high_dist')\n",
       "73  6.526597e+05        Q('400311-Retail-Res-high_dist')\n",
       "74  1.429714e+14        Q('405311-Foundaries-high_dist')\n",
       "75  9.601803e+05    Q('444911-Transportation-high_dist')\n",
       "76  3.602393e+08     Q('445511-Manufacturing-high_dist')\n",
       "77  1.238968e+10        Q('448011-Retail-Res-high_dist')\n",
       "78  1.518021e+05        Q('450311-Retail-Res-high_dist')\n",
       "79  7.633220e+13     Q('477811-ConcretePlant-high_dist')\n",
       "80  1.004522e+06         Q('512911-FoodPlant-high_dist')\n",
       "81  2.243912e+07     Q('515411-Manufacturing-high_dist')\n",
       "82  7.246812e+05          Q('771711-Eateries-high_dist')\n",
       "83  6.819136e+05              Q('772011-EGen-high_dist')\n",
       "84  1.915484e+07     Q('773811-Manufacturing-high_dist')\n",
       "85  1.637673e+14       Q('7845611-Retail-Res-high_dist')\n",
       "86  1.476590e+14      Q('808611-AsphaltPlant-high_dist')\n",
       "87  1.155724e+05         Q('808811-FoodPlant-high_dist')\n",
       "88  4.500000e+00                             Q('Precip')\n",
       "89  9.300000e+00                          Q('Radiation')\n",
       "90  4.000000e+00                            Q('Maxtemp')\n",
       "91  1.490000e+01                            Q('Mintemp')\n",
       "92  1.080000e+01                           Q('Pressure')\n",
       "93  3.700000e+00                               Q('Dist')\n",
       "94  5.100000e+00               Q('number_intersections')"
      ]
     },
     "execution_count": 124,
     "metadata": {},
     "output_type": "execute_result"
    }
   ],
   "source": [
    "vif_df.tail(50)"
   ]
  },
  {
   "cell_type": "code",
   "execution_count": null,
   "metadata": {},
   "outputs": [],
   "source": []
  },
  {
   "cell_type": "markdown",
   "metadata": {},
   "source": [
    "<b> <font size =5> Plot Heat Map of Correlation Between Features</b> </font>"
   ]
  },
  {
   "cell_type": "code",
   "execution_count": null,
   "metadata": {},
   "outputs": [],
   "source": []
  },
  {
   "cell_type": "code",
   "execution_count": null,
   "metadata": {},
   "outputs": [],
   "source": [
    "BC.drop(columns = ['Unnamed: 0'], inplace=True)\n",
    "NO2.drop(columns = ['Unnamed: 0'], inplace=True)"
   ]
  },
  {
   "cell_type": "code",
   "execution_count": null,
   "metadata": {},
   "outputs": [],
   "source": [
    "### Plot a heat map - Black Carbon\n",
    "corr_BC = BC.corr()\n",
    "arr_corr_BC= corr_BC.as_matrix()"
   ]
  },
  {
   "cell_type": "code",
   "execution_count": null,
   "metadata": {},
   "outputs": [],
   "source": [
    "### Plot a heat map - Nitrogen Dioxide\n",
    "corr_NO2 = NO2.corr()\n",
    "arr_corr_NO2= corr_NO2.as_matrix()"
   ]
  },
  {
   "cell_type": "code",
   "execution_count": null,
   "metadata": {},
   "outputs": [],
   "source": [
    "print(plt.get_backend())\n",
    "\n",
    "# close any existing plots\n",
    "plt.close(\"all\")\n",
    "\n",
    "# mask out the top triangle\n",
    "arr_corr_BC[np.triu_indices_from(arr_corr_BC)] = np.nan\n",
    "\n",
    "fig, ax = plt.subplots(figsize=(50, 50))\n",
    "\n",
    "hm = sns.heatmap(arr_corr_BC, cbar=True, vmin = -1, vmax = 1, center = 0,\n",
    "                 fmt='.2f', annot_kws={'size': 8}, annot=True, \n",
    "                 square=False, cmap = 'coolwarm')\n",
    "#cmap=plt.cm.Blues\n",
    "\n",
    "ticks = np.arange(corr_BC.shape[0]) + 0.5\n",
    "ax.set_xticks(ticks)\n",
    "ax.set_xticklabels(corr_BC.columns, rotation=90, fontsize=20)\n",
    "ax.set_yticks(ticks)\n",
    "ax.set_yticklabels(corr_BC.index, rotation=360, fontsize=20)\n",
    "\n",
    "ax.set_title('Correlation Matrix - Black Carbon', fontsize  = 30)\n",
    "plt.tight_layout()\n",
    "#plt.savefig(\"corr_matrix_incl_anno_double.png\", dpi=300)"
   ]
  },
  {
   "cell_type": "code",
   "execution_count": null,
   "metadata": {},
   "outputs": [],
   "source": [
    "print(plt.get_backend())\n",
    "\n",
    "# close any existing plots\n",
    "plt.close(\"all\")\n",
    "\n",
    "# mask out the top triangle\n",
    "arr_corr_NO2[np.triu_indices_from(arr_corr_NO2)] = np.nan\n",
    "\n",
    "fig, ax = plt.subplots(figsize=(50, 50))\n",
    "\n",
    "hm = sns.heatmap(arr_corr_NO2, cbar=True, vmin = -1, vmax = 1, center = 0,\n",
    "                 fmt='.2f', annot_kws={'size': 8}, annot=True, \n",
    "                 square=False, cmap = 'coolwarm')\n",
    "#cmap=plt.cm.Blues\n",
    "\n",
    "ticks = np.arange(corr_NO2.shape[0]) + 0.5\n",
    "ax.set_xticks(ticks)\n",
    "ax.set_xticklabels(corr_NO2.columns, rotation=90, fontsize=20)\n",
    "ax.set_yticks(ticks)\n",
    "ax.set_yticklabels(corr_NO2.index, rotation=360, fontsize=20)\n",
    "\n",
    "ax.set_title('Correlation Matrix - Nitrogen Oxide', fontsize  = 30)\n",
    "plt.tight_layout()\n",
    "#plt.savefig(\"corr_matrix_incl_anno_double.png\", dpi=300)"
   ]
  },
  {
   "cell_type": "markdown",
   "metadata": {},
   "source": [
    "### Dropping columns that have a correlation above 0.9\n",
    "\n",
    "columns = np.full((corr_BC.shape[0],), True, dtype=bool)\n",
    "for i in range(corr_BC.shape[0]):\n",
    "    for j in range(i+1, corr_BC.shape[0]):\n",
    "        if corr_BC.iloc[i,j] >= 0.9:\n",
    "            if columns[j]:\n",
    "                columns[j] = False\n",
    "\n",
    "selected_columns = BC.columns[columns]\n",
    "#data = data[selected_columns]"
   ]
  },
  {
   "cell_type": "markdown",
   "metadata": {},
   "source": [
    "<b> T-test to determine whether is a significant difference between the means of two groups.</b>\n",
    "\n",
    "1) Is there a significant difference in BC concentration for distance to highways > 4 km and less than 4 km?\n",
    "1) Is there a significant difference in NO2 concentration for distance to highways > 4 km and less than 4 km?"
   ]
  },
  {
   "cell_type": "markdown",
   "metadata": {},
   "source": [
    "<b> <font size = 5> Correlation coefficient and Testing the Significance of the Correlation Coefficient </b> </font>"
   ]
  },
  {
   "cell_type": "markdown",
   "metadata": {},
   "source": [
    "We perform a hypothesis test of the “significance of the correlation coefficient” to decide whether the linear relationship in the data is strong enough to use to model the relationship. Since we have data for the entire population, we can use the population correlation coefficient. "
   ]
  },
  {
   "cell_type": "markdown",
   "metadata": {},
   "source": [
    "Null Hypothesis: H$_{0}$: ρ = 0\n",
    "\n",
    "Alternate Hypothesis: H$_1$: ρ ≠ 0\n",
    "\n",
    "\n",
    "ρ = population correlation coefficient"
   ]
  },
  {
   "cell_type": "markdown",
   "metadata": {},
   "source": [
    "Null Hypothesis H$_0$: The population correlation coefficient <b>is not</b> significantly different from zero. There <b>is not</b> a significant linear relationship(correlation) between x and y in the population.\n",
    "\n",
    "Alternate Hypothesis H$_1$: The population correlation coefficient is significantly different from zero. There <b>is a significant linear relationship</b> (correlation) between x and y in the population.\n"
   ]
  },
  {
   "cell_type": "code",
   "execution_count": null,
   "metadata": {},
   "outputs": [],
   "source": [
    "pearsonr(BC['BC Value'],BC['Precip'])"
   ]
  },
  {
   "cell_type": "code",
   "execution_count": null,
   "metadata": {},
   "outputs": [],
   "source": [
    "import pingouin as pg\n",
    "BC_pearsonr = pg.pairwise_corr(BC, method='pearson')"
   ]
  },
  {
   "cell_type": "code",
   "execution_count": null,
   "metadata": {},
   "outputs": [],
   "source": [
    "BC_pearsonr.head()"
   ]
  },
  {
   "cell_type": "code",
   "execution_count": null,
   "metadata": {},
   "outputs": [],
   "source": [
    "#### Estimating the Correlation Coefficient (r), 95% Confidence Interval for r,  R2 and p-value "
   ]
  },
  {
   "cell_type": "code",
   "execution_count": null,
   "metadata": {},
   "outputs": [],
   "source": [
    "BC_pearsonr_BC = BC_pearsonr[BC_pearsonr.X == 'BC Value']"
   ]
  },
  {
   "cell_type": "code",
   "execution_count": null,
   "metadata": {},
   "outputs": [],
   "source": [
    "BC_pearsonr_BC.head(100)"
   ]
  },
  {
   "cell_type": "code",
   "execution_count": null,
   "metadata": {},
   "outputs": [],
   "source": [
    "## Determine the p-value that is above the level of signifiance alpha of 0.05"
   ]
  },
  {
   "cell_type": "code",
   "execution_count": null,
   "metadata": {},
   "outputs": [],
   "source": [
    "BC_pearsonr[BC_pearsonr['p-unc'] >= 0.005 ]"
   ]
  },
  {
   "cell_type": "markdown",
   "metadata": {},
   "source": [
    "The above cell indicates that only '10466511-FoodPlant-high_dist' has a p-value that is larger than the significance level α, thus we fail to reject the null hypothesis. Thus, we conclude that there is not enough evidence at the  α level to conclude that there is a linear relationship in the population between the BC value and response '10466511-FoodPlant-high_dist'."
   ]
  },
  {
   "cell_type": "code",
   "execution_count": null,
   "metadata": {},
   "outputs": [],
   "source": [
    "BC_pearsonr.describe()"
   ]
  },
  {
   "cell_type": "code",
   "execution_count": null,
   "metadata": {},
   "outputs": [],
   "source": [
    "Potential questions: \n",
    "    \n",
    "    1) What is the probability of observing a concentration that is higher than the ambient standards for Black Carbon and NO2? "
   ]
  },
  {
   "cell_type": "code",
   "execution_count": null,
   "metadata": {},
   "outputs": [],
   "source": [
    " - Linear regression for stats\n",
    "    - VIF scores - gives a score between all feeatures/predictor variables\n",
    "    - Then do a linear regression \n",
    "    - Combine two facilities that are close to each other with similar VIF scores and take average distance\n",
    "    - \n",
    "    "
   ]
  },
  {
   "cell_type": "code",
   "execution_count": null,
   "metadata": {},
   "outputs": [],
   "source": [
    "### References\n",
    "### https://etav.github.io/python/vif_factor_python.html"
   ]
  },
  {
   "cell_type": "code",
   "execution_count": null,
   "metadata": {},
   "outputs": [],
   "source": []
  },
  {
   "cell_type": "code",
   "execution_count": null,
   "metadata": {},
   "outputs": [],
   "source": []
  }
 ],
 "metadata": {
  "kernelspec": {
   "display_name": "Python 3",
   "language": "python",
   "name": "python3"
  },
  "language_info": {
   "codemirror_mode": {
    "name": "ipython",
    "version": 3
   },
   "file_extension": ".py",
   "mimetype": "text/x-python",
   "name": "python",
   "nbconvert_exporter": "python",
   "pygments_lexer": "ipython3",
   "version": "3.7.4"
  }
 },
 "nbformat": 4,
 "nbformat_minor": 2
}
